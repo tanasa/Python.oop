{
 "cells": [
  {
   "cell_type": "code",
   "execution_count": null,
   "metadata": {},
   "outputs": [],
   "source": [
    "#  HigherOrLower"
   ]
  },
  {
   "cell_type": "code",
   "execution_count": 1,
   "metadata": {},
   "outputs": [],
   "source": [
    "import os\n",
    "import sys\n",
    "import random"
   ]
  },
  {
   "cell_type": "code",
   "execution_count": 2,
   "metadata": {},
   "outputs": [],
   "source": [
    "# Card constants\n",
    "SUIT_TUPLE = ('Hearts', 'Clubs', 'Diamonds', 'Spades', )\n",
    "RANK_TUPLE = ('Ace', '2', '3', '4', '5', '6', '7', '8', '9', '10', 'Jack', 'Queen', 'King')\n",
    "\n",
    "# Define the Hierarchy for Tiebreakers\n",
    "TIEBREAKER_HIERARCHY = {'Spades': 4, 'Diamonds': 3, 'Clubs': 2, 'Hearts': 1}"
   ]
  },
  {
   "cell_type": "code",
   "execution_count": null,
   "metadata": {},
   "outputs": [],
   "source": []
  },
  {
   "cell_type": "code",
   "execution_count": 3,
   "metadata": {},
   "outputs": [
    {
     "name": "stdout",
     "output_type": "stream",
     "text": [
      "Welcome to Higher Or Lower\n",
      "You have to choose if the next card to be shown will be higher or lower than the current card.\n",
      "Getting it right adds 20 points, get it wrong and you lose 15 points.\n",
      "You have 50 points to start.\n",
      "\n"
     ]
    }
   ],
   "source": [
    "# Pass in a deck and this function returns a random card from the deck\n",
    "def getCard(deckListIn):\n",
    "    thisCard = deckListIn.pop() # pops one off the top of the deck and returns\n",
    "    return thisCard\n",
    "    \n",
    "# Pass in a deck and this function returns a shuffled copy of the deck\n",
    "def shuffle(deckListIn):\n",
    "    deckListOut = deckListIn.copy()  # make a copy of the starting deck\n",
    "    random.shuffle(deckListOut)\n",
    "    return deckListOut\n",
    "\n",
    "#  Main code\n",
    "print('Welcome to Higher Or Lower')\n",
    "print('You have to choose if the next card to be shown will be higher or lower than the current card.')\n",
    "print('Getting it right adds 20 points, get it wrong and you lose 15 points.')\n",
    "print('You have 50 points to start.')\n",
    "print()"
   ]
  },
  {
   "cell_type": "code",
   "execution_count": 4,
   "metadata": {},
   "outputs": [],
   "source": [
    "# writing a function that creates the Deck List"
   ]
  },
  {
   "cell_type": "code",
   "execution_count": 5,
   "metadata": {},
   "outputs": [],
   "source": [
    "def DeckList(suit_tuple, rank_tuple):\n",
    "    startingDeckList = []\n",
    "    for suit in suit_tuple:\n",
    "        for thisValue, rank in enumerate(rank_tuple):\n",
    "            cardDict = {'rank':rank, 'suit':suit, 'value':thisValue + 1}\n",
    "            startingDeckList.append(cardDict)\n",
    "\n",
    "    # Adding two Jokers\n",
    "    joker_spades = {'rank': 'Joker', 'suit': 'Spades', 'value': 14}\n",
    "    joker_hearts = {'rank': 'Joker', 'suit': 'Hearts', 'value': 14}\n",
    "    startingDeckList.append(joker_spades)\n",
    "    startingDeckList.append(joker_hearts)\n",
    "    \n",
    "    return startingDeckList"
   ]
  },
  {
   "cell_type": "code",
   "execution_count": 6,
   "metadata": {},
   "outputs": [],
   "source": [
    "NCARDS = 8\n",
    "score = 50"
   ]
  },
  {
   "cell_type": "code",
   "execution_count": null,
   "metadata": {},
   "outputs": [
    {
     "name": "stdout",
     "output_type": "stream",
     "text": [
      "\n",
      "Starting card is: Ace of Hearts\n",
      "\n",
      "Will the next card be higher or lower than the Ace of Hearts?  (enter h or l): h\n",
      "Next card is: 6 of Hearts with a value of 6\n",
      "You got it right!\n",
      "Your score is: 70\n",
      "\n",
      "Your score is: 70\n",
      "\n",
      "Will the next card be higher or lower than the 6 of Hearts?  (enter h or l): l\n",
      "Next card is: 3 of Spades with a value of 3\n",
      "You got it right!\n",
      "Your score is: 90\n",
      "\n",
      "Your score is: 90\n",
      "\n",
      "Will the next card be higher or lower than the 3 of Spades?  (enter h or l): q\n",
      "Next card is: 5 of Spades with a value of 5\n",
      "Sorry, that was incorrect.\n",
      "Your score is: 75\n",
      "\n",
      "Your score is: 75\n",
      "\n",
      "Will the next card be higher or lower than the 5 of Spades?  (enter h or l): s\n",
      "Next card is: 9 of Hearts with a value of 9\n",
      "Sorry, that was incorrect.\n",
      "Your score is: 60\n",
      "\n",
      "Your score is: 60\n",
      "\n",
      "Will the next card be higher or lower than the 9 of Hearts?  (enter h or l): h\n",
      "Next card is: Jack of Spades with a value of 11\n",
      "You got it right!\n",
      "Your score is: 80\n",
      "\n",
      "Your score is: 80\n",
      "\n",
      "Will the next card be higher or lower than the Jack of Spades?  (enter h or l): l\n",
      "Next card is: 4 of Clubs with a value of 4\n",
      "You got it right!\n",
      "Your score is: 100\n",
      "\n",
      "Your score is: 100\n",
      "\n"
     ]
    }
   ],
   "source": [
    "while True:  \n",
    "    print()\n",
    "    startingDeckList = DeckList(SUIT_TUPLE,RANK_TUPLE)\n",
    "    gameDeckList = shuffle(startingDeckList)\n",
    "    currentCardDict = getCard(gameDeckList)\n",
    "    currentCardRank = currentCardDict['rank']\n",
    "    currentCardValue = currentCardDict['value']\n",
    "    currentCardSuit = currentCardDict['suit']    \n",
    "    print('Starting card is:', currentCardRank + ' of ' + currentCardSuit)\n",
    "    print()\n",
    "\n",
    "    for cardNumber in range(NCARDS):   # play one game of this many cards\n",
    "\n",
    "    \n",
    "        answer = input('Will the next card be higher or lower than the ' + \n",
    "                               currentCardRank + ' of ' + \n",
    "                               currentCardSuit + '?  (enter h or l): ')\n",
    "        answer = answer.casefold()      # force lower case\n",
    "    \n",
    "        nextCardDict = getCard(gameDeckList)\n",
    "        # print(nextCardDict)\n",
    "\n",
    "        \n",
    "        nextCardRank = nextCardDict['rank']\n",
    "        nextCardSuit = nextCardDict['suit']\n",
    "        nextCardValue = nextCardDict['value']\n",
    "        print('Next card is:', nextCardRank + ' of ' + nextCardSuit, 'with a value of ' + str(nextCardValue) )\n",
    "\n",
    "        # Determine if the guess is correct\n",
    "        if (answer == 'h' and (nextCardValue > currentCardValue or \n",
    "                                (nextCardValue == currentCardValue and \n",
    "                                 TIEBREAKER_HIERARCHY[nextCardSuit] > TIEBREAKER_HIERARCHY[currentCardSuit]))) or \\\n",
    "           (answer == 'l' and (nextCardValue < currentCardValue or \n",
    "                                (nextCardValue == currentCardValue and \n",
    "                                 TIEBREAKER_HIERARCHY[nextCardSuit] < TIEBREAKER_HIERARCHY[currentCardSuit]))):\n",
    "            print('You got it right!')\n",
    "            score += 20\n",
    "        else:\n",
    "            print('Sorry, that was incorrect.')\n",
    "            score -= 15\n",
    "\n",
    "        # Print the score\n",
    "        print('Your score is:', score)\n",
    "        print()\n",
    "        \n",
    "        print('Your score is:', score)\n",
    "        print()\n",
    "        currentCardRank = nextCardRank\n",
    "        currentCardValue = nextCardValue\n",
    "        currentCardSuit = nextCardSuit\n",
    "\n",
    "    goAgain = input('To play again, press ENTER, or \"q\" to quit: ').strip().lower()\n",
    "    if goAgain == 'q':\n",
    "        break\n",
    "print('OK bye')"
   ]
  },
  {
   "cell_type": "code",
   "execution_count": null,
   "metadata": {},
   "outputs": [],
   "source": []
  },
  {
   "cell_type": "code",
   "execution_count": null,
   "metadata": {},
   "outputs": [],
   "source": []
  }
 ],
 "metadata": {
  "kernelspec": {
   "display_name": "Python 3",
   "language": "python",
   "name": "python3"
  },
  "language_info": {
   "codemirror_mode": {
    "name": "ipython",
    "version": 3
   },
   "file_extension": ".py",
   "mimetype": "text/x-python",
   "name": "python",
   "nbconvert_exporter": "python",
   "pygments_lexer": "ipython3",
   "version": "3.8.10"
  }
 },
 "nbformat": 4,
 "nbformat_minor": 5
}
