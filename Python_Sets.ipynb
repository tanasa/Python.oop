{
 "cells": [
  {
   "cell_type": "code",
   "execution_count": 1,
   "id": "13aab0ba-9491-484b-b5b5-bfac5adbe5d6",
   "metadata": {},
   "outputs": [
    {
     "name": "stdout",
     "output_type": "stream",
     "text": [
      "\n",
      "\n",
      "Python Sets :\n",
      "\n",
      "A set is a collection which is unordered, unchangeable, and unindexed.\n",
      "\n",
      "No duplicate elements. If try to insert the same item again, it overwrites previous one.\n",
      "\n",
      "An unordered collection. When we access all items, they are accessed without any specific order \n",
      "and we cannot access items using indexes as we do in lists.\n",
      "\n",
      "Internally use hashing that makes set efficient for search, insert and delete operations. \n",
      "It gives a major advantage over a list for problems with these operations.\n",
      "\n",
      "Mutable, meaning we can add or remove elements after their creation, \n",
      "the individual elements within the set cannot be changed directly.\n",
      "\n",
      "\n"
     ]
    }
   ],
   "source": [
    "print('''\n",
    "\n",
    "Python Sets :\n",
    "\n",
    "A set is a collection which is unordered, unchangeable, and unindexed.\n",
    "\n",
    "No duplicate elements. If try to insert the same item again, it overwrites previous one.\n",
    "\n",
    "An unordered collection. When we access all items, they are accessed without any specific order \n",
    "and we cannot access items using indexes as we do in lists.\n",
    "\n",
    "Internally use hashing that makes set efficient for search, insert and delete operations. \n",
    "It gives a major advantage over a list for problems with these operations.\n",
    "\n",
    "Mutable, meaning we can add or remove elements after their creation, \n",
    "the individual elements within the set cannot be changed directly.\n",
    "\n",
    "''')"
   ]
  },
  {
   "cell_type": "code",
   "execution_count": 2,
   "id": "739d8229-8972-4a30-9c1f-e288a28b79d9",
   "metadata": {},
   "outputs": [],
   "source": [
    "# https://www.geeksforgeeks.org/sets-in-python/\n",
    "# https://www.w3schools.com/python/python_sets.asp\n",
    "# https://realpython.com/python-sets/\n",
    "# https://docs.python.org/2/library/sets.html"
   ]
  },
  {
   "cell_type": "code",
   "execution_count": null,
   "id": "c8de682e-124d-4b50-9509-a90a77f7bff4",
   "metadata": {},
   "outputs": [],
   "source": []
  },
  {
   "cell_type": "code",
   "execution_count": 3,
   "id": "4a8b5a50-2a3c-451c-a35d-16cb2a8e9269",
   "metadata": {},
   "outputs": [
    {
     "name": "stdout",
     "output_type": "stream",
     "text": [
      "{'apple', 'banana', 'cherry'}\n",
      "{True, 2, 'cherry', 'apple', 'banana'}\n",
      "{False, True, 'cherry', 'apple', 'banana'}\n",
      "{'abc', True, 34, 'male', 40}\n"
     ]
    }
   ],
   "source": [
    "thisset = {\"apple\", \"banana\", \"cherry\"}\n",
    "print(thisset)\n",
    "\n",
    "# The values True and 1 are considered the same value in sets, and are treated as duplicates:\n",
    "\n",
    "thisset = {\"apple\", \"banana\", \"cherry\", True, 1, 2}\n",
    "print(thisset)\n",
    "\n",
    "# The values False and 0 are considered the same value in sets, and are treated as duplicates:\n",
    "\n",
    "thisset = {\"apple\", \"banana\", \"cherry\", False, True, 0}\n",
    "print(thisset)\n",
    "\n",
    "# A set can contain different data types:\n",
    "# A set with strings, integers and boolean values:\n",
    "\n",
    "set1 = {\"abc\", 34, True, 40, \"male\"}\n",
    "print(set1)"
   ]
  },
  {
   "cell_type": "code",
   "execution_count": 4,
   "id": "92b159e8-c044-47f8-9fb4-660e83efdf55",
   "metadata": {},
   "outputs": [
    {
     "name": "stdout",
     "output_type": "stream",
     "text": [
      "apple\n",
      "banana\n",
      "cherry\n"
     ]
    }
   ],
   "source": [
    "# Access Items\n",
    "\n",
    "# You cannot access items in a set by referring to an index or a key.\n",
    "\n",
    "# But you can loop through the set items using a for loop, or ask if a specified value is present in a set, by using the in keyword.\n",
    "\n",
    "thisset = {\"apple\", \"banana\", \"cherry\"}\n",
    "\n",
    "for x in thisset:\n",
    "  print(x)"
   ]
  },
  {
   "cell_type": "code",
   "execution_count": 5,
   "id": "8e519fef-e31b-491f-ae5e-046401363054",
   "metadata": {},
   "outputs": [
    {
     "name": "stdout",
     "output_type": "stream",
     "text": [
      "\n",
      "\n",
      "While you cannot modify the individual elements directly, you can still add or remove elements from the set.\n",
      "\n",
      ".add()\n",
      ".remove()\n",
      "\n",
      "\n"
     ]
    }
   ],
   "source": [
    "print('''\n",
    "\n",
    "While you cannot modify the individual elements directly, you can still add or remove elements from the set.\n",
    "\n",
    ".add()\n",
    ".remove()\n",
    "\n",
    "''')"
   ]
  },
  {
   "cell_type": "code",
   "execution_count": 6,
   "id": "9bfca4c7-4c91-485a-860d-6ee843f95240",
   "metadata": {},
   "outputs": [
    {
     "name": "stdout",
     "output_type": "stream",
     "text": [
      "Once a set is created, you cannot change its items, but you can add new items.\n",
      "{'apple', 'banana', 'cherry', 'orange'}\n"
     ]
    }
   ],
   "source": [
    "# Change Items\n",
    "\n",
    "print(\"Once a set is created, you cannot change its items, but you can add new items.\")\n",
    "\n",
    "thisset = {\"apple\", \"banana\", \"cherry\"}\n",
    "\n",
    "thisset.add(\"orange\")\n",
    "print(thisset)"
   ]
  },
  {
   "cell_type": "code",
   "execution_count": 7,
   "id": "8dc40d53-f8e1-48f3-89c8-18937d14b421",
   "metadata": {},
   "outputs": [
    {
     "name": "stdout",
     "output_type": "stream",
     "text": [
      "To add items from another set into the current set, use the update() method.\n",
      "{'banana', 'cherry', 'apple', 'kiwi', 'orange'}\n"
     ]
    }
   ],
   "source": [
    "print(\"To add items from another set into the current set, use the update() method.\")\n",
    "\n",
    "# Add elements from tropical into thisset:\n",
    "\n",
    "thisset = {\"apple\", \"banana\", \"cherry\"}\n",
    "tropical = {\"pineapple\", \"mango\", \"papaya\"}\n",
    "\n",
    "thisset.update(tropical)\n",
    "\n",
    "thisset = {\"apple\", \"banana\", \"cherry\"}\n",
    "mylist = [\"kiwi\", \"orange\"]\n",
    "\n",
    "thisset.update(mylist)\n",
    "print(thisset)"
   ]
  },
  {
   "cell_type": "code",
   "execution_count": 8,
   "id": "a18aa77c-a72d-42ad-bfbb-07f9e688ac40",
   "metadata": {},
   "outputs": [
    {
     "name": "stdout",
     "output_type": "stream",
     "text": [
      "{'apple', 'cherry'}\n",
      "{'apple', 'cherry'}\n"
     ]
    }
   ],
   "source": [
    "# Remove Item\n",
    "\n",
    "# To remove an item in a set, use the remove(), or the discard() method.\n",
    "\n",
    "thisset = {\"apple\", \"banana\", \"cherry\"}\n",
    "thisset.remove(\"banana\")\n",
    "print(thisset)\n",
    "\n",
    "thisset = {\"apple\", \"banana\", \"cherry\"}\n",
    "thisset.discard(\"banana\")\n",
    "print(thisset)"
   ]
  },
  {
   "cell_type": "code",
   "execution_count": 9,
   "id": "adf0ef7d-0c69-421e-bacf-c4909623b11d",
   "metadata": {},
   "outputs": [
    {
     "name": "stdout",
     "output_type": "stream",
     "text": [
      "apple\n",
      "{'banana', 'cherry'}\n",
      "set()\n"
     ]
    }
   ],
   "source": [
    "# You can also use the pop() method to remove an item, \n",
    "# but this method will remove a random item, so you cannot be sure what item that gets removed.\n",
    "\n",
    "# Remove a random item by using the pop() method:\n",
    "\n",
    "thisset = {\"apple\", \"banana\", \"cherry\"}\n",
    "x = thisset.pop()\n",
    "print(x)\n",
    "print(thisset)\n",
    "\n",
    "# The clear() method empties the set:\n",
    "\n",
    "thisset = {\"apple\", \"banana\", \"cherry\"}\n",
    "thisset.clear()\n",
    "print(thisset)\n",
    "\n",
    "# The del keyword will delete the set completely:\n",
    "\n",
    "thisset = {\"apple\", \"banana\", \"cherry\"}\n",
    "del thisset\n",
    "# print(thisset) # name 'thisset' is not defined"
   ]
  },
  {
   "cell_type": "code",
   "execution_count": 10,
   "id": "d0e33d53-cc81-4b22-a07b-e51698e14649",
   "metadata": {},
   "outputs": [
    {
     "name": "stdout",
     "output_type": "stream",
     "text": [
      "\n",
      "\n",
      "There are several ways to join two or more sets in Python.\n",
      "\n",
      "The union() and update() methods joins all items from both sets.\n",
      "\n",
      "The intersection() method keeps ONLY the duplicates.\n",
      "\n",
      "The difference() method keeps the items from the first set that are not in the other set(s).\n",
      "\n",
      "The symmetric_difference() method keeps all items EXCEPT the duplicates.\n",
      "\n",
      "\n"
     ]
    }
   ],
   "source": [
    "print('''\n",
    "\n",
    "There are several ways to join two or more sets in Python.\n",
    "\n",
    "The union() and update() methods joins all items from both sets.\n",
    "\n",
    "The intersection() method keeps ONLY the duplicates.\n",
    "\n",
    "The difference() method keeps the items from the first set that are not in the other set(s).\n",
    "\n",
    "The symmetric_difference() method keeps all items EXCEPT the duplicates.\n",
    "\n",
    "''')"
   ]
  },
  {
   "cell_type": "code",
   "execution_count": 11,
   "id": "9844c662-8a07-4e89-9dd4-658c3f8032b7",
   "metadata": {},
   "outputs": [
    {
     "name": "stdout",
     "output_type": "stream",
     "text": [
      "Union\n",
      "{'b', 1, 'a', 2, 3, 'c'}\n",
      "{'b', 1, 2, 3, 'John', 'Elena', 'c', 'a', 'cherry', 'apple', 'bananas'}\n"
     ]
    }
   ],
   "source": [
    "print(\"Union\")\n",
    "\n",
    "# Join set1 and set2 into a new set:\n",
    "\n",
    "set1 = {\"a\", \"b\", \"c\"}\n",
    "set2 = {1, 2, 3}\n",
    "\n",
    "set3 = set1.union(set2)\n",
    "print(set3)\n",
    "\n",
    "set1 = {\"a\", \"b\", \"c\"}\n",
    "set2 = {1, 2, 3}\n",
    "set3 = {\"John\", \"Elena\"}\n",
    "set4 = {\"apple\", \"bananas\", \"cherry\"}\n",
    "\n",
    "myset = set1.union(set2, set3, set4)\n",
    "print(myset)"
   ]
  },
  {
   "cell_type": "code",
   "execution_count": 12,
   "id": "7c779359-3f5c-4487-8842-be3744e56dbe",
   "metadata": {},
   "outputs": [
    {
     "name": "stdout",
     "output_type": "stream",
     "text": [
      "{'b', 1, 'a', 2, 3, 'c'}\n",
      "{'b', 1, 2, 3, 'John', 'Elena', 'c', 'a', 'cherry', 'apple', 'bananas'}\n"
     ]
    }
   ],
   "source": [
    "# Use | to join two sets:\n",
    "\n",
    "set1 = {\"a\", \"b\", \"c\"}\n",
    "set2 = {1, 2, 3}\n",
    "\n",
    "set3 = set1 | set2\n",
    "print(set3)\n",
    "\n",
    "# Join Multiple Sets\n",
    "# All the joining methods and operators can be used to join multiple sets.\n",
    "# Join multiple sets with the union() method:\n",
    "\n",
    "set1 = {\"a\", \"b\", \"c\"}\n",
    "set2 = {1, 2, 3}\n",
    "set3 = {\"John\", \"Elena\"}\n",
    "set4 = {\"apple\", \"bananas\", \"cherry\"}\n",
    "\n",
    "myset = set1.union(set2, set3, set4)\n",
    "print(myset)"
   ]
  },
  {
   "cell_type": "code",
   "execution_count": 13,
   "id": "0268c2a7-5fce-4ed5-941f-b2eb167fbf99",
   "metadata": {},
   "outputs": [
    {
     "name": "stdout",
     "output_type": "stream",
     "text": [
      "{'b', 1, 2, 3, 'John', 'Elena', 'c', 'a', 'cherry', 'apple', 'bananas'}\n"
     ]
    }
   ],
   "source": [
    "# Use | to join multiple sets:\n",
    "\n",
    "set1 = {\"a\", \"b\", \"c\"}\n",
    "set2 = {1, 2, 3}\n",
    "set3 = {\"John\", \"Elena\"}\n",
    "set4 = {\"apple\", \"bananas\", \"cherry\"}\n",
    "\n",
    "myset = set1 | set2 | set3 |set4\n",
    "print(myset)"
   ]
  },
  {
   "cell_type": "code",
   "execution_count": 14,
   "id": "f4ef5635-24c1-4288-9495-da1357444959",
   "metadata": {},
   "outputs": [
    {
     "name": "stdout",
     "output_type": "stream",
     "text": [
      "Join a Set and a Tuple\n",
      "{1, 2, 3, 4, 5}\n",
      "{'b', 1, 2, 3, 'c', 'a'}\n",
      "{1, 2, 3, 4, 5}\n",
      "{1, 2, 3, 4, 5}\n",
      "{1, 2, 3, 'C', 'B', 'A'}\n",
      "{1, 2, 3, 4, 5, 'X', 'Y'}\n"
     ]
    }
   ],
   "source": [
    "print('''Join a Set and a Tuple''')\n",
    "\n",
    "# The union() method allows you to join a set with other data types, like lists or tuples.\n",
    "# The result will be a set.\n",
    "\n",
    "# Union of a Set and a List\n",
    "set1 = {1, 2, 3}\n",
    "list1 = [3, 4, 5]\n",
    "result = set1.union(list1)\n",
    "print(result)  # Output: {1, 2, 3, 4, 5}\n",
    "\n",
    "# Join a set with a tuple:\n",
    "\n",
    "x = {\"a\", \"b\", \"c\"}\n",
    "y = (1, 2, 3)\n",
    "z = x.union(y)\n",
    "print(z)\n",
    "\n",
    "# Union of a Set and a Dictionary\n",
    "\n",
    "set1 = {1, 2, 3}\n",
    "dict1 = {4: \"A\", 5: \"B\"}\n",
    "result = set1.union(dict1)  # Only dictionary keys are considered\n",
    "print(result)  \n",
    "\n",
    "# Union Using Dictionary Keys\n",
    "\n",
    "set1 = {1, 2, 3}\n",
    "dict1 = {3: \"A\", 4: \"B\", 5: \"C\"}\n",
    "result = set1.union(dict1.keys())  # Explicitly using keys\n",
    "print(result) \n",
    "\n",
    "# Union Using Dictionary Keys\n",
    "\n",
    "result = set1.union(dict1.values())  # Union with values\n",
    "print(result)  # Output: {'A', 'B', 'C', 'D'}\n",
    "\n",
    "# Union with Both Keys and Values\n",
    "# If you want to include both keys and values:\n",
    "\n",
    "set1 = {1, 2, 3}\n",
    "dict1 = {4: \"X\", 5: \"Y\"}\n",
    "result = set1.union(dict1.keys(), dict1.values())  # Union with keys and values\n",
    "print(result)  # Output: {1, 2, 3, 4, 5, 'X', 'Y'}"
   ]
  },
  {
   "cell_type": "code",
   "execution_count": 15,
   "id": "7812ba68-f89c-459f-bcb8-4ddb4d5c3427",
   "metadata": {},
   "outputs": [
    {
     "name": "stdout",
     "output_type": "stream",
     "text": [
      "Intersection\n",
      "{'apple'}\n",
      "{'apple'}\n"
     ]
    }
   ],
   "source": [
    "print(\"Intersection\")\n",
    "# The intersection() method will return a new set, that only contains the items that are present in both sets\n",
    "\n",
    "set1 = {\"apple\", \"banana\", \"cherry\"}\n",
    "set2 = {\"google\", \"microsoft\", \"apple\"}\n",
    "\n",
    "set3 = set1.intersection(set2)\n",
    "print(set3)\n",
    "\n",
    "# You can use the & operator instead of the intersection() method, and you will get the same result.\n",
    "\n",
    "set1 = {\"apple\", \"banana\", \"cherry\"}\n",
    "set2 = {\"google\", \"microsoft\", \"apple\"}\n",
    "\n",
    "set3 = set1 & set2\n",
    "print(set3)\n",
    "\n",
    "# The values True and 1 are considered the same value. The same goes for False and 0."
   ]
  },
  {
   "cell_type": "code",
   "execution_count": 16,
   "id": "50890b1b-663f-42e3-bf6c-30dbc9876c8d",
   "metadata": {},
   "outputs": [
    {
     "name": "stdout",
     "output_type": "stream",
     "text": [
      "Difference\n",
      "{'banana', 'cherry'}\n",
      "{'banana', 'cherry'}\n"
     ]
    }
   ],
   "source": [
    "print(\"Difference\")\n",
    "\n",
    "# The difference() method will return a new set that will contain only the items from the first set that are not present in the other set.\n",
    "\n",
    "set1 = {\"apple\", \"banana\", \"cherry\"}\n",
    "set2 = {\"google\", \"microsoft\", \"apple\"}\n",
    "set3 = set1.difference(set2)\n",
    "print(set3)\n",
    "\n",
    "# You can use the - operator instead of the difference() method, and you will get the same result.\n",
    "\n",
    "set1 = {\"apple\", \"banana\", \"cherry\"}\n",
    "set2 = {\"google\", \"microsoft\", \"apple\"}\n",
    "set3 = set1 - set2\n",
    "print(set3)"
   ]
  },
  {
   "cell_type": "code",
   "execution_count": 17,
   "id": "1b0aab86-3002-455b-ac57-8e9025809eaf",
   "metadata": {},
   "outputs": [
    {
     "name": "stdout",
     "output_type": "stream",
     "text": [
      "Symmetric Differences\n",
      "{'microsoft', 'banana', 'google', 'cherry'}\n",
      "{'microsoft', 'banana', 'google', 'cherry'}\n"
     ]
    }
   ],
   "source": [
    "print(\"Symmetric Differences\")\n",
    "\n",
    "# The symmetric_difference() method will keep only the elements that are NOT present in both sets.\n",
    "\n",
    "set1 = {\"apple\", \"banana\", \"cherry\"}\n",
    "set2 = {\"google\", \"microsoft\", \"apple\"}\n",
    "\n",
    "set3 = set1.symmetric_difference(set2)\n",
    "\n",
    "print(set3)\n",
    "\n",
    "# We can use the ^ operator instead of the symmetric_difference() method, and you will get the same result.\n",
    "\n",
    "set1 = {\"apple\", \"banana\", \"cherry\"}\n",
    "set2 = {\"google\", \"microsoft\", \"apple\"}\n",
    "\n",
    "set3 = set1 ^ set2\n",
    "print(set3)"
   ]
  },
  {
   "cell_type": "code",
   "execution_count": 18,
   "id": "b92be419-26ce-468e-9e89-6c707308231d",
   "metadata": {},
   "outputs": [
    {
     "name": "stdout",
     "output_type": "stream",
     "text": [
      "\n",
      "\n",
      "Set Methods :\n",
      "\n",
      "Method\tShortcut\tDescription \n",
      "add()\t \t                        Adds an element to the set\n",
      "clear()\t \t                        Removes all the elements from the set\n",
      "copy()\t        \t                Returns a copy of the set\n",
      "difference()\t     -\t            Returns a set containing the difference between two or more sets\n",
      "difference_update()\t-=\t            Removes the items in this set that are also included in another, specified set\n",
      "discard()\t \t                    Remove the specified item\n",
      "intersection()\t        &\t        Returns a set, that is the intersection of two other sets\n",
      "intersection_update()\t&=\t        Removes the items in this set that are not present in other, specified set(s)\n",
      "isdisjoint()\t \t                Returns whether two sets have a intersection or not\n",
      "issubset()\t<=\t                    Returns whether another set contains this set or not\n",
      "         \t<\t                    Returns whether all items in this set is present in other, specified set(s)\n",
      "issuperset()\t>=\t                Returns whether this set contains another set or not\n",
      " \t            >\t                Returns whether all items in other, specified set(s) is present in this set\n",
      "pop()\t \t                        Removes an element from the set\n",
      "remove()\t \t                    Removes the specified element\n",
      "symmetric_difference()\t        ^\tReturns a set with the symmetric differences of two sets\n",
      "symmetric_difference_update()\t^=\tInserts the symmetric differences from this set and another\n",
      "union()\t        |\t                Return a set containing the union of sets\n",
      "update()\t    |=\t                Update the set with the union of this set and others\n",
      "\n",
      "\n"
     ]
    }
   ],
   "source": [
    "print('''\n",
    "\n",
    "Set Methods :\n",
    "\n",
    "Method\tShortcut\tDescription \n",
    "add()\t \t                        Adds an element to the set\n",
    "clear()\t \t                        Removes all the elements from the set\n",
    "copy()\t        \t                Returns a copy of the set\n",
    "difference()\t     -\t            Returns a set containing the difference between two or more sets\n",
    "difference_update()\t-=\t            Removes the items in this set that are also included in another, specified set\n",
    "discard()\t \t                    Remove the specified item\n",
    "intersection()\t        &\t        Returns a set, that is the intersection of two other sets\n",
    "intersection_update()\t&=\t        Removes the items in this set that are not present in other, specified set(s)\n",
    "isdisjoint()\t \t                Returns whether two sets have a intersection or not\n",
    "issubset()\t<=\t                    Returns whether another set contains this set or not\n",
    "         \t<\t                    Returns whether all items in this set is present in other, specified set(s)\n",
    "issuperset()\t>=\t                Returns whether this set contains another set or not\n",
    " \t            >\t                Returns whether all items in other, specified set(s) is present in this set\n",
    "pop()\t \t                        Removes an element from the set\n",
    "remove()\t \t                    Removes the specified element\n",
    "symmetric_difference()\t        ^\tReturns a set with the symmetric differences of two sets\n",
    "symmetric_difference_update()\t^=\tInserts the symmetric differences from this set and another\n",
    "union()\t        |\t                Return a set containing the union of sets\n",
    "update()\t    |=\t                Update the set with the union of this set and others\n",
    "\n",
    "''')"
   ]
  },
  {
   "cell_type": "code",
   "execution_count": null,
   "id": "eb8669c9-4335-4040-83ea-35b1efb0f4e7",
   "metadata": {},
   "outputs": [],
   "source": []
  },
  {
   "cell_type": "code",
   "execution_count": 19,
   "id": "5d999653-d04e-4fb6-9c6b-62686ea3d75d",
   "metadata": {},
   "outputs": [
    {
     "data": {
      "text/plain": [
       "False"
      ]
     },
     "execution_count": 19,
     "metadata": {},
     "output_type": "execute_result"
    }
   ],
   "source": [
    "# x1.isdisjoint(x2)\n",
    "# x1.isdisjoint(x2) returns True if x1 and x2 have no elements in common:\n",
    "\n",
    "x1 = {'foo', 'bar', 'baz'}\n",
    "x2 = {'baz', 'qux', 'quux'}\n",
    "\n",
    "x1.isdisjoint(x2)\n",
    "x2 - {'baz'}\n",
    "x1.isdisjoint(x2 - {'baz'})\n",
    "\n",
    "# x1.issubset(x2)\n",
    "# x1 <= x2\n",
    "\n",
    "x1 = {'foo', 'bar', 'baz'}\n",
    "x1.issubset({'foo', 'bar', 'baz', 'qux', 'quux'})\n",
    "x2 = {'baz', 'qux', 'quux'}\n",
    "x1 <= x2\n",
    "\n",
    "# x1.issuperset(x2)\n",
    "# x1 >= x2\n",
    "# Determine whether one set is a superset of the other.\n",
    "# A superset is the reverse of a subset. A set x1 is considered a superset of another set x2 if x1 contains every element of x2.\n",
    "\n",
    "x1 = {'foo', 'bar', 'baz'}\n",
    "x1.issuperset({'foo', 'bar'})\n",
    "x2 = {'baz', 'qux', 'quux'}\n",
    "x1 >= x2"
   ]
  },
  {
   "cell_type": "code",
   "execution_count": 20,
   "id": "74f9020a-b1f4-4cdb-8135-f609d3089480",
   "metadata": {},
   "outputs": [
    {
     "name": "stdout",
     "output_type": "stream",
     "text": [
      "\n",
      "\n",
      "z.intersection_update() : x1.intersection_update(x2) and x1 &= x2 update x1, retaining only elements found in both x1 and x2\n",
      "z.union_update()  : x1.update(x2) and x1 |= x2 add to x1 any elements in x2 that x1 does not already have\n",
      "z.difference_update()  : x1.difference_update(x2) and x1 -= x2 update x1, removing elements found in x2\n",
      "x1.symmetric_difference_update(x2) : x1.symmetric_difference_update(x2) and x1 ^= x2 update x1, retaining elements found in either x1 or x2, but not both\n",
      "\n"
     ]
    }
   ],
   "source": [
    "print('''\n",
    "\n",
    "z.intersection_update() : x1.intersection_update(x2) and x1 &= x2 update x1, retaining only elements found in both x1 and x2\n",
    "z.union_update()  : x1.update(x2) and x1 |= x2 add to x1 any elements in x2 that x1 does not already have\n",
    "z.difference_update()  : x1.difference_update(x2) and x1 -= x2 update x1, removing elements found in x2\n",
    "x1.symmetric_difference_update(x2) : x1.symmetric_difference_update(x2) and x1 ^= x2 update x1, retaining elements found in either x1 or x2, but not both\n",
    "''')"
   ]
  },
  {
   "cell_type": "code",
   "execution_count": 21,
   "id": "5427ff6d-5d67-4932-b747-0ca898edb208",
   "metadata": {},
   "outputs": [
    {
     "name": "stdout",
     "output_type": "stream",
     "text": [
      "{'foo', 'qux', 'bar', 'baz'}\n",
      "{'garply', 'foo', 'corge', 'qux', 'bar', 'baz'}\n"
     ]
    },
    {
     "data": {
      "text/plain": [
       "{'bar', 'baz', 'corge', 'foo', 'garply', 'qux'}"
      ]
     },
     "execution_count": 21,
     "metadata": {},
     "output_type": "execute_result"
    }
   ],
   "source": [
    "# x1.update(x2[, x3 ...])\n",
    "# x1 |= x2 [| x3 ...]\n",
    "\n",
    "# Modify a set by union.\n",
    "\n",
    "# x1.update(x2) and x1 |= x2 add to x1 any elements in x2 that x1 does not already have:\n",
    "\n",
    "x1 = {'foo', 'bar', 'baz'}\n",
    "x2 = {'foo', 'baz', 'qux'}\n",
    "\n",
    "x1 |= x2\n",
    "print(x1)\n",
    "{'qux', 'foo', 'bar', 'baz'}\n",
    "\n",
    "x1.update(['corge', 'garply'])\n",
    "print(x1)\n",
    "{'qux', 'corge', 'garply', 'foo', 'bar', 'baz'}"
   ]
  },
  {
   "cell_type": "code",
   "execution_count": 22,
   "id": "c8db3043-d76c-46df-82cf-742c3a75e0df",
   "metadata": {},
   "outputs": [
    {
     "name": "stdout",
     "output_type": "stream",
     "text": [
      "{'foo', 'baz'}\n",
      "{'baz'}\n"
     ]
    },
    {
     "data": {
      "text/plain": [
       "{'baz'}"
      ]
     },
     "execution_count": 22,
     "metadata": {},
     "output_type": "execute_result"
    }
   ],
   "source": [
    "# x1.intersection_update(x2[, x3 ...])\n",
    "# x1 &= x2 [& x3 ...]\n",
    "\n",
    "# Modify a set by intersection.\n",
    "\n",
    "# x1.intersection_update(x2) and x1 &= x2 update x1, retaining only elements found in both x1 and x2:\n",
    "\n",
    "x1 = {'foo', 'bar', 'baz'}\n",
    "x2 = {'foo', 'baz', 'qux'}\n",
    "\n",
    "x1 &= x2\n",
    "print(x1)\n",
    "{'foo', 'baz'}\n",
    "\n",
    "x1.intersection_update(['baz', 'qux'])\n",
    "print(x1)\n",
    "{'baz'}"
   ]
  },
  {
   "cell_type": "code",
   "execution_count": 23,
   "id": "11ac3158-f672-4de6-96d3-86c3ac9c349b",
   "metadata": {},
   "outputs": [
    {
     "name": "stdout",
     "output_type": "stream",
     "text": [
      "{'bar'}\n",
      "set()\n"
     ]
    },
    {
     "data": {
      "text/plain": [
       "set()"
      ]
     },
     "execution_count": 23,
     "metadata": {},
     "output_type": "execute_result"
    }
   ],
   "source": [
    "# x1.difference_update(x2[, x3 ...])\n",
    "# x1 -= x2 [| x3 ...]\n",
    "\n",
    "# Modify a set by difference.\n",
    "\n",
    "# x1.difference_update(x2) and x1 -= x2 update x1, removing elements found in x2:\n",
    "\n",
    "x1 = {'foo', 'bar', 'baz'}\n",
    "x2 = {'foo', 'baz', 'qux'}\n",
    "\n",
    "x1 -= x2\n",
    "print(x1)\n",
    "{'bar'}\n",
    "\n",
    "x1.difference_update(['foo', 'bar', 'qux'])\n",
    "print(x1)\n",
    "set()"
   ]
  },
  {
   "cell_type": "code",
   "execution_count": 24,
   "id": "0083bddc-e7a5-49df-b9f6-c3ab82ae5bf2",
   "metadata": {},
   "outputs": [
    {
     "name": "stdout",
     "output_type": "stream",
     "text": [
      "{'bar', 'qux'}\n",
      "{'bar', 'corge'}\n"
     ]
    },
    {
     "data": {
      "text/plain": [
       "{'bar', 'corge'}"
      ]
     },
     "execution_count": 24,
     "metadata": {},
     "output_type": "execute_result"
    }
   ],
   "source": [
    "# x1.symmetric_difference_update(x2)\n",
    "# x1 ^= x2\n",
    "\n",
    "# Modify a set by symmetric difference.\n",
    "\n",
    "# x1.symmetric_difference_update(x2) and x1 ^= x2 update x1, retaining elements found in either x1 or x2, but not both:\n",
    "\n",
    "x1 = {'foo', 'bar', 'baz'}\n",
    "x2 = {'foo', 'baz', 'qux'}\n",
    " \n",
    "x1 ^= x2\n",
    "print(x1)\n",
    "{'bar', 'qux'}\n",
    "\n",
    "x1.symmetric_difference_update(['qux', 'corge'])\n",
    "print(x1)\n",
    "{'bar', 'corge'}"
   ]
  },
  {
   "cell_type": "code",
   "execution_count": null,
   "id": "69171942-3959-414f-8d43-3ffaf46603c7",
   "metadata": {},
   "outputs": [],
   "source": []
  },
  {
   "cell_type": "code",
   "execution_count": 25,
   "id": "49261103-8689-461f-8a8e-2e342421e79f",
   "metadata": {},
   "outputs": [
    {
     "name": "stdout",
     "output_type": "stream",
     "text": [
      "\n",
      "Python Frozen Sets\n",
      "\n",
      "A frozenset in Python is an immutable version of a regular set. \n",
      "Unlike normal sets, frozenset elements cannot be modified after creation, \n",
      "making them hashable and suitable as dictionary keys or elements in another set.\n",
      "\n",
      "Frozen sets in Python are immutable objects that only support methods and operators that produce a result without affecting \n",
      "the frozen set or sets to which they are applied.\n",
      "\n",
      "While elements of a set can be modified at any time, elements of the frozen set remain the same after creation.\n",
      "\n",
      "\n"
     ]
    }
   ],
   "source": [
    "print(\n",
    "'''\n",
    "Python Frozen Sets\n",
    "\n",
    "A frozenset in Python is an immutable version of a regular set. \n",
    "Unlike normal sets, frozenset elements cannot be modified after creation, \n",
    "making them hashable and suitable as dictionary keys or elements in another set.\n",
    "\n",
    "Frozen sets in Python are immutable objects that only support methods and operators that produce a result without affecting \n",
    "the frozen set or sets to which they are applied.\n",
    "\n",
    "While elements of a set can be modified at any time, elements of the frozen set remain the same after creation.\n",
    "\n",
    "''')"
   ]
  },
  {
   "cell_type": "code",
   "execution_count": 26,
   "id": "ca40c230-ec6b-44be-b5e8-83d7922bd0dc",
   "metadata": {},
   "outputs": [
    {
     "name": "stdout",
     "output_type": "stream",
     "text": [
      "Normal Set\n",
      "{'b', 'a', 'c'}\n",
      "\n",
      "Frozen Set\n",
      "frozenset({'e', 'f', 'g'})\n"
     ]
    }
   ],
   "source": [
    "# Same as {\"a\", \"b\",\"c\"}\n",
    "s = set([\"a\", \"b\",\"c\"])\n",
    "\n",
    "print(\"Normal Set\")\n",
    "print(s)\n",
    "\n",
    "# A frozen set\n",
    "fs = frozenset([\"e\", \"f\", \"g\"])\n",
    "\n",
    "print(\"\\nFrozen Set\")\n",
    "print(fs)"
   ]
  },
  {
   "cell_type": "code",
   "execution_count": 27,
   "id": "06618149-5df3-41b2-a6ab-666d65f4a80e",
   "metadata": {},
   "outputs": [
    {
     "name": "stdout",
     "output_type": "stream",
     "text": [
      "frozenset({1, 2, 3, 4, 5})\n"
     ]
    }
   ],
   "source": [
    "fs = frozenset([1, 2, 3, 4, 5])\n",
    "print(fs)  # Output: frozenset({1, 2, 3, 4"
   ]
  },
  {
   "cell_type": "code",
   "execution_count": 28,
   "id": "0f6e3498-4a21-478e-9480-9ae3577e2de2",
   "metadata": {},
   "outputs": [
    {
     "name": "stdout",
     "output_type": "stream",
     "text": [
      "\n",
      "\n",
      "Key Properties of Frozenset\n",
      "\n",
      "✅ Immutable – Cannot add, remove, or change elements.\n",
      "✅ Hashable – Can be used as a dictionary key or a set element.\n",
      "✅ Supports set operations – Intersection, union, difference, etc.\n",
      "\n",
      "\n"
     ]
    }
   ],
   "source": [
    "print('''\n",
    "\n",
    "Key Properties of Frozenset\n",
    "\n",
    "✅ Immutable – Cannot add, remove, or change elements.\n",
    "✅ Hashable – Can be used as a dictionary key or a set element.\n",
    "✅ Supports set operations – Intersection, union, difference, etc.\n",
    "\n",
    "''')"
   ]
  },
  {
   "cell_type": "code",
   "execution_count": 29,
   "id": "4d1d22bd-2a2c-4131-b60b-98ed2c810b5e",
   "metadata": {},
   "outputs": [
    {
     "name": "stdout",
     "output_type": "stream",
     "text": [
      "Set Operations with Frozensets\n",
      "Union (| or .union())\n",
      "frozenset({1, 2, 3, 4, 5})\n",
      "frozenset({1, 2, 3, 4, 5})\n",
      "Intersection (& or .intersection())\n",
      "frozenset({3})\n",
      "frozenset({3})\n",
      "Difference (- or .difference())\n",
      "frozenset({1, 2})\n",
      "frozenset({1, 2})\n",
      "Symmetric Difference (^ or .symmetric_difference())\n",
      "frozenset({1, 2, 4, 5})\n",
      "frozenset({1, 2, 4, 5})\n"
     ]
    }
   ],
   "source": [
    "print(\"Set Operations with Frozensets\")\n",
    "\n",
    "fs1 = frozenset([1, 2, 3])\n",
    "fs2 = frozenset([3, 4, 5])\n",
    "\n",
    "print(\"Union (| or .union())\")\n",
    "print(fs1 | fs2)  # Output: frozenset({1, 2, 3, 4, 5})\n",
    "print(fs1.union(fs2))  # Output: frozenset({1, 2, 3, 4, 5})\n",
    "\n",
    "print(\"Intersection (& or .intersection())\")\n",
    "print(fs1 & fs2)  # Output: frozenset({3})\n",
    "print(fs1.intersection(fs2))  # Output: frozenset({3})\n",
    "\n",
    "print(\"Difference (- or .difference())\")\n",
    "print(fs1 - fs2)  # Output: frozenset({1, 2})\n",
    "print(fs1.difference(fs2))  # Output: frozenset({1, 2})\n",
    "\n",
    "print(\"Symmetric Difference (^ or .symmetric_difference())\")\n",
    "print(fs1 ^ fs2)  # Output: frozenset({1, 2, 4, 5})\n",
    "print(fs1.symmetric_difference(fs2))  # Output: frozenset({1, 2, 4, 5})"
   ]
  },
  {
   "cell_type": "code",
   "execution_count": 30,
   "id": "7524166b-2a90-49a3-9f52-4b4779c69422",
   "metadata": {},
   "outputs": [
    {
     "name": "stdout",
     "output_type": "stream",
     "text": [
      "\n",
      "\n",
      "Using Frozensets as Dictionary Keys\n",
      "\n",
      "Since frozenset is hashable, it can be used as a dictionary key\n",
      "\n",
      "\n",
      "group1\n"
     ]
    }
   ],
   "source": [
    "print('''\n",
    "\n",
    "Using Frozensets as Dictionary Keys\n",
    "\n",
    "Since frozenset is hashable, it can be used as a dictionary key\n",
    "\n",
    "''')\n",
    "\n",
    "d = {frozenset([1, 2, 3]): \"group1\", \n",
    "     frozenset([4, 5]): \"group2\"}\n",
    "\n",
    "print(d[frozenset([1, 2, 3])])        # Output: group1"
   ]
  },
  {
   "cell_type": "code",
   "execution_count": 31,
   "id": "b7faf6ec-f90c-416f-8aa9-2b4a3eda37b8",
   "metadata": {},
   "outputs": [
    {
     "name": "stdout",
     "output_type": "stream",
     "text": [
      "Nesting Frozensets\n",
      "\n",
      "Since frozensets are immutable, they can be elements of a set of sets.\n",
      "\n",
      "\n",
      "{frozenset({3, 4}), frozenset({1, 2})}\n"
     ]
    }
   ],
   "source": [
    "print('''Nesting Frozensets\n",
    "\n",
    "Since frozensets are immutable, they can be elements of a set of sets.\n",
    "\n",
    "''')\n",
    "\n",
    "nested_sets = {frozenset([1, 2]), frozenset([3, 4])}\n",
    "print(nested_sets)  # Output: {frozenset({1, 2}), frozenset({3, 4})}\n"
   ]
  },
  {
   "cell_type": "code",
   "execution_count": 32,
   "id": "360b0eef-650b-48b8-b6ea-7ca794d4a3f2",
   "metadata": {},
   "outputs": [
    {
     "name": "stdout",
     "output_type": "stream",
     "text": [
      "\n",
      "\n",
      "When to Use Frozensets?\n",
      "\n",
      "🔹 When you need an immutable set (e.g., to prevent accidental modification).\n",
      "🔹 When using sets as dictionary keys or elements in another set.\n",
      "🔹 When working with data that should remain unchanged for security or consistency.\n",
      "\n",
      "\n"
     ]
    }
   ],
   "source": [
    "print('''\n",
    "\n",
    "When to Use Frozensets?\n",
    "\n",
    "🔹 When you need an immutable set (e.g., to prevent accidental modification).\n",
    "🔹 When using sets as dictionary keys or elements in another set.\n",
    "🔹 When working with data that should remain unchanged for security or consistency.\n",
    "\n",
    "''')"
   ]
  },
  {
   "cell_type": "code",
   "execution_count": 33,
   "id": "e6e4e6e3-56c4-48c8-8626-f77c423c4584",
   "metadata": {},
   "outputs": [
    {
     "name": "stdout",
     "output_type": "stream",
     "text": [
      "\n",
      "\n",
      "Operators for Sets\n",
      "Sets and frozen sets support the following operators:\n",
      "\n",
      "Operators\tNotes\n",
      "key in s\t    containment check\n",
      "key not in s\tnon-containment check\n",
      "s1 == s2\t    s1 is equivalent to s2\n",
      "s1 != s2\t    s1 is not equivalent to s2\n",
      "s1 <= s2\t    s1 is subset of s2\n",
      "s1 < s2\t        s1 is proper subset of s2\n",
      "s1 >= s2\t    s1 is superset of s2\n",
      "s1 > s2\t        s1 is proper superset of s2\n",
      "s1 | s2\t        the union of s1 and s2\n",
      "s1 & s2\t        the intersection of s1 and s2\n",
      "s1 – s2\t        the set of elements in s1 but not s2\n",
      "s1 ˆ s2\t        the set of elements in precisely one of s1 or s2\n",
      "\n",
      "\n"
     ]
    }
   ],
   "source": [
    "print('''\n",
    "\n",
    "Operators for Sets\n",
    "Sets and frozen sets support the following operators:\n",
    "\n",
    "Operators\tNotes\n",
    "key in s\t    containment check\n",
    "key not in s\tnon-containment check\n",
    "s1 == s2\t    s1 is equivalent to s2\n",
    "s1 != s2\t    s1 is not equivalent to s2\n",
    "s1 <= s2\t    s1 is subset of s2\n",
    "s1 < s2\t        s1 is proper subset of s2\n",
    "s1 >= s2\t    s1 is superset of s2\n",
    "s1 > s2\t        s1 is proper superset of s2\n",
    "s1 | s2\t        the union of s1 and s2\n",
    "s1 & s2\t        the intersection of s1 and s2\n",
    "s1 – s2\t        the set of elements in s1 but not s2\n",
    "s1 ˆ s2\t        the set of elements in precisely one of s1 or s2\n",
    "\n",
    "''')"
   ]
  },
  {
   "cell_type": "code",
   "execution_count": null,
   "id": "aa7fe2ce-710f-4f7d-bfa6-75977d6a3591",
   "metadata": {},
   "outputs": [],
   "source": []
  }
 ],
 "metadata": {
  "kernelspec": {
   "display_name": "Python 3 (ipykernel)",
   "language": "python",
   "name": "python3"
  },
  "language_info": {
   "codemirror_mode": {
    "name": "ipython",
    "version": 3
   },
   "file_extension": ".py",
   "mimetype": "text/x-python",
   "name": "python",
   "nbconvert_exporter": "python",
   "pygments_lexer": "ipython3",
   "version": "3.12.7"
  }
 },
 "nbformat": 4,
 "nbformat_minor": 5
}
