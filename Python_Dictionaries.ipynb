{
 "cells": [
  {
   "cell_type": "code",
   "execution_count": 1,
   "id": "1cf4f297-a19a-4058-b29f-8c13c3191241",
   "metadata": {},
   "outputs": [
    {
     "name": "stdout",
     "output_type": "stream",
     "text": [
      "Python Dictionaries\n"
     ]
    }
   ],
   "source": [
    "print(\"Python Dictionaries\")"
   ]
  },
  {
   "cell_type": "code",
   "execution_count": 2,
   "id": "2ea3357f-6b1a-47ca-917e-b6add9ee5ebf",
   "metadata": {},
   "outputs": [],
   "source": [
    "# https://www.w3schools.com/python/python_dictionaries.asp\n",
    "# https://www.geeksforgeeks.org/python-dictionary/\n",
    "# https://www.programiz.com/python-programming/dictionary\n",
    "# https://realpython.com/python-dicts/\n",
    "# https://docs.python.org/3/tutorial/datastructures.html#dictionaries"
   ]
  },
  {
   "cell_type": "code",
   "execution_count": 3,
   "id": "6cb2844c-bea5-4bce-aad8-369c48a92c1f",
   "metadata": {},
   "outputs": [
    {
     "name": "stdout",
     "output_type": "stream",
     "text": [
      "\n",
      "\n",
      "Dictionaries are used to store data values in key:value pairs.\n",
      "\n",
      "A dictionary is a collection which is ordered*, mutable and do not allow duplicates.\n",
      "\n",
      "As of Python version 3.7, dictionaries are ordered. In Python 3.6 and earlier, dictionaries are unordered.\n",
      "\n",
      "\n"
     ]
    }
   ],
   "source": [
    "print('''\n",
    "\n",
    "Dictionaries are used to store data values in key:value pairs.\n",
    "\n",
    "A dictionary is a collection which is ordered*, mutable and do not allow duplicates.\n",
    "\n",
    "As of Python version 3.7, dictionaries are ordered. In Python 3.6 and earlier, dictionaries are unordered.\n",
    "\n",
    "''')"
   ]
  },
  {
   "cell_type": "code",
   "execution_count": 4,
   "id": "1730f346-b1ef-463c-9a53-ee9ae194edab",
   "metadata": {},
   "outputs": [
    {
     "name": "stdout",
     "output_type": "stream",
     "text": [
      "\n",
      "\n",
      "Dictionary items are ordered, mutable, and do not allow duplicates.\n",
      "\n",
      "Dictionary items are presented in key:value pairs, and can be referred to by using the key name.\n",
      "\n",
      "\n"
     ]
    }
   ],
   "source": [
    "print('''\n",
    "\n",
    "Dictionary items are ordered, mutable, and do not allow duplicates.\n",
    "\n",
    "Dictionary items are presented in key:value pairs, and can be referred to by using the key name.\n",
    "\n",
    "''')"
   ]
  },
  {
   "cell_type": "code",
   "execution_count": 5,
   "id": "2fc33290-c9a2-445e-a8df-44e5b4d002ab",
   "metadata": {},
   "outputs": [
    {
     "name": "stdout",
     "output_type": "stream",
     "text": [
      "\n",
      "\n",
      "List is a collection which is ordered and changeable. Allows duplicate members.\n",
      "Tuple is a collection which is ordered and unchangeable. Allows duplicate members.\n",
      "Set is a collection which is unordered, unchangeable*, and unindexed. No duplicate members.\n",
      "Dictionary is a collection which is ordered** and changeable. No duplicate members.\n",
      "\n",
      "\n"
     ]
    }
   ],
   "source": [
    "print('''\n",
    "\n",
    "List is a collection which is ordered and changeable. Allows duplicate members.\n",
    "Tuple is a collection which is ordered and unchangeable. Allows duplicate members.\n",
    "Set is a collection which is unordered, unchangeable*, and unindexed. No duplicate members.\n",
    "Dictionary is a collection which is ordered** and changeable. No duplicate members.\n",
    "\n",
    "''')"
   ]
  },
  {
   "cell_type": "code",
   "execution_count": 6,
   "id": "4b70d7a4-cfd5-4b26-a792-99fafd2f80ca",
   "metadata": {},
   "outputs": [
    {
     "name": "stdout",
     "output_type": "stream",
     "text": [
      "Ford\n"
     ]
    }
   ],
   "source": [
    "# The values in dictionary items can be of any data type:\n",
    "# String, int, boolean, and list data types:\n",
    "\n",
    "thisdict = {\n",
    "  \"brand\": \"Ford\",\n",
    "  \"electric\": False,\n",
    "  \"year\": 1964,\n",
    "  \"colors\": [\"red\", \"white\", \"blue\"]\n",
    "}\n",
    "print(thisdict[\"brand\"])"
   ]
  },
  {
   "cell_type": "code",
   "execution_count": 7,
   "id": "a188c7a8-cbb4-472c-b459-ac0035e337d6",
   "metadata": {},
   "outputs": [
    {
     "name": "stdout",
     "output_type": "stream",
     "text": [
      "{'name': 'John', 'age': 36, 'country': 'Norway'}\n"
     ]
    }
   ],
   "source": [
    "# Using the dict() method to make a dictionary:\n",
    "\n",
    "thisdict = dict(name = \"John\", age = 36, country = \"Norway\")\n",
    "print(thisdict)"
   ]
  },
  {
   "cell_type": "code",
   "execution_count": 8,
   "id": "f5693b6e-8b3a-425f-955c-2c42e13f3013",
   "metadata": {},
   "outputs": [
    {
     "name": "stdout",
     "output_type": "stream",
     "text": [
      "\n",
      "\n",
      "   From Python 3.7 Version onward, Python dictionary are Ordered.\n",
      "   Dictionary keys are case sensitive: the same name but different cases of Key will be treated distinctly.\n",
      "   Keys must be immutable: This means keys can be strings, numbers, or tuples but not lists.\n",
      "   Keys must be unique: Duplicate keys are not allowed and any duplicate key will overwrite the previous value.\n",
      "\n",
      "\n"
     ]
    }
   ],
   "source": [
    "print('''\n",
    "\n",
    "   From Python 3.7 Version onward, Python dictionary are Ordered.\n",
    "   Dictionary keys are case sensitive: the same name but different cases of Key will be treated distinctly.\n",
    "   Keys must be immutable: This means keys can be strings, numbers, or tuples but not lists.\n",
    "   Keys must be unique: Duplicate keys are not allowed and any duplicate key will overwrite the previous value.\n",
    "\n",
    "''')"
   ]
  },
  {
   "cell_type": "code",
   "execution_count": 9,
   "id": "ab049a7d-74f1-40a9-819b-b1b6a9e47fe1",
   "metadata": {},
   "outputs": [
    {
     "data": {
      "text/plain": [
       "{'colors': ['red', 'green', 'blue'],\n",
       " 'plugins': {'dev_sugar', 'fasting_py', 'py_code'},\n",
       " 'timeout': 3,\n",
       " 'position': <__main__.Point at 0x2d2943b35c0>}"
      ]
     },
     "execution_count": 9,
     "metadata": {},
     "output_type": "execute_result"
    }
   ],
   "source": [
    "# Unlike dictionary keys, there are no restrictions for dictionary values. Literally none at all. \n",
    "# A dictionary value can be any type of object, including mutable types like lists and dictionaries, as well as user-defined objects:\n",
    "\n",
    "class Point:\n",
    "     def __init__(self, x, y):\n",
    "          self.x = x\n",
    "          self.y = y\n",
    "\n",
    "\n",
    "{\n",
    "     \"colors\": [\"red\", \"green\", \"blue\"],\n",
    "     \"plugins\": {\"py_code\", \"dev_sugar\", \"fasting_py\"},\n",
    "     \"timeout\": 3,\n",
    "     \"position\": Point(42, 21),\n",
    "}"
   ]
  },
  {
   "cell_type": "code",
   "execution_count": 10,
   "id": "887f0024-21a5-4c2f-8380-349ff7c5f29d",
   "metadata": {},
   "outputs": [
    {
     "data": {
      "text/plain": [
       "{'Colorado': 'Rockies',\n",
       " 'Chicago': 'White Sox',\n",
       " 'Boston': 'Red Sox',\n",
       " 'Minnesota': 'Twins',\n",
       " 'Milwaukee': 'Brewers',\n",
       " 'Seattle': 'Mariners'}"
      ]
     },
     "execution_count": 10,
     "metadata": {},
     "output_type": "execute_result"
    }
   ],
   "source": [
    "places = [\n",
    "     \"Colorado\",\n",
    "     \"Chicago\",\n",
    "     \"Boston\",\n",
    "     \"Minnesota\",\n",
    "     \"Milwaukee\",\n",
    "     \"Seattle\",\n",
    "]\n",
    "\n",
    "teams = [\n",
    "     \"Rockies\",\n",
    "     \"White Sox\",\n",
    "     \"Red Sox\",\n",
    "     \"Twins\",\n",
    "     \"Brewers\",\n",
    "     \"Mariners\",\n",
    "]\n",
    "\n",
    "dict(zip(places, teams))"
   ]
  },
  {
   "cell_type": "code",
   "execution_count": null,
   "id": "5b795fa7-491d-4c04-8d82-f83c5d76b87c",
   "metadata": {},
   "outputs": [],
   "source": []
  },
  {
   "cell_type": "code",
   "execution_count": 11,
   "id": "64ae5133-cebd-447a-b582-53b480f64cb3",
   "metadata": {},
   "outputs": [
    {
     "name": "stdout",
     "output_type": "stream",
     "text": [
      "Accessing Items\n",
      "Mustang\n",
      "Ford\n",
      "{'brand': 'Ford', 'model': 'Mustang', 'year': 1964}\n"
     ]
    }
   ],
   "source": [
    "print('''Accessing Items''')\n",
    "# You can access the items of a dictionary by referring to its key name, inside square brackets:\n",
    "\n",
    "car = {\n",
    "  \"brand\": \"Ford\",\n",
    "  \"model\": \"Mustang\",\n",
    "  \"year\": 1964\n",
    "}\n",
    "\n",
    "x = car[\"model\"]\n",
    "print(x)\n",
    "\n",
    "x = car.get(\"brand\")\n",
    "print(x)\n",
    "\n",
    "print(car)"
   ]
  },
  {
   "cell_type": "code",
   "execution_count": 12,
   "id": "8d0a860a-ff36-4180-a2ae-29d943167eb9",
   "metadata": {},
   "outputs": [
    {
     "name": "stdout",
     "output_type": "stream",
     "text": [
      "Get Keys\n",
      "dict_keys(['brand', 'model', 'year'])\n",
      "dict_keys(['brand', 'model', 'year'])\n",
      "dict_values(['Ford', 'Mustang', '1986'])\n"
     ]
    }
   ],
   "source": [
    "print(\"Get Keys\")\n",
    "\n",
    "x = car.keys()\n",
    "print(x)\n",
    "\n",
    "car[\"year\"] = \"1986\"\n",
    "print(car.keys()) # after the change\n",
    "\n",
    "# Get Values\n",
    "\n",
    "x = car.values()\n",
    "print(x)"
   ]
  },
  {
   "cell_type": "code",
   "execution_count": 13,
   "id": "17fd2442-4639-4f40-9134-fbe38d4cb497",
   "metadata": {},
   "outputs": [
    {
     "name": "stdout",
     "output_type": "stream",
     "text": [
      "\n",
      "\n",
      "Populating Dictionaries Incrementally\n",
      "\n",
      "Python dictionaries are dynamically sized data structures. This means that you can add key-value pairs to your dictionaries dynamically, \n",
      "and Python will take care of increasing the dictionary size for you. \n",
      "\n",
      "This characteristic is helpful because it lets you dynamically populate dictionaries with data.\n",
      "\n",
      "When populating dictionaries, there are three common techniques that you can use. You can:\n",
      "\n",
      "Assign keys manually\n",
      "Add keys in a for loop\n",
      "Build a dictionary with a comprehension\n",
      "\n",
      "\n",
      "{1: 1, 2: 4, 3: 9, 4: 16, 5: 25, 6: 36, 7: 49, 8: 64, 9: 81}\n",
      "{1: 1, 2: 4, 3: 9, 4: 16, 5: 25, 6: 36, 7: 49, 8: 64, 9: 81}\n"
     ]
    }
   ],
   "source": [
    "print('''\n",
    "\n",
    "Populating Dictionaries Incrementally\n",
    "\n",
    "Python dictionaries are dynamically sized data structures. This means that you can add key-value pairs to your dictionaries dynamically, \n",
    "and Python will take care of increasing the dictionary size for you. \n",
    "\n",
    "This characteristic is helpful because it lets you dynamically populate dictionaries with data.\n",
    "\n",
    "When populating dictionaries, there are three common techniques that you can use. You can:\n",
    "\n",
    "Assign keys manually\n",
    "Add keys in a for loop\n",
    "Build a dictionary with a comprehension\n",
    "\n",
    "''')\n",
    "\n",
    "# Adding Keys in a for Loop\n",
    "\n",
    "squares = {}\n",
    "\n",
    "for integer in range(1, 10):\n",
    "     squares[integer] = integer**2\n",
    "\n",
    "print(squares)\n",
    "\n",
    "# Building Dictionaries With Comprehensions\n",
    "# Python has dictionary comprehensions, which is another great tool for creating and populating dictionaries with concise syntax. \n",
    "\n",
    "squares = {integer: integer**2 for integer in range(1, 10)}\n",
    "print(squares)"
   ]
  },
  {
   "cell_type": "code",
   "execution_count": null,
   "id": "fb7df08b-4a5e-4823-8790-122d2f1dc250",
   "metadata": {},
   "outputs": [],
   "source": []
  },
  {
   "cell_type": "code",
   "execution_count": 14,
   "id": "4dc89993-52bc-49ab-84eb-35136fae7fbd",
   "metadata": {},
   "outputs": [
    {
     "name": "stdout",
     "output_type": "stream",
     "text": [
      "dict_values(['Ford', 'Mustang', 1964])\n",
      "dict_values(['Ford', 'Mustang', 1964, 'red'])\n"
     ]
    }
   ],
   "source": [
    "# Add a new item to the original dictionary, and see that the values list gets updated as well\n",
    "\n",
    "car = {\n",
    "\"brand\": \"Ford\",\n",
    "\"model\": \"Mustang\",\n",
    "\"year\": 1964\n",
    "}\n",
    "\n",
    "x = car.values()\n",
    "\n",
    "print(x) # before the change\n",
    "\n",
    "car[\"color\"] = \"red\"\n",
    "\n",
    "print(x) # after the change"
   ]
  },
  {
   "cell_type": "code",
   "execution_count": 15,
   "id": "0558e6f4-9f7f-458a-b801-9130e65f4060",
   "metadata": {},
   "outputs": [
    {
     "name": "stdout",
     "output_type": "stream",
     "text": [
      "Get Items\n",
      "dict_items([('brand', 'Ford'), ('model', 'Mustang'), ('year', 1964)])\n",
      "dict_items([('brand', 'Ford'), ('model', 'Mustang'), ('year', 2020)])\n"
     ]
    }
   ],
   "source": [
    "print(\"Get Items\")\n",
    "\n",
    "# The items() method will return each item in a dictionary, as tuples in a list.\n",
    "\n",
    "# Get a list of the key:value pairs\n",
    "\n",
    "car = {\n",
    "\"brand\": \"Ford\",\n",
    "\"model\": \"Mustang\",\n",
    "\"year\": 1964\n",
    "}\n",
    "\n",
    "x = car.items()\n",
    "print(x) # before the change\n",
    "\n",
    "car[\"year\"] = 2020\n",
    "print(x) #  after the change"
   ]
  },
  {
   "cell_type": "code",
   "execution_count": 16,
   "id": "773a53c9-3681-4b20-8130-8eda169a759f",
   "metadata": {},
   "outputs": [
    {
     "name": "stdout",
     "output_type": "stream",
     "text": [
      "Yes, 'model' is one of the keys in the thisdict dictionary\n"
     ]
    }
   ],
   "source": [
    "# Check if Key Exists\n",
    "\n",
    "if \"model\" in car:\n",
    "  print(\"Yes, 'model' is one of the keys in the thisdict dictionary\")"
   ]
  },
  {
   "cell_type": "code",
   "execution_count": null,
   "id": "58eabdaf-c79c-4c6c-9a60-e5fc6da0d35a",
   "metadata": {},
   "outputs": [],
   "source": []
  },
  {
   "cell_type": "code",
   "execution_count": 17,
   "id": "77f079f2-6b76-40c7-a5d3-357ced3b7967",
   "metadata": {},
   "outputs": [
    {
     "name": "stdout",
     "output_type": "stream",
     "text": [
      "Update Dictionary\n",
      "{'brand': 'Ford', 'model': 'Mustang', 'year': 1964, 'color': 'red'}\n"
     ]
    }
   ],
   "source": [
    "print(\"Update Dictionary\")\n",
    "\n",
    "# The update() method will update the dictionary with the items from a given argument. If the item does not exist, the item will be added.\n",
    "# The argument must be a dictionary, or an iterable object with key:value pairs\n",
    "\n",
    "cars = {\n",
    "  \"brand\": \"Ford\",\n",
    "  \"model\": \"Mustang\",\n",
    "  \"year\": 1964\n",
    "}\n",
    "\n",
    "cars.update({\"color\": \"red\"})\n",
    "print(cars)"
   ]
  },
  {
   "cell_type": "code",
   "execution_count": 18,
   "id": "b66dbfb3-6242-4095-82c4-3617247effc6",
   "metadata": {},
   "outputs": [
    {
     "name": "stdout",
     "output_type": "stream",
     "text": [
      "Change Dictionary Items\n",
      "{'Germany': 'Berlin', 'Italy': 'Rome', 'England': 'London'}\n"
     ]
    }
   ],
   "source": [
    "print(\"Change Dictionary Items\")\n",
    "\n",
    "# Python dictionaries are mutable (changeable). We can change the value of a dictionary element by referring to its key. For example,\n",
    "\n",
    "country_capitals = {\n",
    "  \"Germany\": \"Berlin\", \n",
    "  \"Italy\": \"Naples\", \n",
    "  \"England\": \"London\"\n",
    "}\n",
    "\n",
    "# change the value of \"Italy\" key to \"Rome\"\n",
    "country_capitals[\"Italy\"] = \"Rome\"\n",
    "\n",
    "print(country_capitals)"
   ]
  },
  {
   "cell_type": "code",
   "execution_count": 19,
   "id": "d74dbf91-2bdc-4146-a078-c0eb8e833c9a",
   "metadata": {},
   "outputs": [
    {
     "name": "stdout",
     "output_type": "stream",
     "text": [
      "\n",
      "      del: Removes an item by key.\n",
      "      pop(): Removes an item by key and returns its value.\n",
      "      clear(): Empties the dictionary.\n",
      "      popitem(): Removes and returns the last key-value pair.\n",
      "\n"
     ]
    }
   ],
   "source": [
    "print('''\n",
    "      del: Removes an item by key.\n",
    "      pop(): Removes an item by key and returns its value.\n",
    "      clear(): Empties the dictionary.\n",
    "      popitem(): Removes and returns the last key-value pair.\n",
    "''')"
   ]
  },
  {
   "cell_type": "code",
   "execution_count": 20,
   "id": "4e5a43d5-92ac-447a-9a18-e51471c26744",
   "metadata": {},
   "outputs": [
    {
     "name": "stdout",
     "output_type": "stream",
     "text": [
      "Removing Items\n",
      "{'brand': 'Ford', 'year': 1964}\n"
     ]
    }
   ],
   "source": [
    "print(\"Removing Items\")\n",
    "\n",
    "# There are several methods to remove items from a dictionary.\n",
    "# The pop() method removes the item with the specified key name.\n",
    "\n",
    "cars = {\n",
    "  \"brand\": \"Ford\",\n",
    "  \"model\": \"Mustang\",\n",
    "  \"year\": 1964\n",
    "}\n",
    "\n",
    "cars.pop(\"model\")\n",
    "print(cars)"
   ]
  },
  {
   "cell_type": "code",
   "execution_count": 21,
   "id": "963fe517-7397-469b-8408-b016a962e7f7",
   "metadata": {},
   "outputs": [
    {
     "name": "stdout",
     "output_type": "stream",
     "text": [
      "Popitem\n",
      "{'brand': 'Ford', 'model': 'Mustang'}\n"
     ]
    }
   ],
   "source": [
    "print(\"Popitem\")\n",
    "\n",
    "# The popitem() method removes the last inserted item (in versions before 3.7, a random item is removed instead):\n",
    "\n",
    "cars = {\n",
    "  \"brand\": \"Ford\",\n",
    "  \"model\": \"Mustang\",\n",
    "  \"year\": 1964\n",
    "}\n",
    "\n",
    "cars.popitem()\n",
    "print(cars)"
   ]
  },
  {
   "cell_type": "code",
   "execution_count": 22,
   "id": "63cf8cf4-c66f-47bd-a1c8-259b431b8edf",
   "metadata": {},
   "outputs": [
    {
     "name": "stdout",
     "output_type": "stream",
     "text": [
      "\n",
      "\n",
      "pop(key, default)\n",
      "\n",
      "Removes a specific key-value pair by specifying the key.\n",
      "Returns the value associated with the key.\n",
      "If the key does not exist and a default value is provided, it returns the default value instead of raising an error.\n",
      "\n",
      "\n",
      "\n",
      "\n",
      "popitem()\n",
      "\n",
      "Removes and returns the last inserted key-value pair from the dictionary as a tuple (key, value).\n",
      "Useful for treating a dictionary like a stack (LIFO - Last In, First Out).\n",
      "Raises a KeyError if the dictionary is empty.\n",
      "\n",
      "\n"
     ]
    }
   ],
   "source": [
    "print('''\n",
    "\n",
    "pop(key, default)\n",
    "\n",
    "Removes a specific key-value pair by specifying the key.\n",
    "Returns the value associated with the key.\n",
    "If the key does not exist and a default value is provided, it returns the default value instead of raising an error.\n",
    "\n",
    "''')\n",
    "\n",
    "print('''\n",
    "\n",
    "popitem()\n",
    "\n",
    "Removes and returns the last inserted key-value pair from the dictionary as a tuple (key, value).\n",
    "Useful for treating a dictionary like a stack (LIFO - Last In, First Out).\n",
    "Raises a KeyError if the dictionary is empty.\n",
    "\n",
    "''')"
   ]
  },
  {
   "cell_type": "code",
   "execution_count": 23,
   "id": "cb33ce4d-6d38-4cfa-98b1-d3d8604db224",
   "metadata": {},
   "outputs": [
    {
     "name": "stdout",
     "output_type": "stream",
     "text": [
      "Del\n",
      "{'brand': 'Ford', 'year': 1964}\n"
     ]
    }
   ],
   "source": [
    "print(\"Del\")\n",
    "\n",
    "# The del keyword removes the item with the specified key name:\n",
    "\n",
    "cars = {\n",
    "  \"brand\": \"Ford\",\n",
    "  \"model\": \"Mustang\",\n",
    "  \"year\": 1964\n",
    "}\n",
    "\n",
    "del cars[\"model\"]\n",
    "print(cars)\n",
    "\n",
    "# The del keyword can also delete the dictionary completely:\n",
    "\n",
    "cars = {\n",
    "  \"brand\": \"Ford\",\n",
    "  \"model\": \"Mustang\",\n",
    "  \"year\": 1964\n",
    "}\n",
    "\n",
    "del cars\n",
    "# print(cars)"
   ]
  },
  {
   "cell_type": "code",
   "execution_count": 24,
   "id": "cfecfa53-5c11-45d7-bada-a219231a997e",
   "metadata": {},
   "outputs": [
    {
     "name": "stdout",
     "output_type": "stream",
     "text": [
      "Clear\n",
      "{}\n"
     ]
    }
   ],
   "source": [
    "print(\"Clear\")\n",
    "\n",
    "# The clear() method empties the dictionary:\n",
    "\n",
    "cars = {\n",
    "  \"brand\": \"Ford\",\n",
    "  \"model\": \"Mustang\",\n",
    "  \"year\": 1964\n",
    "}\n",
    "\n",
    "cars.clear()\n",
    "print(cars)"
   ]
  },
  {
   "cell_type": "code",
   "execution_count": 25,
   "id": "44790428-a91e-4310-a9c8-441fb40c92b8",
   "metadata": {},
   "outputs": [
    {
     "name": "stdout",
     "output_type": "stream",
     "text": [
      "brand\n",
      "model\n",
      "year\n",
      "Ford\n",
      "Mustang\n",
      "1964\n",
      "brand Ford\n",
      "model Mustang\n",
      "year 1964\n"
     ]
    }
   ],
   "source": [
    "cars = {\n",
    "  \"brand\": \"Ford\",\n",
    "  \"model\": \"Mustang\",\n",
    "  \"year\": 1964\n",
    "}\n",
    "\n",
    "for x in cars.keys():\n",
    "   print(x)\n",
    "\n",
    "for x in cars.values():\n",
    "  print(x)\n",
    "\n",
    "for x, y in cars.items():\n",
    "   print(x, y)"
   ]
  },
  {
   "cell_type": "code",
   "execution_count": 26,
   "id": "6ead93d8-5820-4ffa-9351-60a4155c0d45",
   "metadata": {},
   "outputs": [
    {
     "name": "stdout",
     "output_type": "stream",
     "text": [
      "Copy a Dictionary\n",
      "{'brand': 'Ford', 'model': 'Mustang', 'year': 1964}\n"
     ]
    }
   ],
   "source": [
    "print(\"Copy a Dictionary\")\n",
    "\n",
    "# You cannot copy a dictionary simply by typing dict2 = dict1, \n",
    "# because: dict2 will only be a reference to dict1, and changes made in dict1 will automatically also be made in dict2.\n",
    "\n",
    "cars = {\n",
    "  \"brand\": \"Ford\",\n",
    "  \"model\": \"Mustang\",\n",
    "  \"year\": 1964\n",
    "}\n",
    "\n",
    "carsss = cars.copy()\n",
    "print(carsss)"
   ]
  },
  {
   "cell_type": "code",
   "execution_count": 27,
   "id": "3dab7849-4794-4490-ab96-3611abbcd84a",
   "metadata": {},
   "outputs": [
    {
     "name": "stdout",
     "output_type": "stream",
     "text": [
      "Equality and Inequality: == and !\n"
     ]
    },
    {
     "data": {
      "text/plain": [
       "False"
      ]
     },
     "execution_count": 27,
     "metadata": {},
     "output_type": "execute_result"
    }
   ],
   "source": [
    "print('''Equality and Inequality: == and !''')\n",
    "\n",
    "# These operators disregard element order when you use them with dictionaries, which is different from what happens with lists, for example:\n",
    "\n",
    "[1, 2, 3] == [3, 2, 1]\n",
    "# False\n",
    "{1: 1, 2: 2, 3: 3} == {3: 3, 2: 2, 1: 1}\n",
    "# True\n",
    "\n",
    "[1, 2, 3] != [3, 2, 1]\n",
    "# True\n",
    "{1: 1, 2: 2, 3: 3} != {3: 3, 2: 2, 1: 1}\n",
    "# False"
   ]
  },
  {
   "cell_type": "code",
   "execution_count": 28,
   "id": "da9f5946-1abe-42d8-9cc1-9de3b0223eca",
   "metadata": {},
   "outputs": [
    {
     "name": "stdout",
     "output_type": "stream",
     "text": [
      "Union of Dictionaries (| or .union())\n",
      "Union using | operator: {'a': 1, 'b': 20, 'c': 30, 'd': 4}\n",
      "Union using .update(): {'a': 1, 'b': 20, 'c': 30, 'd': 4}\n",
      "Union of Key-Value Pairs Using | (Python 3.9+)\n",
      "Union based on keys: {'d', 'a', 'b', 'c'}\n",
      "Union based on key-value pairs: {'d', 'a', 'b', 'c'}\n",
      "Union: {'a': 1, 'b': 20, 'c': 30, 'd': 4}\n"
     ]
    }
   ],
   "source": [
    "print('''Union of Dictionaries (| or .union())''')\n",
    "\n",
    "# The union operator (|) creates a new dictionary by merging the keys and values of two initial dictionaries. \n",
    "# The values of the dictionary to the right of the operator take precedence when both dictionaries share keys.\n",
    "\n",
    "# If a key exists in both, the value from the second dictionary (dict2) overrides the first (dict1).\n",
    "# It works in Python 3.9+ using | or .union().\n",
    "\n",
    "# Define dictionaries\n",
    "dict1 = {'a': 1, 'b': 2, 'c': 3}\n",
    "dict2 = {'b': 20, 'c': 30, 'd': 4}\n",
    "\n",
    "# Union using | (Python 3.9+)\n",
    "union_dict = dict1 | dict2\n",
    "\n",
    "# Union using update() (for older versions)\n",
    "union_dict_alt = dict1.copy()\n",
    "union_dict_alt.update(dict2)\n",
    "\n",
    "# Print results\n",
    "print(\"Union using | operator:\", union_dict)\n",
    "print(\"Union using .update():\", union_dict_alt)\n",
    "print(\"Union of Key-Value Pairs Using | (Python 3.9+)\")\n",
    "\n",
    "# Get the union of keys\n",
    "union_keys = dict1.keys() | dict2.keys()\n",
    "\n",
    "# Construct a new dictionary with keys from both, keeping original values from dict1 when possible\n",
    "# union_dict = {k: dict1.get(k, dict2.get(k)) for k in union_keys}\n",
    "\n",
    "# Print the result\n",
    "print(\"Union based on keys:\", union_keys)\n",
    "\n",
    "dict1 = {'a': 1, 'b': 2, 'c': 3}\n",
    "dict2 = {'b': 20, 'c': 30, 'd': 4}\n",
    "\n",
    "print(\"Union based on key-value pairs:\", union_keys)\n",
    "\n",
    "# Union operator (Python 3.9+)\n",
    "union_dict = dict1 | dict2\n",
    "\n",
    "print(\"Union:\", union_dict)"
   ]
  },
  {
   "cell_type": "code",
   "execution_count": 29,
   "id": "03602d9d-79d0-4b68-9f41-131f8f15b568",
   "metadata": {},
   "outputs": [
    {
     "name": "stdout",
     "output_type": "stream",
     "text": [
      "Intersection (&) on Dictionaries\n",
      "Key-Based Intersection\n",
      "{'b', 'c'}\n",
      "Key-Value Pair Intersection\n",
      "{'b': 2, 'c': 3}\n",
      "{'b': 20, 'c': 30}\n"
     ]
    }
   ],
   "source": [
    "print(\"Intersection (&) on Dictionaries\")\n",
    "\n",
    "dict1 = {'a': 1, 'b': 2, 'c': 3}\n",
    "dict2 = {'b': 20, 'c': 30, 'd': 4}\n",
    "\n",
    "print('''Key-Based Intersection''')\n",
    "# dict1.keys() & dict2.keys(): Finds common keys.\n",
    "\n",
    "common_keys = dict1.keys() & dict2.keys()\n",
    "print(common_keys)  # Output: {'b', 'c'}\n",
    "\n",
    "print('''Key-Value Pair Intersection''')\n",
    "# {k: dict1[k] for k in dict1.keys() & dict2.keys()}\n",
    "\n",
    "intersect_dict = {k: dict1[k] for k in dict1.keys() & dict2.keys()}\n",
    "print(intersect_dict)  # Output: {'b': 2, 'c': 3}\n",
    "\n",
    "intersect_dict = {k: dict2[k] for k in dict1.keys() & dict2.keys()}\n",
    "print(intersect_dict)  # Output: {'b': 20, 'c': 30}"
   ]
  },
  {
   "cell_type": "code",
   "execution_count": 30,
   "id": "160b4599-3708-4199-bfbf-1ca060912b08",
   "metadata": {},
   "outputs": [
    {
     "name": "stdout",
     "output_type": "stream",
     "text": [
      "Difference (-) on Dictionaries\n",
      "Key-Based Difference\n",
      "{'a'}\n",
      "Key-Value Pair Difference\n",
      "{'a': 1}\n"
     ]
    }
   ],
   "source": [
    "print('''Difference (-) on Dictionaries''')\n",
    "\n",
    "dict1 = {'a': 1, 'b': 2, 'c': 3}\n",
    "dict2 = {'b': 20, 'c': 30, 'd': 4}\n",
    "\n",
    "print(\"Key-Based Difference\")\n",
    "# dict1.keys() - dict2.keys(): Returns keys in dict1 but not in dict2.\n",
    "\n",
    "dict1 = {'a': 1, 'b': 2, 'c': 3}\n",
    "dict2 = {'b': 20, 'c': 30, 'd': 40}\n",
    "diff_keys = dict1.keys() - dict2.keys()\n",
    "print(diff_keys)  # Output: {'a'}\n",
    "# Only {'a'} remains because 'b' and 'c' are in both dictionaries.\n",
    "\n",
    "print(\"Key-Value Pair Difference\")\n",
    "# {k: v for k, v in dict1.items() if k not in dict2}\n",
    "\n",
    "diff_dict = {k: v for k, v in dict1.items() if k not in dict2}\n",
    "print(diff_dict)  # Output: {'a': 1}"
   ]
  },
  {
   "cell_type": "code",
   "execution_count": 31,
   "id": "02f827c5-c755-462c-9990-e43d2e49314a",
   "metadata": {},
   "outputs": [
    {
     "name": "stdout",
     "output_type": "stream",
     "text": [
      "Symmetric Difference (^)\n",
      "Symmetric Difference on Keys\n",
      "{'d', 'a'}\n",
      "Symmetric Difference on Key-Value Pairs\n",
      "{'d': 4, 'a': 1, 'b': 2, 'c': 3}\n"
     ]
    }
   ],
   "source": [
    "print('''Symmetric Difference (^)''')\n",
    "\n",
    "# dict1.keys() ^ dict2.keys(): Returns keys that are only in one dictionary.\n",
    "\n",
    "dict1 = {'a': 1, 'b': 2, 'c': 3}\n",
    "dict2 = {'b': 20, 'c': 30, 'd': 4}\n",
    "\n",
    "print(\"Symmetric Difference on Keys\")\n",
    "\n",
    "symmetric_diff_keys = dict1.keys() ^ dict2.keys()\n",
    "print(symmetric_diff_keys)  # Output: {'a', 'd'}\n",
    "\n",
    "print(\"Symmetric Difference on Key-Value Pairs\")\n",
    "\n",
    "# Find unique keys in either dictionary\n",
    "unique_keys = dict1.keys() ^ dict2.keys()\n",
    "    \n",
    "# Find keys that are in both but with different values\n",
    "diff_values = {k for k in dict1.keys() & dict2.keys() if dict1[k] != dict2[k]}\n",
    "\n",
    "# Find unique keys in either dictionary\n",
    "unique_keys = dict1.keys() ^ dict2.keys()\n",
    "\n",
    "# Combine both unique keys and differing value keys\n",
    "sym_diff = {k: (dict1[k] if k in dict1 else dict2[k]) for k in unique_keys | diff_values}\n",
    "print(sym_diff)"
   ]
  },
  {
   "cell_type": "code",
   "execution_count": 32,
   "id": "b018e8bc-8fb0-47cd-b812-23e76159bbff",
   "metadata": {},
   "outputs": [
    {
     "name": "stdout",
     "output_type": "stream",
     "text": [
      "Symmetric Difference on Keys\n",
      "{'d', 'a'}\n",
      "\n",
      "Symmetric Difference on Key-Value Pairs\n",
      "{'d': 4, 'a': 1, 'b': 2, 'c': 3}\n"
     ]
    }
   ],
   "source": [
    "def symmetric_difference(dict1, dict2):\n",
    "    # Find keys that are only in one dictionary\n",
    "    unique_keys = dict1.keys() ^ dict2.keys()\n",
    "\n",
    "    # Find keys that exist in both but have different values\n",
    "    diff_values = {k for k in dict1.keys() & dict2.keys() if dict1[k] != dict2[k]}\n",
    "\n",
    "    # Combine both unique keys and differing value keys with correct values\n",
    "    sym_diff = {k: dict1[k] if k in dict1 else dict2[k] for k in unique_keys | diff_values}\n",
    "\n",
    "    return sym_diff\n",
    "\n",
    "# Define dictionaries\n",
    "dict1 = {'a': 1, 'b': 2, 'c': 3}\n",
    "dict2 = {'b': 20, 'c': 30, 'd': 4}\n",
    "\n",
    "# Symmetric Difference on Keys\n",
    "print(\"Symmetric Difference on Keys\")\n",
    "symmetric_diff_keys = dict1.keys() ^ dict2.keys()\n",
    "print(symmetric_diff_keys)  # Expected Output: {'a', 'd'}\n",
    "\n",
    "# Symmetric Difference on Key-Value Pairs\n",
    "print(\"\\nSymmetric Difference on Key-Value Pairs\")\n",
    "result = symmetric_difference(dict1, dict2)\n",
    "print(result)  # Expected Output: {'a': 1, 'b': 2, 'c': 3, 'd': 4}"
   ]
  },
  {
   "cell_type": "code",
   "execution_count": 33,
   "id": "ac4bebdc-4ee3-4e2b-90ff-aef4da506e1c",
   "metadata": {},
   "outputs": [
    {
     "name": "stdout",
     "output_type": "stream",
     "text": [
      "Nested Dictionaries\n",
      "Tobias\n",
      "2011\n",
      "child1 {'name': 'Emil', 'year': 2004}\n",
      "name: Emil\n",
      "year: 2004\n",
      "child2 {'name': 'Tobias', 'year': 2007}\n",
      "name: Tobias\n",
      "year: 2007\n",
      "child3 {'name': 'Linus', 'year': 2011}\n",
      "name: Linus\n",
      "year: 2011\n"
     ]
    }
   ],
   "source": [
    "print(\"Nested Dictionaries\")\n",
    "\n",
    "# A dictionary can contain dictionaries, this is called nested dictionaries.\n",
    "# Create a dictionary that contain three dictionaries:\n",
    "\n",
    "myfamily = {\n",
    "  \"child1\" : {\n",
    "    \"name\" : \"Emil\",\n",
    "    \"year\" : 2004\n",
    "  },\n",
    "  \"child2\" : {\n",
    "    \"name\" : \"Tobias\",\n",
    "    \"year\" : 2007\n",
    "  },\n",
    "  \"child3\" : {\n",
    "    \"name\" : \"Linus\",\n",
    "    \"year\" : 2011\n",
    "  }\n",
    "}\n",
    "\n",
    "print(myfamily[\"child2\"][\"name\"])\n",
    "print(myfamily[\"child3\"][\"year\"])\n",
    "\n",
    "for x, obj in myfamily.items():\n",
    "  print(x, obj)\n",
    "\n",
    "  for y in obj:\n",
    "      print(y + ':', obj[y]) \n"
   ]
  },
  {
   "cell_type": "code",
   "execution_count": 34,
   "id": "7bcdc067-6aae-429b-91da-a3711e9864ee",
   "metadata": {},
   "outputs": [
    {
     "name": "stdout",
     "output_type": "stream",
     "text": [
      "\n",
      "\n",
      "   clear()\t    Removes all the elements from the dictionary\n",
      "   copy()\t    Returns a copy of the dictionary\n",
      "   fromkeys()\tReturns a dictionary with the specified keys and value\n",
      "   get()\t    Returns the value of the specified key\n",
      "   items()\t    Returns a list containing a tuple for each key value pair\n",
      "   keys()\t    Returns a list containing the dictionary's keys\n",
      "   pop()\t    Removes the element with the specified key\n",
      "   popitem()\tRemoves the last inserted key-value pair\n",
      "   setdefault()\tReturns the value of the specified key. If the key does not exist: insert the key, with the specified value\n",
      "   update()\t    Updates the dictionary with the specified key-value pairs\n",
      "   values()\t    Returns a list of all the values in the dictionary\n",
      "\n",
      "\n"
     ]
    }
   ],
   "source": [
    "print('''\n",
    "\n",
    "   clear()\t    Removes all the elements from the dictionary\n",
    "   copy()\t    Returns a copy of the dictionary\n",
    "   fromkeys()\tReturns a dictionary with the specified keys and value\n",
    "   get()\t    Returns the value of the specified key\n",
    "   items()\t    Returns a list containing a tuple for each key value pair\n",
    "   keys()\t    Returns a list containing the dictionary's keys\n",
    "   pop()\t    Removes the element with the specified key\n",
    "   popitem()\tRemoves the last inserted key-value pair\n",
    "   setdefault()\tReturns the value of the specified key. If the key does not exist: insert the key, with the specified value\n",
    "   update()\t    Updates the dictionary with the specified key-value pairs\n",
    "   values()\t    Returns a list of all the values in the dictionary\n",
    "\n",
    "''')"
   ]
  },
  {
   "cell_type": "code",
   "execution_count": 35,
   "id": "548346c5-36a3-4f1d-8811-4c2cecb925fb",
   "metadata": {},
   "outputs": [
    {
     "name": "stdout",
     "output_type": "stream",
     "text": [
      "\n",
      "\n",
      "Exploring Existing Dictionary-Like Classes\n",
      "\n",
      "In the Python standard library, you’ll find a few dictionary-like classes that have been adapted to perform specific tasks. \n",
      "The most notable examples are the following:\n",
      "\n",
      "Class\tDescription\n",
      "\n",
      "OrderedDict\tA dictionary subclass specially designed to remember the order of items, which is defined by the insertion order of keys.\n",
      "Counter\tA dictionary subclass specially designed to provide efficient counting capabilities out of the box.\n",
      "defaultdict\tA dictionary subclass specially designed to handle missing keys in dictionaries.\n",
      "\n",
      "\n"
     ]
    }
   ],
   "source": [
    "print('''\n",
    "\n",
    "Exploring Existing Dictionary-Like Classes\n",
    "\n",
    "In the Python standard library, you’ll find a few dictionary-like classes that have been adapted to perform specific tasks. \n",
    "The most notable examples are the following:\n",
    "\n",
    "Class\tDescription\n",
    "\n",
    "OrderedDict\tA dictionary subclass specially designed to remember the order of items, which is defined by the insertion order of keys.\n",
    "Counter\tA dictionary subclass specially designed to provide efficient counting capabilities out of the box.\n",
    "defaultdict\tA dictionary subclass specially designed to handle missing keys in dictionaries.\n",
    "\n",
    "''')"
   ]
  },
  {
   "cell_type": "code",
   "execution_count": null,
   "id": "62d22073-7f3f-43a5-9f3d-cb72ee5d6111",
   "metadata": {},
   "outputs": [],
   "source": []
  },
  {
   "cell_type": "code",
   "execution_count": 36,
   "id": "2228e7e9-2ade-4391-8089-44716b262131",
   "metadata": {},
   "outputs": [
    {
     "name": "stdout",
     "output_type": "stream",
     "text": [
      "\n",
      "\n",
      "Hashable Objects\n",
      "\n",
      "The keys must be hashable objects like numbers, strings, or tuples. Being hashable means they can be passed to a hash function. \n",
      "\n",
      "A hash function takes data of arbitrary size and maps it to a fixed-size value called a hash value — or just hash — which is used for table lookup \n",
      "and comparison. In Python, the built-in immutable data types are hashable, and the mutable types are unhashable.\n",
      "\n",
      "\n"
     ]
    }
   ],
   "source": [
    "print('''\n",
    "\n",
    "Hashable Objects\n",
    "\n",
    "The keys must be hashable objects like numbers, strings, or tuples. Being hashable means they can be passed to a hash function. \n",
    "\n",
    "A hash function takes data of arbitrary size and maps it to a fixed-size value called a hash value — or just hash — which is used for table lookup \n",
    "and comparison. In Python, the built-in immutable data types are hashable, and the mutable types are unhashable.\n",
    "\n",
    "''')"
   ]
  },
  {
   "cell_type": "code",
   "execution_count": 37,
   "id": "0152f2e2-2816-435b-9070-b0b16d362f78",
   "metadata": {},
   "outputs": [
    {
     "name": "stdout",
     "output_type": "stream",
     "text": [
      "\n",
      "\n",
      "What is a Hash function?\n",
      "\n",
      "A hash function creates a mapping from an input key to an index in hash table, this is done through the use of mathematical formulas known \n",
      "as hash functions.\n",
      "\n",
      "For example: Consider phone numbers as keys and a hash table of size 100. A simple example hash function can be to consider the last two digits \n",
      "of phone numbers so that we have valid array indexes as output.\n",
      "\n",
      "Types of Hash functions:\n",
      "\n",
      "There are many hash functions that use numeric or alphanumeric keys. This article focuses on discussing different hash functions :\n",
      "\n",
      "Division Method.\n",
      "Mid Square Method\n",
      "Folding Method.\n",
      "Multiplication Method\n",
      "\n",
      "\n"
     ]
    }
   ],
   "source": [
    "print('''\n",
    "\n",
    "What is a Hash function?\n",
    "\n",
    "A hash function creates a mapping from an input key to an index in hash table, this is done through the use of mathematical formulas known \n",
    "as hash functions.\n",
    "\n",
    "For example: Consider phone numbers as keys and a hash table of size 100. A simple example hash function can be to consider the last two digits \n",
    "of phone numbers so that we have valid array indexes as output.\n",
    "\n",
    "Types of Hash functions:\n",
    "\n",
    "There are many hash functions that use numeric or alphanumeric keys. This article focuses on discussing different hash functions :\n",
    "\n",
    "Division Method.\n",
    "Mid Square Method\n",
    "Folding Method.\n",
    "Multiplication Method\n",
    "\n",
    "''')"
   ]
  },
  {
   "cell_type": "code",
   "execution_count": 38,
   "id": "8959c4f3-9f7a-4f68-b71d-53aed4be291b",
   "metadata": {},
   "outputs": [
    {
     "name": "stdout",
     "output_type": "stream",
     "text": [
      "\n",
      "\n",
      "Components of Hashing\n",
      "\n",
      "There are majorly three components of hashing:\n",
      "\n",
      "Key: A Key can be anything string or integer which is fed as input in the hash function the technique that determines an index or location \n",
      "for storage of an item in a data structure.\n",
      "\n",
      "Hash Function: Receives the input key and returns the index of an element in an array called a hash table. The index is known as the hash index.\n",
      "\n",
      "Hash Table: Hash Table is typically an array of lists. It stores values corresponding to the keys. Hash stores the data in an associative manner \n",
      "in an array where each data value has its own unique index.\n",
      "\n",
      "\n"
     ]
    }
   ],
   "source": [
    "print('''\n",
    "\n",
    "Components of Hashing\n",
    "\n",
    "There are majorly three components of hashing:\n",
    "\n",
    "Key: A Key can be anything string or integer which is fed as input in the hash function the technique that determines an index or location \n",
    "for storage of an item in a data structure.\n",
    "\n",
    "Hash Function: Receives the input key and returns the index of an element in an array called a hash table. The index is known as the hash index.\n",
    "\n",
    "Hash Table: Hash Table is typically an array of lists. It stores values corresponding to the keys. Hash stores the data in an associative manner \n",
    "in an array where each data value has its own unique index.\n",
    "\n",
    "''')"
   ]
  },
  {
   "cell_type": "code",
   "execution_count": 39,
   "id": "5b35461d-43ae-4462-8b5d-986ba1fa2273",
   "metadata": {},
   "outputs": [
    {
     "name": "stdout",
     "output_type": "stream",
     "text": [
      "\n",
      "\n",
      "How does Hashing work?\n",
      "\n",
      "Suppose we have a set of strings {“ab”, “cd”, “efg”} and we would like to store it in a table.\n",
      "\n",
      "Step 1: We know that hash functions (which is some mathematical formula) are used to calculate the hash value \n",
      "which acts as the index of the data structure where the value will be stored.\n",
      "\n",
      "Step 2: So, let’s assign\n",
      "“a” = 1,\n",
      "“b”=2, .. etc, to all alphabetical characters.\n",
      "\n",
      "Step 3: Therefore, the numerical value by summation of all characters of the string:\n",
      "\n",
      " “ab” = 1 + 2 = 3, \n",
      " “cd” = 3 + 4 = 7 , \n",
      " “efg” = 5 + 6 + 7 = 18 \n",
      "\n",
      "Step 4: Now, assume that we have a table of size 7 to store these strings. \n",
      "The hash function that is used here is the sum of the characters in key mod Table size. \n",
      "We can compute the location of the string in the array by taking the sum(string) mod 7.\n",
      "\n",
      "Step 5: So we will then store\n",
      "“ab” in 3 mod 7 = 3,\n",
      "“cd” in 7 mod 7 = 0, and\n",
      "“efg” in 18 mod 7 = 4.\n",
      "\n",
      "Mapping-Key-with-indices-of-Array\n",
      "\n",
      "The above technique enables us to calculate the location of a given string by using a simple hash function and rapidly find the value \n",
      "that is stored in that location. Therefore the idea of hashing seems like a great way to store (key, value) pairs of the data in a table.\n",
      "\n",
      "\n"
     ]
    }
   ],
   "source": [
    "print('''\n",
    "\n",
    "How does Hashing work?\n",
    "\n",
    "Suppose we have a set of strings {“ab”, “cd”, “efg”} and we would like to store it in a table.\n",
    "\n",
    "Step 1: We know that hash functions (which is some mathematical formula) are used to calculate the hash value \n",
    "which acts as the index of the data structure where the value will be stored.\n",
    "\n",
    "Step 2: So, let’s assign\n",
    "“a” = 1,\n",
    "“b”=2, .. etc, to all alphabetical characters.\n",
    "\n",
    "Step 3: Therefore, the numerical value by summation of all characters of the string:\n",
    "\n",
    " “ab” = 1 + 2 = 3, \n",
    " “cd” = 3 + 4 = 7 , \n",
    " “efg” = 5 + 6 + 7 = 18 \n",
    "\n",
    "Step 4: Now, assume that we have a table of size 7 to store these strings. \n",
    "The hash function that is used here is the sum of the characters in key mod Table size. \n",
    "We can compute the location of the string in the array by taking the sum(string) mod 7.\n",
    "\n",
    "Step 5: So we will then store\n",
    "“ab” in 3 mod 7 = 3,\n",
    "“cd” in 7 mod 7 = 0, and\n",
    "“efg” in 18 mod 7 = 4.\n",
    "\n",
    "Mapping-Key-with-indices-of-Array\n",
    "\n",
    "The above technique enables us to calculate the location of a given string by using a simple hash function and rapidly find the value \n",
    "that is stored in that location. Therefore the idea of hashing seems like a great way to store (key, value) pairs of the data in a table.\n",
    "\n",
    "''')"
   ]
  },
  {
   "cell_type": "code",
   "execution_count": 40,
   "id": "a970d08c-78fa-4088-af70-3f5a98f87801",
   "metadata": {},
   "outputs": [
    {
     "name": "stdout",
     "output_type": "stream",
     "text": [
      "\n",
      "\n",
      "What is Collision?\n",
      "\n",
      "For example: {“ab”, “ba”} both have the same hash value, and string {“cd”,”be”} also generate the same hash value, etc. \n",
      "This is known as collision and it creates problem in searching, insertion, deletion, and updating of value. \n",
      "The probability of a hash collision depends on the size of the algorithm, the distribution of hash values and the efficiency of Hash Function.\n",
      "\n",
      "\n"
     ]
    }
   ],
   "source": [
    "print('''\n",
    "\n",
    "What is Collision?\n",
    "\n",
    "For example: {“ab”, “ba”} both have the same hash value, and string {“cd”,”be”} also generate the same hash value, etc. \n",
    "This is known as collision and it creates problem in searching, insertion, deletion, and updating of value. \n",
    "The probability of a hash collision depends on the size of the algorithm, the distribution of hash values and the efficiency of Hash Function.\n",
    "\n",
    "''')"
   ]
  },
  {
   "cell_type": "code",
   "execution_count": 41,
   "id": "57e1a09c-8b13-4e8d-bf56-8095b6cde653",
   "metadata": {},
   "outputs": [
    {
     "name": "stdout",
     "output_type": "stream",
     "text": [
      "\n",
      "\n",
      "How to handle Collisions?\n",
      "\n",
      "There are mainly two methods to handle collision:\n",
      "\n",
      "Separate Chaining\n",
      "\n",
      "Open Addressing\n",
      "\n",
      "\n",
      "\n",
      "\n",
      "What is meant by Load Factor in Hashing?\n",
      "\n",
      "The load factor of the hash table can be defined as the number of items the hash table contains divided by the size of the hash table. \n",
      "Load factor is the decisive parameter that is used when we want to rehash the previous hash function or want to add more elements \n",
      "to the existing hash table.\n",
      "\n",
      "\n",
      "\n",
      "\n",
      "What is Rehashing?\n",
      "\n",
      "As the name suggests, rehashing means hashing again. Basically, when the load factor increases to more than its predefined value \n",
      "(the default value of the load factor is 0.75), the complexity increases. \n",
      "\n",
      "So to overcome this, the size of the array is increased (doubled) and all the values are hashed again and stored in the new double-sized array \n",
      "to maintain a low load factor and low complexity.\n",
      "\n",
      "\n"
     ]
    }
   ],
   "source": [
    "print('''\n",
    "\n",
    "How to handle Collisions?\n",
    "\n",
    "There are mainly two methods to handle collision:\n",
    "\n",
    "Separate Chaining\n",
    "\n",
    "Open Addressing\n",
    "\n",
    "''')\n",
    "\n",
    "print('''\n",
    "\n",
    "What is meant by Load Factor in Hashing?\n",
    "\n",
    "The load factor of the hash table can be defined as the number of items the hash table contains divided by the size of the hash table. \n",
    "Load factor is the decisive parameter that is used when we want to rehash the previous hash function or want to add more elements \n",
    "to the existing hash table.\n",
    "\n",
    "''')\n",
    "\n",
    "print('''\n",
    "\n",
    "What is Rehashing?\n",
    "\n",
    "As the name suggests, rehashing means hashing again. Basically, when the load factor increases to more than its predefined value \n",
    "(the default value of the load factor is 0.75), the complexity increases. \n",
    "\n",
    "So to overcome this, the size of the array is increased (doubled) and all the values are hashed again and stored in the new double-sized array \n",
    "to maintain a low load factor and low complexity.\n",
    "\n",
    "''')"
   ]
  },
  {
   "cell_type": "code",
   "execution_count": null,
   "id": "d85a4807-51e5-4ab0-9792-53776554592e",
   "metadata": {},
   "outputs": [],
   "source": []
  }
 ],
 "metadata": {
  "kernelspec": {
   "display_name": "Python 3 (ipykernel)",
   "language": "python",
   "name": "python3"
  },
  "language_info": {
   "codemirror_mode": {
    "name": "ipython",
    "version": 3
   },
   "file_extension": ".py",
   "mimetype": "text/x-python",
   "name": "python",
   "nbconvert_exporter": "python",
   "pygments_lexer": "ipython3",
   "version": "3.12.7"
  }
 },
 "nbformat": 4,
 "nbformat_minor": 5
}
