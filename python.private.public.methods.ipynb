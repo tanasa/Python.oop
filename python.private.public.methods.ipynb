{
 "cells": [
  {
   "cell_type": "code",
   "execution_count": 30,
   "id": "1b157540-27e8-435d-bf8e-3ef7d51fddd4",
   "metadata": {},
   "outputs": [
    {
     "name": "stdout",
     "output_type": "stream",
     "text": [
      "\n",
      "      \n",
      "In Python, access control for class methods (private, public, protected) is achieved through naming conventions rather than enforced restrictions. \n",
      "The standard Python libraries that help define public and private methods include:\n",
      "\n",
      "1. Built-in Naming Conventions (No Additional Library Needed)\n",
      "\n",
      "Python does not have strict private/public access modifiers like C++ or Java. Instead, it uses naming conventions:\n",
      "\n",
      "Public Methods: No underscore prefix (e.g., def my_method(self):).\n",
      "Protected Methods: Single underscore _my_method(self), indicating it’s intended for internal use but not enforced.\n",
      "Private Methods: Double underscore __my_method(self), which triggers name mangling.\n",
      "\n",
      "\n"
     ]
    }
   ],
   "source": [
    "print('''\n",
    "      \n",
    "In Python, access control for class methods (private, public, protected) is achieved through naming conventions rather than enforced restrictions. \n",
    "The standard Python libraries that help define public and private methods include:\n",
    "\n",
    "1. Built-in Naming Conventions (No Additional Library Needed)\n",
    "\n",
    "Python does not have strict private/public access modifiers like C++ or Java. Instead, it uses naming conventions:\n",
    "\n",
    "Public Methods: No underscore prefix (e.g., def my_method(self):).\n",
    "Protected Methods: Single underscore _my_method(self), indicating it’s intended for internal use but not enforced.\n",
    "Private Methods: Double underscore __my_method(self), which triggers name mangling.\n",
    "\n",
    "''')"
   ]
  },
  {
   "cell_type": "code",
   "execution_count": 31,
   "id": "932db138-264c-4907-9c10-a9c79f9cf3c1",
   "metadata": {},
   "outputs": [
    {
     "name": "stdout",
     "output_type": "stream",
     "text": [
      "This is a public method\n",
      "This is a protected method (by convention)\n",
      "This is a private method (name mangled)\n"
     ]
    }
   ],
   "source": [
    "class MyClass:\n",
    "    def public_method(self):\n",
    "        print(\"This is a public method\")\n",
    "\n",
    "    def _protected_method(self):\n",
    "        print(\"This is a protected method (by convention)\")\n",
    "\n",
    "    def __private_method(self):\n",
    "        print(\"This is a private method (name mangled)\")\n",
    "\n",
    "    def access_private(self):\n",
    "        self.__private_method()  # Allowed within class\n",
    "\n",
    "obj = MyClass()\n",
    "obj.public_method()       # ✅ Accessible\n",
    "obj._protected_method()   # ✅ Accessible (but discouraged)\n",
    "# obj.__private_method()  # ❌ AttributeError\n",
    "obj.access_private()      # ✅ Works, as it calls private method inside class\n",
    "\n",
    "# 👉 Name mangling: The actual method name becomes _MyClass__private_method, preventing accidental access but still accessible if needed \n",
    "# (obj._MyClass__private_method())."
   ]
  },
  {
   "cell_type": "code",
   "execution_count": 33,
   "id": "6354fbbf-e5d4-49c5-80e8-2e10c5478b64",
   "metadata": {},
   "outputs": [
    {
     "name": "stdout",
     "output_type": "stream",
     "text": [
      "Using a library - accessify - to set up the public and the private methods\n"
     ]
    }
   ],
   "source": [
    "print(\"Using a library - accessify - to set up the public and the private methods\") "
   ]
  },
  {
   "cell_type": "code",
   "execution_count": 34,
   "id": "cc99ab33-e505-4858-ae9d-4d5f0b023328",
   "metadata": {},
   "outputs": [
    {
     "name": "stdout",
     "output_type": "stream",
     "text": [
      "\n",
      "@public makes it explicit that the method is accessible.\n",
      "@private prevents external access but allows internal use.\n",
      "\n"
     ]
    }
   ],
   "source": [
    "print('''\n",
    "@public makes it explicit that the method is accessible.\n",
    "@private prevents external access but allows internal use.\n",
    "''')"
   ]
  },
  {
   "cell_type": "code",
   "execution_count": 2,
   "id": "32b2345a-33b9-4bfe-aeb7-dc3151fa1aef",
   "metadata": {},
   "outputs": [
    {
     "name": "stdout",
     "output_type": "stream",
     "text": [
      "An example given by GPT4:\n",
      "\n",
      "pip install pyaccess\n",
      "\n",
      "from pyaccess import private, public\n",
      "\n",
      "class Example:\n",
      "    @public\n",
      "    def public_method(self):\n",
      "        \"\"\"This method is accessible anywhere\"\"\"\n",
      "        print(\"Public method called\")\n",
      "\n",
      "    @private\n",
      "    def private_method(self):\n",
      "        \"\"\"This method is only accessible within the class\"\"\"\n",
      "        print(\"Private method called\")\n",
      "\n",
      "    def access_private(self):\n",
      "        self.private_method()  # Allowed within the class\n",
      "\n",
      "obj = Example()\n",
      "\n",
      "obj.public_method()  # ✅ Works\n",
      "# obj.private_method()  # ❌ Raises AttributeError\n",
      "obj.access_private()  # ✅ Works, accessed internally\n",
      "\n",
      "\n"
     ]
    }
   ],
   "source": [
    "print('''An example given by GPT4:\n",
    "\n",
    "pip install pyaccess\n",
    "\n",
    "from pyaccess import private, public\n",
    "\n",
    "class Example:\n",
    "    @public\n",
    "    def public_method(self):\n",
    "        \"\"\"This method is accessible anywhere\"\"\"\n",
    "        print(\"Public method called\")\n",
    "\n",
    "    @private\n",
    "    def private_method(self):\n",
    "        \"\"\"This method is only accessible within the class\"\"\"\n",
    "        print(\"Private method called\")\n",
    "\n",
    "    def access_private(self):\n",
    "        self.private_method()  # Allowed within the class\n",
    "\n",
    "obj = Example()\n",
    "\n",
    "obj.public_method()  # ✅ Works\n",
    "# obj.private_method()  # ❌ Raises AttributeError\n",
    "obj.access_private()  # ✅ Works, accessed internally\n",
    "\n",
    "''')"
   ]
  },
  {
   "cell_type": "code",
   "execution_count": 35,
   "id": "9b720484-d4f5-4630-b2e7-d3bb90ac2a83",
   "metadata": {},
   "outputs": [
    {
     "name": "stdout",
     "output_type": "stream",
     "text": [
      "Private method called\n"
     ]
    }
   ],
   "source": [
    "from accessify import private, protected\n",
    "\n",
    "class Example:\n",
    "    @private\n",
    "    def __private_method(self):\n",
    "        print(\"Private method called\")\n",
    "\n",
    "    @protected\n",
    "    def _protected_method(self):\n",
    "        print(\"Protected method called\")\n",
    "\n",
    "    def access_private(self):\n",
    "        self.__private_method()  # Allowed within the class\n",
    "\n",
    "obj = Example()\n",
    "\n",
    "# obj.__private_method()  # ❌ Raises AttributeError\n",
    "obj.access_private()  # ✅ Works\n",
    "\n",
    "# obj._protected_method()  # ❌ Raises AttributeError"
   ]
  },
  {
   "cell_type": "code",
   "execution_count": 55,
   "id": "a9a6f95e-3615-4adb-8ed6-e38549c2a100",
   "metadata": {},
   "outputs": [
    {
     "name": "stdout",
     "output_type": "stream",
     "text": [
      "More examples :\n",
      "\n",
      "Key Takeaways:\n",
      "\n",
      "@public is unnecessary because methods are public by default.\n",
      "@protected methods can be accessed inside the class or by subclasses.\n",
      "@private methods can only be accessed inside the class\n",
      "\n",
      "\n"
     ]
    }
   ],
   "source": [
    "print('''More examples :\n",
    "\n",
    "Key Takeaways:\n",
    "\n",
    "@public is unnecessary because methods are public by default.\n",
    "@protected methods can be accessed inside the class or by subclasses.\n",
    "@private methods can only be accessed inside the class\n",
    "\n",
    "''')"
   ]
  },
  {
   "cell_type": "code",
   "execution_count": 37,
   "id": "ff19a1b4-c680-44bb-8bb2-e67c37dc65c7",
   "metadata": {},
   "outputs": [
    {
     "name": "stdout",
     "output_type": "stream",
     "text": [
      "Public method called\n",
      "Private method called\n",
      "Protected method called\n"
     ]
    }
   ],
   "source": [
    "from accessify import private, protected\n",
    "\n",
    "class Example:\n",
    "    def public_method(self):\n",
    "        \"\"\"This is a fully accessible public method\"\"\"\n",
    "        print(\"Public method called\")\n",
    "\n",
    "    @protected\n",
    "    def _protected_method(self):\n",
    "        \"\"\"This method is accessible only inside the class and subclasses\"\"\"\n",
    "        print(\"Protected method called\")\n",
    "\n",
    "    @private\n",
    "    def __private_method(self):\n",
    "        \"\"\"This method is strictly private\"\"\"\n",
    "        print(\"Private method called\")\n",
    "\n",
    "    def access_private(self):\n",
    "        \"\"\"Access private method internally\"\"\"\n",
    "        self.__private_method()  # ✅ Allowed inside the class\n",
    "\n",
    "    def access_protected(self):\n",
    "        \"\"\"Access protected method internally\"\"\"\n",
    "        self._protected_method()  # ✅ Allowed inside the class\n",
    "\n",
    "obj = Example()\n",
    "\n",
    "# Public method (accessible)\n",
    "obj.public_method()  # ✅ Works\n",
    "\n",
    "# Protected method (raises an error if accessed externally)\n",
    "# obj._protected_method()  # ❌ Raises AttributeError\n",
    "\n",
    "# Private method (raises an error if accessed externally)\n",
    "# obj.__private_method()  # ❌ Raises AttributeError\n",
    "\n",
    "# Internal calls\n",
    "obj.access_private()  # ✅ Works (internal access allowed)\n",
    "obj.access_protected()  # ✅ Works (internal access allowed)\n"
   ]
  },
  {
   "cell_type": "code",
   "execution_count": 56,
   "id": "cf9e0d52-d488-4b68-9815-ce7ba9855170",
   "metadata": {},
   "outputs": [
    {
     "name": "stdout",
     "output_type": "stream",
     "text": [
      "\n",
      "\n",
      "Using Python’s Built-in Convention (_protected, __private).\n",
      "\n",
      "If you don’t want external dependencies, use Python’s naming conventions.\n",
      "\n",
      "Key Takeaways\n",
      "_protected_method() is a convention but not enforced.\n",
      "__private_method() is name-mangled, so it’s harder to access externally.\n",
      "\n",
      "Direct access to private methods via _Example__private_method() is possible but discouraged.\n",
      "\n"
     ]
    }
   ],
   "source": [
    "print('''\n",
    "\n",
    "Using Python’s Built-in Convention (_protected, __private).\n",
    "\n",
    "If you don’t want external dependencies, use Python’s naming conventions.\n",
    "\n",
    "Key Takeaways\n",
    "_protected_method() is a convention but not enforced.\n",
    "__private_method() is name-mangled, so it’s harder to access externally.\n",
    "\n",
    "Direct access to private methods via _Example__private_method() is possible but discouraged.\n",
    "''')"
   ]
  },
  {
   "cell_type": "code",
   "execution_count": 57,
   "id": "09d90abe-7691-4aa1-bf51-20dea2aed0d7",
   "metadata": {},
   "outputs": [
    {
     "name": "stdout",
     "output_type": "stream",
     "text": [
      "Public method called\n",
      "Protected method called\n",
      "Protected method called\n",
      "Private method called\n",
      "Private method called\n"
     ]
    }
   ],
   "source": [
    "class Example:\n",
    "    def public_method(self):\n",
    "        \"\"\"This is a public method\"\"\"\n",
    "        print(\"Public method called\")\n",
    "\n",
    "    def _protected_method(self):\n",
    "        \"\"\"This is a protected method (by convention)\"\"\"\n",
    "        print(\"Protected method called\")\n",
    "\n",
    "    def __private_method(self):\n",
    "        \"\"\"This is a private method (name mangled)\"\"\"\n",
    "        print(\"Private method called\")\n",
    "\n",
    "    def access_private(self):\n",
    "        \"\"\"Access private method internally\"\"\"\n",
    "        self.__private_method()  # ✅ Works inside the class\n",
    "\n",
    "    def access_protected(self):\n",
    "        \"\"\"Access protected method internally\"\"\"\n",
    "        self._protected_method()  # ✅ Works inside the class\n",
    "\n",
    "obj = Example()\n",
    "\n",
    "obj.public_method()  # ✅ Works\n",
    "obj._protected_method()  # ✅ Works (but discouraged)\n",
    "# obj.__private_method()  # ❌ Raises AttributeError\n",
    "obj.access_protected()  # ✅ Works (internal access allowed)\n",
    "obj.access_private()  # ✅ Works (internal access allowed)\n",
    "\n",
    "# Name mangling workaround (not recommended)\n",
    "obj._Example__private_method()  # ✅ Works, but should be avoided"
   ]
  },
  {
   "cell_type": "code",
   "execution_count": null,
   "id": "9dcc6fb3-ed7a-40b1-8035-7faabe6e4032",
   "metadata": {},
   "outputs": [],
   "source": []
  },
  {
   "cell_type": "code",
   "execution_count": 41,
   "id": "3598eef7-4120-4635-b5cc-dabce44a8165",
   "metadata": {},
   "outputs": [
    {
     "name": "stdout",
     "output_type": "stream",
     "text": [
      "About Metaclasses :\n",
      "\n",
      "What is a Metaclass in Python?\n",
      "A metaclass is a special kind of class that defines how other classes behave. In other words, a metaclass is a class for classes.\n",
      "\n",
      "Key Concept\n",
      "In Python, everything is an object, including classes.\n",
      "\n",
      "A class is an instance of a metaclass (just like an object is an instance of a class).\n",
      "By default, Python classes are created using type, which is the built-in metaclass.\n",
      "Metaclasses allow modifying class behavior at creation time.\n",
      "\n",
      "\n"
     ]
    }
   ],
   "source": [
    "print('''About Metaclasses :\n",
    "\n",
    "What is a Metaclass in Python?\n",
    "A metaclass is a special kind of class that defines how other classes behave. In other words, a metaclass is a class for classes.\n",
    "\n",
    "Key Concept\n",
    "In Python, everything is an object, including classes.\n",
    "\n",
    "A class is an instance of a metaclass (just like an object is an instance of a class).\n",
    "By default, Python classes are created using type, which is the built-in metaclass.\n",
    "Metaclasses allow modifying class behavior at creation time.\n",
    "\n",
    "''')"
   ]
  },
  {
   "cell_type": "code",
   "execution_count": 43,
   "id": "6f390fc4-3b4c-4dc5-8276-890092324a3e",
   "metadata": {},
   "outputs": [
    {
     "name": "stdout",
     "output_type": "stream",
     "text": [
      " About Abstract Classes :\n",
      "\n",
      "An abstract class method is a method that is declared but contains no implementation. \n",
      "It is used as a template for other methods that are defined in a subclass.\n",
      "\n",
      "\n"
     ]
    }
   ],
   "source": [
    "print(''' About Abstract Classes :\n",
    "\n",
    "An abstract class method is a method that is declared but contains no implementation. \n",
    "It is used as a template for other methods that are defined in a subclass.\n",
    "\n",
    "''')"
   ]
  },
  {
   "cell_type": "code",
   "execution_count": 44,
   "id": "0bbdefa5-d49f-4d3b-ae83-b65e0ad74e07",
   "metadata": {},
   "outputs": [
    {
     "name": "stdout",
     "output_type": "stream",
     "text": [
      "https://www.tutorialsteacher.com/python/public-private-protected-modifiers\n"
     ]
    }
   ],
   "source": [
    "print(\"https://www.tutorialsteacher.com/python/public-private-protected-modifiers\")"
   ]
  },
  {
   "cell_type": "code",
   "execution_count": 45,
   "id": "dc9ce2e5-96d6-496c-a301-257c9a64e14d",
   "metadata": {},
   "outputs": [
    {
     "name": "stdout",
     "output_type": "stream",
     "text": [
      "XYZ School\n",
      "Steve\n",
      "20\n"
     ]
    }
   ],
   "source": [
    "# Example: Public AttributesCopy\n",
    "class Student:\n",
    "    schoolName = 'XYZ School' # class attribute\n",
    "\n",
    "    def __init__(self, name, age):\n",
    "        self.name=name # instance attribute\n",
    "        self.age=age # instance attribute\n",
    "\n",
    "# You can access the Student class's attributes and also modify their values, as shown below.\n",
    "# Example: Access Public MembersCopy\n",
    "\n",
    "std = Student(\"Steve\", 25)\n",
    "print(std.schoolName)  #'XYZ School'\n",
    "print(std.name)  #'Steve'\n",
    "std.age = 20\n",
    "print(std.age)"
   ]
  },
  {
   "cell_type": "code",
   "execution_count": 46,
   "id": "2527f7c0-654e-4fa6-a13d-5392e6c9efe1",
   "metadata": {},
   "outputs": [
    {
     "name": "stdout",
     "output_type": "stream",
     "text": [
      "\n",
      "\n",
      "Protected members of a class are accessible from within the class and are also available to its sub-classes. \n",
      "No other environment is permitted access to it. This enables specific resources of the parent class to be inherited by the child class.\n",
      "\n",
      "Python's convention to make an instance variable protected is to add a prefix _ (single underscore) to it. \n",
      "This effectively prevents it from being accessed unless it is from within a sub-class.\n",
      "\n",
      "\n",
      "Swati\n",
      "Dipa\n"
     ]
    }
   ],
   "source": [
    "print('''\n",
    "\n",
    "Protected members of a class are accessible from within the class and are also available to its sub-classes. \n",
    "No other environment is permitted access to it. This enables specific resources of the parent class to be inherited by the child class.\n",
    "\n",
    "Python's convention to make an instance variable protected is to add a prefix _ (single underscore) to it. \n",
    "This effectively prevents it from being accessed unless it is from within a sub-class.\n",
    "\n",
    "''')\n",
    "\n",
    "# Example: Protected AttributesCopy\n",
    "class Student:\n",
    "    _schoolName = 'XYZ School' # protected class attribute\n",
    "    \n",
    "    def __init__(self, name, age):\n",
    "        self._name=name  # protected instance attribute\n",
    "        self._age=age # protected instance attribute\n",
    "\n",
    "# In fact, this doesn't prevent instance variables from accessing or modifying the instance. \n",
    "# You can still perform the following operations:\n",
    "\n",
    "# Example: Access Protected Members Copy\n",
    "\n",
    "std = Student(\"Swati\", 25)\n",
    "print(std._name)  #'Swati'\n",
    "\n",
    "std._name = 'Dipa'\n",
    "print(std._name)  #'Dipa"
   ]
  },
  {
   "cell_type": "code",
   "execution_count": 47,
   "id": "4e5dd9ae-5c74-4e9c-a091-b1f3b63198d9",
   "metadata": {},
   "outputs": [
    {
     "name": "stdout",
     "output_type": "stream",
     "text": [
      "Swati\n",
      "Dipa\n",
      "Dipa\n"
     ]
    }
   ],
   "source": [
    "# However, you can define a property using property decorator and make it protected, as shown below.\n",
    "# Example: Protected AttributesCopy\n",
    "\n",
    "class Student:\n",
    "\tdef __init__(self,name):\n",
    "\t\tself._name = name\n",
    "\t@property\n",
    "\tdef name(self):\n",
    "\t\treturn self._name\n",
    "\t@name.setter\n",
    "\tdef name(self,newname):\n",
    "\t\tself._name = newname\n",
    "\n",
    "# Above, @property decorator is used to make the name() method as property and @name.setter decorator to another overloads of the name() method \n",
    "# as property setter method. Now, _name is protected.\n",
    "\n",
    "# Example: Access Protected MembersCopy\n",
    "\n",
    "std = Student(\"Swati\")\n",
    "print(std.name)  #'Swati'\n",
    "\n",
    "std.name = 'Dipa'\n",
    "print(std.name)  #'Dipa'\n",
    "print(std._name) #'Dipa'\n"
   ]
  },
  {
   "cell_type": "code",
   "execution_count": null,
   "id": "a48bdd91-ccee-4231-8ce8-4c70f27d8a31",
   "metadata": {},
   "outputs": [],
   "source": []
  },
  {
   "cell_type": "code",
   "execution_count": 49,
   "id": "26e75e92-cdc5-489d-a20e-79cfd49b7775",
   "metadata": {},
   "outputs": [
    {
     "name": "stdout",
     "output_type": "stream",
     "text": [
      "Private Members :\n",
      "\n",
      "Python doesn't have any mechanism that effectively restricts access to any instance variable or method. \n",
      "Python prescribes a convention of prefixing the name of the variable/method with a single or double underscore \n",
      "to emulate the behavior of protected and private access specifiers.\n",
      "\n",
      "The double underscore __ prefixed to a variable makes it private. \n",
      "It gives a strong suggestion not to touch it from outside the class. \n",
      "Any attempt to do so will result in an AttributeError.\n",
      "\n",
      "\n",
      "Python performs name mangling of private variables. \n",
      "Every member with a double underscore will be changed to _object._class__variable. \n",
      "So, it can still be accessed from outside the class, but the practice should be refrained.\n",
      "\n",
      "Bill\n",
      "Steve\n",
      "This is private method.\n"
     ]
    }
   ],
   "source": [
    "print('''Private Members :\n",
    "\n",
    "Python doesn't have any mechanism that effectively restricts access to any instance variable or method. \n",
    "Python prescribes a convention of prefixing the name of the variable/method with a single or double underscore \n",
    "to emulate the behavior of protected and private access specifiers.\n",
    "\n",
    "The double underscore __ prefixed to a variable makes it private. \n",
    "It gives a strong suggestion not to touch it from outside the class. \n",
    "Any attempt to do so will result in an AttributeError.\n",
    "''')\n",
    "\n",
    "# Example: Private AttributesCopy\n",
    "\n",
    "class Student:\n",
    "    __schoolName = 'XYZ School' # private class attribute\n",
    "\n",
    "    def __init__(self, name, age):\n",
    "        self.__name=name  # private instance attribute\n",
    "        self.__salary=age # private instance attribute\n",
    "    def __display(self):  # private method\n",
    "\t    print('This is private method.')\n",
    "\n",
    "std = Student(\"Bill\", 25)\n",
    "# print(std.__schoolName)  #AttributeError\n",
    "# print(std.__name)        #AttributeError\n",
    "# print(std.__display())   #AttributeError\n",
    "\n",
    "print('''\n",
    "Python performs name mangling of private variables. \n",
    "Every member with a double underscore will be changed to _object._class__variable. \n",
    "So, it can still be accessed from outside the class, but the practice should be refrained.\n",
    "''')\n",
    "\n",
    "# Example: Access Private VariablesCopy\n",
    "std = Student(\"Bill\", 25)\n",
    "print(std._Student__name)  #'Bill'\n",
    "\n",
    "std._Student__name = 'Steve'\n",
    "print(std._Student__name)  #'Steve'\n",
    "std._Student__display()    #'This is private method.'"
   ]
  },
  {
   "cell_type": "code",
   "execution_count": 50,
   "id": "4ec1964d-5fe9-43dd-8350-c8b5d16586b6",
   "metadata": {},
   "outputs": [
    {
     "name": "stdout",
     "output_type": "stream",
     "text": [
      "\n",
      "Method Overloading:\n",
      "\n",
      "Method overloading is a feature in Python that allows a class to have multiple methods with the same name but with different parameters. \n",
      "This feature helps to provide flexibility and reusability to the code design. \n",
      "It is different from method overriding that allows a subclass to provide its implementation of a method defined in its superclass.\n",
      "\n",
      "\n"
     ]
    }
   ],
   "source": [
    "print('''\n",
    "Method Overloading:\n",
    "\n",
    "Method overloading is a feature in Python that allows a class to have multiple methods with the same name but with different parameters. \n",
    "This feature helps to provide flexibility and reusability to the code design. \n",
    "It is different from method overriding that allows a subclass to provide its implementation of a method defined in its superclass.\n",
    "\n",
    "''')"
   ]
  },
  {
   "cell_type": "code",
   "execution_count": 51,
   "id": "e1f41f1d-f2f0-4f4e-9707-e28f279c08e9",
   "metadata": {},
   "outputs": [
    {
     "name": "stdout",
     "output_type": "stream",
     "text": [
      "\n",
      "Python Getter and Setter Methods\n",
      "\n",
      "Python offers getter and setter convenience methods to control access to the private instance variables for classes. \n",
      "\n",
      "The getter and setter methods are important because without them, \n",
      "the private instance variables would not be accessible outside of the class.\n",
      "\n",
      "Getter method allows to access the value of a private instance variable from outside a class, \n",
      "and the setter method allows to set the value of a private instance variable from outside a class.\n",
      "\n",
      "\n"
     ]
    }
   ],
   "source": [
    "print('''\n",
    "Python Getter and Setter Methods\n",
    "\n",
    "Python offers getter and setter convenience methods to control access to the private instance variables for classes. \n",
    "\n",
    "The getter and setter methods are important because without them, \n",
    "the private instance variables would not be accessible outside of the class.\n",
    "\n",
    "Getter method allows to access the value of a private instance variable from outside a class, \n",
    "and the setter method allows to set the value of a private instance variable from outside a class.\n",
    "\n",
    "''')"
   ]
  },
  {
   "cell_type": "code",
   "execution_count": 52,
   "id": "a8af9f18-9b58-4f14-b7f7-c96870d720dd",
   "metadata": {},
   "outputs": [
    {
     "name": "stdout",
     "output_type": "stream",
     "text": [
      "10\n"
     ]
    }
   ],
   "source": [
    "class MyClass:\n",
    "    def __init__(self):\n",
    "        self._value = None\n",
    "\n",
    "    def get_value(self):\n",
    "        return self._value\n",
    "\n",
    "    def set_value(self, value):\n",
    "        self._value = value\n",
    "\n",
    "obj = MyClass()\n",
    "obj.set_value(10)\n",
    "print(obj.get_value())"
   ]
  },
  {
   "cell_type": "code",
   "execution_count": 53,
   "id": "934dda2e-2695-48f3-be0d-10a358bcc250",
   "metadata": {},
   "outputs": [
    {
     "name": "stdout",
     "output_type": "stream",
     "text": [
      "10\n"
     ]
    }
   ],
   "source": [
    "class MyClass:\n",
    "    def __init__(self):\n",
    "        self._value = None\n",
    "\n",
    "    @property\n",
    "    def value(self):\n",
    "        return self._value\n",
    "\n",
    "    @value.setter\n",
    "    def value(self, value):\n",
    "        self._value = value\n",
    "\n",
    "obj = MyClass()\n",
    "obj.value = 10\n",
    "print(obj.value)"
   ]
  },
  {
   "cell_type": "code",
   "execution_count": null,
   "id": "c4fc21bb-a5e6-4c1a-a14c-672b7e90ea40",
   "metadata": {},
   "outputs": [],
   "source": [
    "print(''''\n",
    "Method overriding : \n",
    "It is a feature in object-oriented programming that allows a subclass to provide a different implementation of a method that is already \n",
    "defined in its superclass. In Python, method overriding is straightforward and is achieved by defining a method in the subclass with \n",
    "the same name as the method in the superclass.\n",
    "''')"
   ]
  },
  {
   "cell_type": "code",
   "execution_count": 54,
   "id": "ca815c0e-0b46-44f0-972d-36256e072152",
   "metadata": {},
   "outputs": [
    {
     "name": "stdout",
     "output_type": "stream",
     "text": [
      "Animal is moving\n",
      "Bird is flying\n"
     ]
    }
   ],
   "source": [
    "class Animal:\n",
    "  def move(self):\n",
    "    print(\"Animal is moving\")\n",
    "\n",
    "class Bird(Animal):\n",
    "  def move(self):\n",
    "    super().move()\n",
    "    print(\"Bird is flying\")\n",
    "\n",
    "obj = Bird()\n",
    "obj.move() ### prints \"Animal is moving\" and \"Bird is flying"
   ]
  },
  {
   "cell_type": "code",
   "execution_count": null,
   "id": "76129f2a-171f-44cc-9b92-c7439d1c3cef",
   "metadata": {},
   "outputs": [],
   "source": []
  }
 ],
 "metadata": {
  "kernelspec": {
   "display_name": "Python 3 (ipykernel)",
   "language": "python",
   "name": "python3"
  },
  "language_info": {
   "codemirror_mode": {
    "name": "ipython",
    "version": 3
   },
   "file_extension": ".py",
   "mimetype": "text/x-python",
   "name": "python",
   "nbconvert_exporter": "python",
   "pygments_lexer": "ipython3",
   "version": "3.12.7"
  }
 },
 "nbformat": 4,
 "nbformat_minor": 5
}
