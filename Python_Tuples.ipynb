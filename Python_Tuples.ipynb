{
 "cells": [
  {
   "cell_type": "code",
   "execution_count": 1,
   "id": "8be1fdd6-5b47-4786-9ac9-a00126db3770",
   "metadata": {},
   "outputs": [
    {
     "name": "stdout",
     "output_type": "stream",
     "text": [
      "Tuples\n"
     ]
    }
   ],
   "source": [
    "print(\"Tuples\")"
   ]
  },
  {
   "cell_type": "code",
   "execution_count": 2,
   "id": "bdfa0eea-78db-42b2-8ca2-9d5638152144",
   "metadata": {},
   "outputs": [
    {
     "name": "stdout",
     "output_type": "stream",
     "text": [
      "\n",
      "\n",
      "Tuple items are ordered, unchangeable, and allow duplicate values.\n",
      "\n",
      "Tuple items are indexed, the first item has index [0], the second item has index [1] etc.\n",
      "\n",
      "Like Lists, tuples are ordered and we can access their elements using their index values\n",
      "\n",
      "We cannot update items to a tuple once it is created. \n",
      "\n",
      "Tuples cannot be appended or extended.\n",
      "\n",
      "We cannot remove items from a tuple once it is created. \n",
      "\n",
      "\n"
     ]
    }
   ],
   "source": [
    "print('''\n",
    "\n",
    "Tuple items are ordered, unchangeable, and allow duplicate values.\n",
    "\n",
    "Tuple items are indexed, the first item has index [0], the second item has index [1] etc.\n",
    "\n",
    "Like Lists, tuples are ordered and we can access their elements using their index values\n",
    "\n",
    "We cannot update items to a tuple once it is created. \n",
    "\n",
    "Tuples cannot be appended or extended.\n",
    "\n",
    "We cannot remove items from a tuple once it is created. \n",
    "\n",
    "''')"
   ]
  },
  {
   "cell_type": "code",
   "execution_count": 3,
   "id": "5128b15b-71db-4551-84d1-38e15cd83cac",
   "metadata": {},
   "outputs": [
    {
     "name": "stdout",
     "output_type": "stream",
     "text": [
      "('apple', 'banana', 'cherry')\n"
     ]
    }
   ],
   "source": [
    "thistuple = (\"apple\", \"banana\", \"cherry\")\n",
    "print(thistuple)"
   ]
  },
  {
   "cell_type": "code",
   "execution_count": 4,
   "id": "276cc024-bec2-4ed3-ba2b-e0b579f1e017",
   "metadata": {},
   "outputs": [
    {
     "name": "stdout",
     "output_type": "stream",
     "text": [
      "<class 'tuple'>\n",
      "<class 'str'>\n"
     ]
    }
   ],
   "source": [
    "# One item tuple, remember the comma:\n",
    "thistuple = (\"apple\",)\n",
    "print(type(thistuple))\n",
    "\n",
    "# NOT a tuple\n",
    "thistuple = (\"apple\")\n",
    "print(type(thistuple))"
   ]
  },
  {
   "cell_type": "code",
   "execution_count": 5,
   "id": "aef4fb4b-fcc0-470c-9cc2-5f2ca24eef55",
   "metadata": {},
   "outputs": [],
   "source": [
    "# Tuple items can be of any data type:\n",
    "# String, int and boolean data types:\n",
    "\n",
    "tuple1 = (\"apple\", \"banana\", \"cherry\")\n",
    "tuple2 = (1, 5, 7, 9, 3)\n",
    "tuple3 = (True, False, False)\n",
    "\n",
    "# A tuple can contain different data types:\n",
    "# A tuple with strings, integers and boolean values:\n",
    "\n",
    "tuple1 = (\"abc\", 34, True, 40, \"male\")"
   ]
  },
  {
   "cell_type": "code",
   "execution_count": 6,
   "id": "5ceac1e1-52ef-4a6f-a80d-8cb385fd584b",
   "metadata": {},
   "outputs": [
    {
     "name": "stdout",
     "output_type": "stream",
     "text": [
      "('apple', 'banana', 'cherry')\n"
     ]
    }
   ],
   "source": [
    "# The tuple() Constructor\n",
    "# It is also possible to use the tuple() constructor to make a tuple\n",
    "\n",
    "thistuple = tuple((\"apple\", \"banana\", \"cherry\")) # note the double round-brackets\n",
    "print(thistuple)"
   ]
  },
  {
   "cell_type": "code",
   "execution_count": 7,
   "id": "49c7d22c-6eb3-4d2d-95c8-ee4d71799268",
   "metadata": {},
   "outputs": [
    {
     "name": "stdout",
     "output_type": "stream",
     "text": [
      "2\n",
      "5\n",
      "(1, 2, 3, 4, 2, 3)\n",
      "Value in t[0] =  10\n",
      "Value in t[1] =  5\n",
      "Value in t[-1] =  20\n",
      "Value in t[-2] =  5\n"
     ]
    }
   ],
   "source": [
    "t = (1, 2, 3, 4, 5)\n",
    "\n",
    "# Tuples are indexed\n",
    "print(t[1])\n",
    "print(t[4])\n",
    "\n",
    "# Tuples contain duplicate elements\n",
    "t = (1, 2, 3, 4, 2, 3)\n",
    "print(t)\n",
    "\n",
    "# updating an element\n",
    "# t[1] = 100\n",
    "# print(t)\n",
    "# 'tuple' object does not support item assignment\n",
    "\n",
    "# Accessing Values in Python Tuples\n",
    "\n",
    "t = (10, 5, 20)\n",
    "\n",
    "print(\"Value in t[0] = \", t[0])\n",
    "print(\"Value in t[1] = \", t[1])\n",
    "\n",
    "print(\"Value in t[-1] = \", t[-1])\n",
    "print(\"Value in t[-2] = \", t[-2])"
   ]
  },
  {
   "cell_type": "code",
   "execution_count": 8,
   "id": "54f1e0ef-c123-4422-899e-d985f454864b",
   "metadata": {},
   "outputs": [
    {
     "name": "stdout",
     "output_type": "stream",
     "text": [
      "(0, 1, 2, 3, 'python', 'geek')\n",
      "((0, 1, 2, 3), ('python', 'geek'))\n",
      "(1, 2, 3)\n",
      "(3, 2, 1, 0)\n",
      "(2, 3)\n"
     ]
    }
   ],
   "source": [
    "# Concatenation of 2 Python tuples\n",
    "t1 = (0, 1, 2, 3)\n",
    "t2 = ('python', 'geek')\n",
    "\n",
    "print(t1 + t2)\n",
    "\n",
    "# Nesting of Python Tuples\n",
    "# A nested tuple in Python means a tuple inside another tuple.\n",
    "\n",
    "t1 = (0, 1, 2, 3)\n",
    "t2 = ('python', 'geek')\n",
    "\n",
    "t3 = (t1, t2)\n",
    "print(t3)\n",
    "\n",
    "# Slicing Tuples in Python\n",
    "\n",
    "t = (0 ,1, 2, 3)\n",
    "print(t[1:])\n",
    "print(t[::-1])\n",
    "print(t[2:4])"
   ]
  },
  {
   "cell_type": "code",
   "execution_count": 9,
   "id": "e157c07b-8c3b-4699-a8e7-9d84268cc9fb",
   "metadata": {},
   "outputs": [],
   "source": [
    "# Deleting a Tuple in Python\n",
    "# To remove individual tuple elements is not possible, but we can delete the whole Tuple using Del keyword.\n",
    "\n",
    "# Code for deleting a tuple\n",
    "t = ( 0, 1)\n",
    "\n",
    "del t\n",
    "# print(t) #  name 't' is not defined"
   ]
  },
  {
   "cell_type": "code",
   "execution_count": 10,
   "id": "fb32356a-f767-4abf-ae13-75f27c1b96eb",
   "metadata": {},
   "outputs": [
    {
     "name": "stdout",
     "output_type": "stream",
     "text": [
      "(4, 5, 6)\n"
     ]
    }
   ],
   "source": [
    "# Creating a tuple without brackets\n",
    "\n",
    "t = 4, 5, 6\n",
    "print(t)  # Output: (4, 5, 6)"
   ]
  },
  {
   "cell_type": "code",
   "execution_count": 11,
   "id": "a3b55b17-d216-478f-b42a-d850b4459d14",
   "metadata": {},
   "outputs": [
    {
     "name": "stdout",
     "output_type": "stream",
     "text": [
      "(11, 12, 13)\n"
     ]
    }
   ],
   "source": [
    "# Tuple packing\n",
    "\n",
    "a, b, c = 11, 12, 13\n",
    "t = (a, b, c)\n",
    "print(t)  # Output: (11, 12, 13)"
   ]
  },
  {
   "cell_type": "code",
   "execution_count": 12,
   "id": "39785c5d-b13e-478f-8a9c-c5c2d4bfb1df",
   "metadata": {},
   "outputs": [
    {
     "name": "stdout",
     "output_type": "stream",
     "text": [
      "11\n",
      "12\n",
      "13\n"
     ]
    },
    {
     "data": {
      "text/plain": [
       "(2, 9, 6)"
      ]
     },
     "execution_count": 12,
     "metadata": {},
     "output_type": "execute_result"
    }
   ],
   "source": [
    "# Tuple Iteration\n",
    "\n",
    "numbers = (2, 9, 6)\n",
    "\n",
    "for item in t:\n",
    "    print(item)\n",
    "\n",
    "tuple(int(number) for number in numbers)"
   ]
  },
  {
   "cell_type": "code",
   "execution_count": 13,
   "id": "b04b33a0-76a9-49f0-9aee-bc38057e98d6",
   "metadata": {},
   "outputs": [
    {
     "name": "stdout",
     "output_type": "stream",
     "text": [
      "10 5\n"
     ]
    }
   ],
   "source": [
    "# Swapping Values\n",
    "\n",
    "x, y = 5, 10\n",
    "x, y = y, x\n",
    "print(x, y)  # Output: 10 5"
   ]
  },
  {
   "cell_type": "code",
   "execution_count": 14,
   "id": "d2942d0b-b3d1-430b-8461-3ac4c4262191",
   "metadata": {},
   "outputs": [
    {
     "data": {
      "text/plain": [
       "(0, 1, 4, 9, 16, 25, 36, 49, 64, 81)"
      ]
     },
     "execution_count": 14,
     "metadata": {},
     "output_type": "execute_result"
    }
   ],
   "source": [
    "tuple(x**2 for x in range(10))\n",
    "(0, 1, 4, 9, 16, 25, 36, 49, 64, 81)"
   ]
  },
  {
   "cell_type": "code",
   "execution_count": 15,
   "id": "0c63c344-5a8e-4083-a25a-05d1706cb770",
   "metadata": {},
   "outputs": [
    {
     "name": "stdout",
     "output_type": "stream",
     "text": [
      "\n",
      "\n",
      "Tuple Methods\n",
      ".count(x) – Returns the number of times x appears in the tuple.\n",
      ".index(x) – Returns the index of the first occurrence of x.\n",
      "\n",
      "\n",
      "3\n",
      "2\n"
     ]
    }
   ],
   "source": [
    "print('''\n",
    "\n",
    "Tuple Methods\n",
    ".count(x) – Returns the number of times x appears in the tuple.\n",
    ".index(x) – Returns the index of the first occurrence of x.\n",
    "\n",
    "''')\n",
    "\n",
    "t = (1, 2, 3, 2, 2)\n",
    "print(t.count(2))  # Output: 3\n",
    "print(t.index(3))  # Output: 2"
   ]
  },
  {
   "cell_type": "code",
   "execution_count": 16,
   "id": "59d2bf89-5f45-4596-9ea3-549ac8722a47",
   "metadata": {},
   "outputs": [],
   "source": [
    "# Slicing operator : [start:stop:step] "
   ]
  },
  {
   "cell_type": "code",
   "execution_count": 17,
   "id": "54492524-93c1-4f9f-839c-f819b6894402",
   "metadata": {},
   "outputs": [
    {
     "data": {
      "text/plain": [
       "('Saturday', 'Sunday')"
      ]
     },
     "execution_count": 17,
     "metadata": {},
     "output_type": "execute_result"
    }
   ],
   "source": [
    " days = (\n",
    "...     \"Monday\",\n",
    "...     \"Tuesday\",\n",
    "...     \"Wednesday\",\n",
    "...     \"Thursday\",\n",
    "...     \"Friday\",\n",
    "...     \"Saturday\",\n",
    "...     \"Sunday\",\n",
    "... )\n",
    "\n",
    "days[:5]\n",
    "('Monday', 'Tuesday', 'Wednesday', 'Thursday', 'Friday')\n",
    "\n",
    "days[5:]\n",
    "('Saturday', 'Sunday')"
   ]
  },
  {
   "cell_type": "code",
   "execution_count": 18,
   "id": "638fc884-6ad7-4ef8-bf36-8fe898639cce",
   "metadata": {},
   "outputs": [
    {
     "name": "stdout",
     "output_type": "stream",
     "text": [
      "Hello, Linda! You're 24 years old.\n"
     ]
    }
   ],
   "source": [
    "print(\"Hello, %s! You're %s years old.\" % (\"Linda\", 24))\n",
    "\n",
    "# print(\"Hello, %s! You're %s years old.\" % \"Linda\", 24)\n",
    "\n",
    "# In the first example, you use a tuple wrapped in parentheses as the right-hand operand to the % operator. \n",
    "# In this case, the interpolation works as expected. \n",
    "# In the second example, you don’t wrap the tuple in parentheses, and you get an error."
   ]
  },
  {
   "cell_type": "code",
   "execution_count": null,
   "id": "964d37e1-2fea-4c16-8614-1e68542be61c",
   "metadata": {},
   "outputs": [],
   "source": []
  },
  {
   "cell_type": "code",
   "execution_count": 19,
   "id": "8072aa46-9bde-4f2d-b7e7-152ee29e65a2",
   "metadata": {},
   "outputs": [],
   "source": [
    "# https://realpython.com/python-tuple/"
   ]
  },
  {
   "cell_type": "code",
   "execution_count": null,
   "id": "1e4b1005-4518-4a6f-844d-8ca69abdbfff",
   "metadata": {},
   "outputs": [],
   "source": []
  },
  {
   "cell_type": "code",
   "execution_count": 20,
   "id": "4a3ec336-0875-45e8-8c4d-9f2f8074dc25",
   "metadata": {},
   "outputs": [
    {
     "data": {
      "text/plain": [
       "(('manufacturer', 'Boeing'), ('model', '747'), ('passengers', 416))"
      ]
     },
     "execution_count": 20,
     "metadata": {},
     "output_type": "execute_result"
    }
   ],
   "source": [
    "tuple({\n",
    "...     \"manufacturer\": \"Boeing\",\n",
    "...     \"model\": \"747\",\n",
    "...     \"passengers\": 416,\n",
    "... }.values())\n",
    "\n",
    "tuple({\n",
    "...     \"manufacturer\": \"Boeing\",\n",
    "...     \"model\": \"747\",\n",
    "...     \"passengers\": 416,\n",
    "... }.keys())\n",
    "\n",
    "tuple({\n",
    "...     \"manufacturer\": \"Boeing\",\n",
    "...     \"model\": \"747\",\n",
    "...     \"passengers\": 416,\n",
    "... }.items())"
   ]
  },
  {
   "cell_type": "code",
   "execution_count": null,
   "id": "93485016-80d0-4e00-aa63-04962c17006f",
   "metadata": {},
   "outputs": [],
   "source": []
  },
  {
   "cell_type": "code",
   "execution_count": 21,
   "id": "e9a61885-8a27-4621-9345-6e92e1f5a56b",
   "metadata": {},
   "outputs": [
    {
     "name": "stdout",
     "output_type": "stream",
     "text": [
      "\n",
      "\n",
      "Tuples can store any type of object, including mutable ones. \n",
      "This means that you can store lists, sets, dictionaries, and other mutable objects in a tuple\n",
      "\n",
      "\n",
      "('Linda', 18, ['Math', 'Physics', 'History'])\n",
      "Linda\n",
      "['Math', 'Physics', 'History']\n",
      "Math\n",
      "History\n",
      "('Linda', 18, ['Math', 'Physics', 'Computer science'])\n"
     ]
    }
   ],
   "source": [
    "print('''\n",
    "\n",
    "Tuples can store any type of object, including mutable ones. \n",
    "This means that you can store lists, sets, dictionaries, and other mutable objects in a tuple\n",
    "\n",
    "''')\n",
    "\n",
    "student_info = (\"Linda\", 18, [\"Math\", \"Physics\", \"History\"])\n",
    "print(student_info)\n",
    "print(student_info[0])\n",
    "print(student_info[2])\n",
    "print(student_info[2][0])\n",
    "print(student_info[2][2])\n",
    "\n",
    "# The first two items are immutable. The third item is a list of subjects. \n",
    "# Python’s lists are mutable, and therefore, you can change their items in place. \n",
    "\n",
    "student_info[2][2] = \"Computer science\"\n",
    "print(student_info)"
   ]
  },
  {
   "cell_type": "code",
   "execution_count": 22,
   "id": "fe452bee-9321-4a11-bec5-f5ee967bdecc",
   "metadata": {},
   "outputs": [
    {
     "name": "stdout",
     "output_type": "stream",
     "text": [
      "John Doe's courses: ['Physics', 'Chemistry']\n",
      "Jane Doe's courses: ['English', 'History']\n",
      "Alice Smith's courses: ['Math', 'Biology']\n",
      "John Doe's updated courses: ['Physics', 'Chemistry', 'Mathematics']\n",
      "John Doe is enrolled.\n",
      "Bob Brown is not enrolled.\n",
      "\n",
      "Final student_courses dictionary:\n",
      "John Doe: Physics, Chemistry, Mathematics\n",
      "Jane Doe: English, History\n",
      "Alice Smith: Math, Biology\n"
     ]
    }
   ],
   "source": [
    "# We can change the content of mutable objects even if they’re nested in a tuple. \n",
    "# This behavior of tuples may have further implications. \n",
    "# For example, because tuples are immutable, you can use them as keys in a dictionary:\n",
    "\n",
    "# Initialize student_courses dictionary\n",
    "student_courses = {\n",
    "    (\"John\", \"Doe\"): [\"Physics\", \"Chemistry\"],\n",
    "    (\"Jane\", \"Doe\"): [\"English\", \"History\"]\n",
    "}\n",
    "\n",
    "# Accessing data\n",
    "print(\"John Doe's courses:\", student_courses[(\"John\", \"Doe\")])\n",
    "print(\"Jane Doe's courses:\", student_courses[(\"Jane\", \"Doe\")])\n",
    "\n",
    "# Adding a new student\n",
    "student_courses[(\"Alice\", \"Smith\")] = [\"Math\", \"Biology\"]\n",
    "print(\"Alice Smith's courses:\", student_courses[(\"Alice\", \"Smith\")])\n",
    "\n",
    "# Adding a course for an existing student\n",
    "student_courses[(\"John\", \"Doe\")].append(\"Mathematics\")\n",
    "print(\"John Doe's updated courses:\", student_courses[(\"John\", \"Doe\")])\n",
    "\n",
    "# Checking if a student exists\n",
    "if (\"John\", \"Doe\") in student_courses:\n",
    "    print(\"John Doe is enrolled.\")\n",
    "\n",
    "if (\"Bob\", \"Brown\") not in student_courses:\n",
    "    print(\"Bob Brown is not enrolled.\")\n",
    "\n",
    "# Output the final dictionary\n",
    "print(\"\\nFinal student_courses dictionary:\")\n",
    "for student, courses in student_courses.items():\n",
    "    print(f\"{student[0]} {student[1]}: {', '.join(courses)}\")"
   ]
  },
  {
   "cell_type": "code",
   "execution_count": 23,
   "id": "a365bde2-b055-4c1e-8474-625fbed96f5f",
   "metadata": {},
   "outputs": [],
   "source": [
    "# Python also has a packing and unpacking operator (*) that you can use to make your unpacking statements more flexible. \n",
    "# For example, you can use this operator to collect multiple values in a single variable when the number of variables on the left \n",
    "# doesn’t match the number of items in the tuple on the right."
   ]
  },
  {
   "cell_type": "code",
   "execution_count": 24,
   "id": "2e2d69c3-443b-48b1-8623-25bcca37f941",
   "metadata": {},
   "outputs": [
    {
     "name": "stdout",
     "output_type": "stream",
     "text": [
      "[1, 2, 3, 4]\n",
      "5\n",
      "1\n",
      "[2, 3, 4]\n",
      "5\n"
     ]
    }
   ],
   "source": [
    "numbers = (1, 2, 3, 4, 5)\n",
    "\n",
    "*head, last = numbers\n",
    "print(head)\n",
    "print(last)\n",
    "\n",
    "first, *middle, last = numbers\n",
    "print(first)\n",
    "print(middle)\n",
    "print(last)"
   ]
  },
  {
   "cell_type": "code",
   "execution_count": 25,
   "id": "88e23e8d-057b-40e6-b4a6-5e362572d1e7",
   "metadata": {},
   "outputs": [],
   "source": [
    "# Reversing a Tuple With reversed()\n",
    "# Reversing a Tuple With the Slicing Operator : eg days[::-1]\n",
    "# Sorting a Tuple With sorted()"
   ]
  },
  {
   "cell_type": "code",
   "execution_count": 26,
   "id": "0002a4a4-8968-4095-9d34-2a645a038a88",
   "metadata": {},
   "outputs": [
    {
     "data": {
      "text/plain": [
       "75100"
      ]
     },
     "execution_count": 26,
     "metadata": {},
     "output_type": "execute_result"
    }
   ],
   "source": [
    "# Using a for Loop to Iterate Over a Tuple\n",
    "# To illustrate how to iterate over a tuple using a Python for loop, say that you have a tuple of tuples. \n",
    "# Each nested tuple contains a month of the year and the income of a company during that month. \n",
    "# Now say that you want to know the year’s income\n",
    "\n",
    "monthly_incomes = (\n",
    "     (\"January\", 5000),\n",
    "     (\"February\", 5500),\n",
    "     (\"March\", 6000),\n",
    "     (\"April\", 5800),\n",
    "     (\"May\", 6200),\n",
    "     (\"June\", 7000),\n",
    "     (\"July\", 7500),\n",
    "     (\"August\", 7300),\n",
    "     (\"September\", 6800),\n",
    "     (\"October\", 6500),\n",
    "     (\"November\", 6000),\n",
    "     (\"December\", 5500)\n",
    ")\n",
    "\n",
    "total_income = 0\n",
    "for income in monthly_incomes:\n",
    "    # print(income)\n",
    "    # print(income[0])\n",
    "    # print(income[1])\n",
    "    total_income += income[1]\n",
    "\n",
    "total_income"
   ]
  },
  {
   "cell_type": "code",
   "execution_count": null,
   "id": "94172ba6-d4de-4a51-84f5-89ca154da530",
   "metadata": {},
   "outputs": [],
   "source": []
  },
  {
   "cell_type": "code",
   "execution_count": 27,
   "id": "437f0d6f-8f83-499f-98e3-96f93edd82dd",
   "metadata": {},
   "outputs": [
    {
     "name": "stdout",
     "output_type": "stream",
     "text": [
      "\n",
      "\n",
      "Tuples With Named Fields: collections.namedtuple\n",
      "\n",
      "A named tuple is a tuple subclass that incorporates named fields into its public interface. \n",
      "These named fields allow you to access the items in the underlying tuple using dot notation and the appropriate field name, \n",
      "which is more readable and explicit than using an index.\n",
      "\n",
      "\n",
      "John\n",
      "35\n",
      "Python Developer\n",
      "John\n"
     ]
    }
   ],
   "source": [
    "print('''\n",
    "\n",
    "Tuples With Named Fields: collections.namedtuple\n",
    "\n",
    "A named tuple is a tuple subclass that incorporates named fields into its public interface. \n",
    "These named fields allow you to access the items in the underlying tuple using dot notation and the appropriate field name, \n",
    "which is more readable and explicit than using an index.\n",
    "\n",
    "''')\n",
    "\n",
    "from collections import namedtuple\n",
    "\n",
    "Person = namedtuple(\"Person\", \"name age position\")\n",
    "\n",
    "# You create the Person class by calling the function with two arguments. \n",
    "# The first argument is the class name, while the second argument is a string that provides the field names separated by whitespaces. \n",
    "# In this specific example, your tuple-like class will have three fields: name, age, and position.\n",
    "\n",
    "person = Person(\"John\", 35, \"Python Developer\")\n",
    "print(person.name)\n",
    "print(person.age)\n",
    "print(person.position)\n",
    "print(person[0])"
   ]
  },
  {
   "cell_type": "code",
   "execution_count": 28,
   "id": "20755125-96a5-4cfe-8545-a9bc97e781a4",
   "metadata": {},
   "outputs": [],
   "source": [
    "# Database records are a good example of a typical use case of tuples. \n",
    "# In this scenario, a tuple will provide a good representation of records or rows, \n",
    "# where you have many fields containing heterogeneous values that shouldn’t change frequently."
   ]
  },
  {
   "cell_type": "code",
   "execution_count": null,
   "id": "86a345f5-a064-4ef7-b1a9-fccedfb046e3",
   "metadata": {},
   "outputs": [],
   "source": []
  },
  {
   "cell_type": "code",
   "execution_count": null,
   "id": "a5b0264d-dfe0-4758-b4dc-386680ab82b6",
   "metadata": {},
   "outputs": [],
   "source": []
  }
 ],
 "metadata": {
  "kernelspec": {
   "display_name": "Python 3 (ipykernel)",
   "language": "python",
   "name": "python3"
  },
  "language_info": {
   "codemirror_mode": {
    "name": "ipython",
    "version": 3
   },
   "file_extension": ".py",
   "mimetype": "text/x-python",
   "name": "python",
   "nbconvert_exporter": "python",
   "pygments_lexer": "ipython3",
   "version": "3.12.7"
  }
 },
 "nbformat": 4,
 "nbformat_minor": 5
}
