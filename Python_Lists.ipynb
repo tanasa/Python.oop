{
 "cells": [
  {
   "cell_type": "code",
   "execution_count": 1,
   "id": "d3792f23-05d1-4c1a-90a7-d7a1fec8c0a1",
   "metadata": {},
   "outputs": [],
   "source": [
    "# https://www.geeksforgeeks.org/python-lists/"
   ]
  },
  {
   "cell_type": "code",
   "execution_count": 2,
   "id": "a66c5e80-eae3-4d7b-aa4c-b0cf1abdb8b7",
   "metadata": {},
   "outputs": [
    {
     "name": "stdout",
     "output_type": "stream",
     "text": [
      "Lists\n"
     ]
    }
   ],
   "source": [
    "print(\"Lists\")"
   ]
  },
  {
   "cell_type": "code",
   "execution_count": 3,
   "id": "25687065-be6c-4dab-bcb7-1226509e23ac",
   "metadata": {},
   "outputs": [
    {
     "name": "stdout",
     "output_type": "stream",
     "text": [
      "\n",
      "\n",
      "List can contain duplicate items.\n",
      "List in Python are Mutable. Hence, we can modify, replace or delete the items.\n",
      "List are ordered. It maintain the order of elements based on how they are added.\n",
      "Accessing items in List can be done directly using their position (index), starting from 0\n",
      "\n",
      "\n"
     ]
    }
   ],
   "source": [
    "print('''\n",
    "\n",
    "List can contain duplicate items.\n",
    "List in Python are Mutable. Hence, we can modify, replace or delete the items.\n",
    "List are ordered. It maintain the order of elements based on how they are added.\n",
    "Accessing items in List can be done directly using their position (index), starting from 0\n",
    "\n",
    "''')"
   ]
  },
  {
   "cell_type": "code",
   "execution_count": 4,
   "id": "6eafdc04-366c-40c5-ae72-a3983da8314e",
   "metadata": {},
   "outputs": [],
   "source": [
    "# A few notes on the Lists in Python"
   ]
  },
  {
   "cell_type": "code",
   "execution_count": 5,
   "id": "1f7ab626-636a-477c-a926-b8b1fc14485b",
   "metadata": {},
   "outputs": [
    {
     "name": "stdout",
     "output_type": "stream",
     "text": [
      "10\n",
      "[10, 20, 15, 11]\n",
      "[10, 15, 11]\n"
     ]
    }
   ],
   "source": [
    "a = [10, 20, 15]\n",
    "\n",
    "print(a[0]) # access first item\n",
    "a.append(11) # add item\n",
    "print(a)\n",
    "a.remove(20) # remove item\n",
    "print(a)"
   ]
  },
  {
   "cell_type": "code",
   "execution_count": 6,
   "id": "bc723cf0-0b2b-4794-90d0-d08cacdc056f",
   "metadata": {},
   "outputs": [
    {
     "name": "stdout",
     "output_type": "stream",
     "text": [
      "[2, 2, 2, 2, 2]\n",
      "[0, 0, 0, 0, 0, 0, 0]\n"
     ]
    }
   ],
   "source": [
    "# Creating List with Repeated Elements\n",
    "# We can create a list with repeated elements using the multiplication operator.\n",
    "\n",
    "# Create a list [2, 2, 2, 2, 2]\n",
    "a = [2] * 5\n",
    "print(a)\n",
    "\n",
    "# Create a list [0, 0, 0, 0, 0, 0, 0]\n",
    "b = [0] * 7\n",
    "print(b)"
   ]
  },
  {
   "cell_type": "code",
   "execution_count": 7,
   "id": "8dcabca5-d107-4949-b23e-346978723b51",
   "metadata": {
    "scrolled": true
   },
   "outputs": [
    {
     "name": "stdout",
     "output_type": "stream",
     "text": [
      "\n",
      "\n",
      "Adding Elements into List :\n",
      "We can add elements to a list using the following methods:\n",
      "\n",
      "append(): Adds an element at the end of the list.\n",
      "extend(): Adds multiple elements to the end of the list.\n",
      "insert(): Adds an element at a specific position.\n",
      "\n"
     ]
    }
   ],
   "source": [
    "print('''\n",
    "\n",
    "Adding Elements into List :\n",
    "We can add elements to a list using the following methods:\n",
    "\n",
    "append(): Adds an element at the end of the list.\n",
    "extend(): Adds multiple elements to the end of the list.\n",
    "insert(): Adds an element at a specific position.\n",
    "''')"
   ]
  },
  {
   "cell_type": "code",
   "execution_count": null,
   "id": "a6d9e670-af7b-4b79-a80b-48a16cf1e143",
   "metadata": {},
   "outputs": [],
   "source": []
  },
  {
   "cell_type": "code",
   "execution_count": 8,
   "id": "b3572d4c-5b2e-45c8-92a5-b86057d23447",
   "metadata": {},
   "outputs": [
    {
     "name": "stdout",
     "output_type": "stream",
     "text": [
      "After append(10): [10]\n",
      "After insert(0, 5): [5, 10]\n",
      "After extend([15, 20, 25]): [5, 10, 15, 20, 25]\n"
     ]
    }
   ],
   "source": [
    "# Initialize an empty list\n",
    "a = []\n",
    "\n",
    "# Adding 10 to end of list\n",
    "a.append(10)  \n",
    "print(\"After append(10):\", a)  \n",
    "\n",
    "# Inserting 5 at index 0\n",
    "a.insert(0, 5)\n",
    "print(\"After insert(0, 5):\", a) \n",
    "\n",
    "# Adding multiple elements  [15, 20, 25] at the end\n",
    "a.extend([15, 20, 25])  \n",
    "print(\"After extend([15, 20, 25]):\", a) "
   ]
  },
  {
   "cell_type": "code",
   "execution_count": 9,
   "id": "169633ed-b076-403c-bea8-aed5fcb9fdf1",
   "metadata": {},
   "outputs": [
    {
     "name": "stdout",
     "output_type": "stream",
     "text": [
      "[10, 25, 30, 40, 50]\n"
     ]
    }
   ],
   "source": [
    "# Updating Elements into List\n",
    "# We can change the value of an element by accessing it using its index.\n",
    "\n",
    "a = [10, 20, 30, 40, 50]\n",
    "\n",
    "# Change the second element\n",
    "a[1] = 25 \n",
    "\n",
    "print(a)  "
   ]
  },
  {
   "cell_type": "code",
   "execution_count": 10,
   "id": "10ac2ef8-41ce-4afc-9b3e-922495353292",
   "metadata": {},
   "outputs": [
    {
     "name": "stdout",
     "output_type": "stream",
     "text": [
      "After remove(30): [10, 20, 40, 50]\n",
      "Popped element: 20\n",
      "After pop(1): [10, 40, 50]\n",
      "After del a[0]: [40, 50]\n"
     ]
    }
   ],
   "source": [
    "# We can remove elements from a list using:\n",
    "\n",
    "# remove(): Removes the first occurrence of an element.\n",
    "# pop(): Removes the element at a specific index or the last element if no index is specified.\n",
    "# del statement: Deletes an element at a specified index.\n",
    "\n",
    "a = [10, 20, 30, 40, 50]\n",
    "\n",
    "# Removes the first occurrence of 30\n",
    "a.remove(30)  \n",
    "print(\"After remove(30):\", a)\n",
    "\n",
    "# Removes the element at index 1 (20)\n",
    "popped_val = a.pop(1)  \n",
    "print(\"Popped element:\", popped_val)\n",
    "print(\"After pop(1):\", a) \n",
    "\n",
    "# Deletes the first element (10)\n",
    "del a[0]  \n",
    "print(\"After del a[0]:\", a)  "
   ]
  },
  {
   "cell_type": "code",
   "execution_count": 11,
   "id": "5f4d179f-a03b-45f3-9d6f-c4088c8aec87",
   "metadata": {},
   "outputs": [],
   "source": [
    "# https://www.w3schools.com/python/python_lists_access.asp"
   ]
  },
  {
   "cell_type": "code",
   "execution_count": 12,
   "id": "7cbcb68f-1b28-4b90-be21-71d139fd7a61",
   "metadata": {},
   "outputs": [
    {
     "name": "stdout",
     "output_type": "stream",
     "text": [
      "['cherry', 'orange', 'kiwi']\n"
     ]
    }
   ],
   "source": [
    "# Range of Indexes\n",
    "thislist = [\"apple\", \"banana\", \"cherry\", \"orange\", \"kiwi\", \"melon\", \"mango\"]\n",
    "print(thislist[2:5])"
   ]
  },
  {
   "cell_type": "code",
   "execution_count": 13,
   "id": "5554f211-7a91-44a4-bf26-af7a33c647eb",
   "metadata": {},
   "outputs": [
    {
     "name": "stdout",
     "output_type": "stream",
     "text": [
      "['orange', 'kiwi', 'melon']\n"
     ]
    }
   ],
   "source": [
    "# Range of Negative Indexes\n",
    "thislist = [\"apple\", \"banana\", \"cherry\", \"orange\", \"kiwi\", \"melon\", \"mango\"]\n",
    "print(thislist[-4:-1])"
   ]
  },
  {
   "cell_type": "code",
   "execution_count": 14,
   "id": "1d268460-117b-43aa-9086-e768bff79b29",
   "metadata": {},
   "outputs": [
    {
     "name": "stdout",
     "output_type": "stream",
     "text": [
      "['apple', 'blackcurrant', 'watermelon', 'orange', 'kiwi', 'mango']\n",
      "['apple', 'beans', 'sweet peas', 'mango']\n"
     ]
    }
   ],
   "source": [
    "# Change a Range of Item Values\n",
    "thislist = [\"apple\", \"banana\", \"cherry\", \"orange\", \"kiwi\", \"mango\"]\n",
    "thislist[1:3] = [\"blackcurrant\", \"watermelon\"]\n",
    "print(thislist)\n",
    "thislist[1:5] = [\"beans\", \"sweet peas\"]\n",
    "print(thislist)"
   ]
  },
  {
   "cell_type": "code",
   "execution_count": 15,
   "id": "c163cf6e-6fb5-469d-bcc2-aa640ddd5b78",
   "metadata": {},
   "outputs": [
    {
     "name": "stdout",
     "output_type": "stream",
     "text": [
      "['apple', 'watermelon']\n"
     ]
    }
   ],
   "source": [
    "thislist = [\"apple\", \"banana\", \"cherry\"]\n",
    "thislist[1:3] = [\"watermelon\"]\n",
    "print(thislist)"
   ]
  },
  {
   "cell_type": "code",
   "execution_count": 16,
   "id": "a3ab1d91-d7e1-462e-a68c-79a5bc5d3f6e",
   "metadata": {},
   "outputs": [
    {
     "name": "stdout",
     "output_type": "stream",
     "text": [
      "['apple', 'banana', 'watermelon', 'cherry']\n"
     ]
    }
   ],
   "source": [
    "# Insert \"watermelon\" as the third item:\n",
    "\n",
    "thislist = [\"apple\", \"banana\", \"cherry\"]\n",
    "thislist.insert(2, \"watermelon\")\n",
    "print(thislist)"
   ]
  },
  {
   "cell_type": "code",
   "execution_count": 17,
   "id": "eb734211-ef50-4ccf-a8a8-6b34a4e1bd34",
   "metadata": {},
   "outputs": [
    {
     "name": "stdout",
     "output_type": "stream",
     "text": [
      "['apple', 'banana', 'cherry', 'orange']\n"
     ]
    }
   ],
   "source": [
    "# Using the append() method to append an item:\n",
    "\n",
    "thislist = [\"apple\", \"banana\", \"cherry\"]\n",
    "thislist.append(\"orange\")\n",
    "print(thislist)"
   ]
  },
  {
   "cell_type": "code",
   "execution_count": 18,
   "id": "63b5f032-d7c1-435a-afe0-8d9f1fb45489",
   "metadata": {},
   "outputs": [
    {
     "name": "stdout",
     "output_type": "stream",
     "text": [
      "['apple', 'orange', 'banana', 'cherry']\n"
     ]
    }
   ],
   "source": [
    "# The insert() method inserts an item at the specified index:\n",
    "# Insert an item as the second position:\n",
    "\n",
    "thislist = [\"apple\", \"banana\", \"cherry\"]\n",
    "thislist.insert(1, \"orange\")\n",
    "print(thislist)"
   ]
  },
  {
   "cell_type": "code",
   "execution_count": 19,
   "id": "26710cf0-7196-4d1b-8087-30e2f91871fc",
   "metadata": {},
   "outputs": [
    {
     "name": "stdout",
     "output_type": "stream",
     "text": [
      "['apple', 'banana', 'cherry', 'mango', 'pineapple', 'papaya']\n"
     ]
    }
   ],
   "source": [
    "# Extend List\n",
    "# To append elements from another list to the current list, use the extend() method.\n",
    "# Add the elements of tropical to thislist:\n",
    "\n",
    "thislist = [\"apple\", \"banana\", \"cherry\"]\n",
    "tropical = [\"mango\", \"pineapple\", \"papaya\"]\n",
    "thislist.extend(tropical)\n",
    "print(thislist)"
   ]
  },
  {
   "cell_type": "code",
   "execution_count": 20,
   "id": "47e4c245-aa73-4608-ae2e-78140bc89c54",
   "metadata": {},
   "outputs": [
    {
     "name": "stdout",
     "output_type": "stream",
     "text": [
      "['apple', 'banana', 'cherry', 'kiwi', 'orange']\n"
     ]
    }
   ],
   "source": [
    "# Add elements of a tuple to a list:\n",
    "\n",
    "thislist = [\"apple\", \"banana\", \"cherry\"]\n",
    "thistuple = (\"kiwi\", \"orange\")\n",
    "thislist.extend(thistuple)\n",
    "print(thislist)"
   ]
  },
  {
   "cell_type": "code",
   "execution_count": 21,
   "id": "111bc92d-fefb-43af-9468-8923e7ff7060",
   "metadata": {},
   "outputs": [
    {
     "name": "stdout",
     "output_type": "stream",
     "text": [
      "['apple', 'cherry']\n"
     ]
    }
   ],
   "source": [
    "# Remove Specified Item\n",
    "# The remove() method removes the specified item.\n",
    "\n",
    "thislist = [\"apple\", \"banana\", \"cherry\"]\n",
    "thislist.remove(\"banana\")\n",
    "print(thislist)"
   ]
  },
  {
   "cell_type": "code",
   "execution_count": 22,
   "id": "e4ba5ac5-5b23-489c-ad00-e608445cc4fe",
   "metadata": {},
   "outputs": [
    {
     "name": "stdout",
     "output_type": "stream",
     "text": [
      "['apple', 'cherry', 'banana', 'kiwi']\n"
     ]
    }
   ],
   "source": [
    "# If there are more than one item with the specified value, the remove() method removes the first occurrence:\n",
    "# Remove the first occurrence of \"banana\":\n",
    "\n",
    "thislist = [\"apple\", \"banana\", \"cherry\", \"banana\", \"kiwi\"]\n",
    "thislist.remove(\"banana\")\n",
    "print(thislist)"
   ]
  },
  {
   "cell_type": "code",
   "execution_count": 23,
   "id": "c649b007-8019-4b67-bfc4-cee0265f0128",
   "metadata": {},
   "outputs": [
    {
     "name": "stdout",
     "output_type": "stream",
     "text": [
      "['apple', 'cherry']\n",
      "['apple', 'banana']\n"
     ]
    }
   ],
   "source": [
    "# Remove Specified Index\n",
    "# The pop() method removes the specified index.\n",
    "\n",
    "# Example : Remove the second item:\n",
    "\n",
    "thislist = [\"apple\", \"banana\", \"cherry\"]\n",
    "thislist.pop(1)\n",
    "print(thislist)\n",
    "\n",
    "# Remove the last item:\n",
    "\n",
    "thislist = [\"apple\", \"banana\", \"cherry\"]\n",
    "thislist.pop()\n",
    "print(thislist)"
   ]
  },
  {
   "cell_type": "code",
   "execution_count": 24,
   "id": "516eb7a3-6d89-494a-83ef-01dffb823d63",
   "metadata": {},
   "outputs": [
    {
     "name": "stdout",
     "output_type": "stream",
     "text": [
      "['banana', 'cherry']\n"
     ]
    }
   ],
   "source": [
    "# The del keyword also removes the specified index:\n",
    "# Remove the first item:\n",
    "\n",
    "thislist = [\"apple\", \"banana\", \"cherry\"]\n",
    "del thislist[0]\n",
    "print(thislist)"
   ]
  },
  {
   "cell_type": "code",
   "execution_count": 25,
   "id": "f991bb98-b321-4394-8b5c-ae5143969bf2",
   "metadata": {},
   "outputs": [],
   "source": [
    "# The del keyword can also delete the list completely.\n",
    "# Delete the entire list:\n",
    "\n",
    "thislist = [\"apple\", \"banana\", \"cherry\"]\n",
    "del thislist"
   ]
  },
  {
   "cell_type": "code",
   "execution_count": 26,
   "id": "598051b4-7e59-4be0-bed8-8b4a45336b01",
   "metadata": {},
   "outputs": [
    {
     "name": "stdout",
     "output_type": "stream",
     "text": [
      "[]\n"
     ]
    }
   ],
   "source": [
    "# Clear the List\n",
    "# The clear() method empties the list.\n",
    "\n",
    "# The list still remains, but it has no content.\n",
    "# Clear the list content:\n",
    "\n",
    "thislist = [\"apple\", \"banana\", \"cherry\"]\n",
    "thislist.clear()\n",
    "print(thislist)"
   ]
  },
  {
   "cell_type": "code",
   "execution_count": null,
   "id": "a599ac48-be61-411d-821f-6550eadbfd64",
   "metadata": {},
   "outputs": [],
   "source": []
  },
  {
   "cell_type": "code",
   "execution_count": 27,
   "id": "7171f210-bb6d-41ea-b607-904f891a05dd",
   "metadata": {},
   "outputs": [
    {
     "name": "stdout",
     "output_type": "stream",
     "text": [
      "apple\n",
      "banana\n",
      "cherry\n"
     ]
    }
   ],
   "source": [
    "# Loop Lists\n",
    "\n",
    "thislist = [\"apple\", \"banana\", \"cherry\"]\n",
    "for x in thislist:\n",
    "  print(x)"
   ]
  },
  {
   "cell_type": "code",
   "execution_count": 28,
   "id": "fe7a1a8d-6288-4e95-89ef-a2a7c76dcbe9",
   "metadata": {},
   "outputs": [
    {
     "name": "stdout",
     "output_type": "stream",
     "text": [
      "apple\n",
      "banana\n",
      "cherry\n",
      "kiwi\n",
      "mango\n",
      "printing a sliced list:\n",
      "kiwi\n",
      "mango\n",
      "printing a sliced list:\n",
      "cherry\n",
      "kiwi\n",
      "mango\n"
     ]
    }
   ],
   "source": [
    "# Print all items by referring to their index number:\n",
    "\n",
    "thislist = [\"apple\", \"banana\", \"cherry\", \"kiwi\", \"mango\"]\n",
    "for i in range(len(thislist)):\n",
    "  print(thislist[i])\n",
    "\n",
    "# To print the list from the second element : \n",
    "\n",
    "# Using list slicing to start from index 2\n",
    "print(\"printing a sliced list:\")\n",
    "for i in range(3, len(thislist)):\n",
    "    print(thislist[i])\n",
    "\n",
    "# Using list slicing to start from index 2\n",
    "# Directly slicing the list (recommended)\n",
    "print(\"printing a sliced list:\") \n",
    "for item in thislist[2:]:\n",
    "    print(item)"
   ]
  },
  {
   "cell_type": "code",
   "execution_count": 29,
   "id": "1e6941b6-6a31-49e5-9370-a7f1f4729ccb",
   "metadata": {},
   "outputs": [
    {
     "name": "stdout",
     "output_type": "stream",
     "text": [
      "apple\n",
      "banana\n",
      "cherry\n"
     ]
    }
   ],
   "source": [
    "# Using a While Loop\n",
    "\n",
    "# Print all items, using a while loop to go through all the index numbers\n",
    "\n",
    "thislist = [\"apple\", \"banana\", \"cherry\"]\n",
    "i = 0\n",
    "while i < len(thislist):\n",
    "  print(thislist[i])\n",
    "  i = i + 1"
   ]
  },
  {
   "cell_type": "code",
   "execution_count": 30,
   "id": "544d0f2c-6f61-438a-81e9-d4999bbab89f",
   "metadata": {},
   "outputs": [],
   "source": [
    "# Looping using List Comprehension"
   ]
  },
  {
   "cell_type": "code",
   "execution_count": 31,
   "id": "1acbf0d9-b8ea-4434-a4a4-3bf679151e1c",
   "metadata": {},
   "outputs": [
    {
     "name": "stdout",
     "output_type": "stream",
     "text": [
      "apple\n",
      "banana\n",
      "cherry\n"
     ]
    },
    {
     "data": {
      "text/plain": [
       "[None, None, None]"
      ]
     },
     "execution_count": 31,
     "metadata": {},
     "output_type": "execute_result"
    }
   ],
   "source": [
    "thislist = [\"apple\", \"banana\", \"cherry\"]\n",
    "[print(x) for x in thislist]"
   ]
  },
  {
   "cell_type": "code",
   "execution_count": 32,
   "id": "c7dec60c-b232-41b1-8bc2-94dbf8b799e9",
   "metadata": {},
   "outputs": [
    {
     "name": "stdout",
     "output_type": "stream",
     "text": [
      "['apple', 'banana', 'mango']\n",
      "['apple', 'banana', 'mango']\n"
     ]
    }
   ],
   "source": [
    "# A new list using a for statement :\n",
    "\n",
    "fruits = [\"apple\", \"banana\", \"cherry\", \"kiwi\", \"mango\"]\n",
    "newlist = []\n",
    "\n",
    "for x in fruits:\n",
    "  if \"a\" in x:\n",
    "    newlist.append(x)\n",
    "\n",
    "print(newlist)\n",
    "\n",
    "# A new list without using a for statement :\n",
    "\n",
    "fruits = [\"apple\", \"banana\", \"cherry\", \"kiwi\", \"mango\"]\n",
    "newlist = [x for x in fruits if \"a\" in x]\n",
    "\n",
    "print(newlist)"
   ]
  },
  {
   "cell_type": "code",
   "execution_count": 33,
   "id": "cd5f06f7-127f-4725-8bfd-8bca00c22b9d",
   "metadata": {},
   "outputs": [],
   "source": [
    "# List Comprehension : newlist = [expression for item in iterable if condition == True]"
   ]
  },
  {
   "cell_type": "code",
   "execution_count": 34,
   "id": "7959f578-58ef-40be-b7fa-f8e831434861",
   "metadata": {},
   "outputs": [
    {
     "name": "stdout",
     "output_type": "stream",
     "text": [
      "['banana', 'cherry', 'kiwi', 'mango']\n"
     ]
    }
   ],
   "source": [
    "newlist = [x for x in fruits if x != \"apple\"]\n",
    "print(newlist)"
   ]
  },
  {
   "cell_type": "code",
   "execution_count": 35,
   "id": "70986c6d-579c-4677-a374-fdcea062f06f",
   "metadata": {},
   "outputs": [],
   "source": [
    "# Note : ITERABLE : The iterable can be any iterable object, like a list, tuple, set etc.\n",
    "# Range() : to use range() function to create an iterable."
   ]
  },
  {
   "cell_type": "code",
   "execution_count": 36,
   "id": "579c8302-c0fa-4f2f-ab09-6bac606f5e0f",
   "metadata": {},
   "outputs": [
    {
     "name": "stdout",
     "output_type": "stream",
     "text": [
      "[0, 1, 2, 3, 4]\n",
      "['APPLE', 'BANANA', 'CHERRY', 'KIWI', 'MANGO']\n",
      "['apple', 'orange', 'cherry', 'kiwi', 'mango']\n"
     ]
    }
   ],
   "source": [
    "newlist = [x for x in range(10) if x < 5]\n",
    "print(newlist)\n",
    "\n",
    "newlist = [x.upper() for x in fruits]\n",
    "print(newlist)\n",
    "\n",
    "newlist = [x if x != \"banana\" else \"orange\" for x in fruits]\n",
    "print(newlist)"
   ]
  },
  {
   "cell_type": "code",
   "execution_count": 37,
   "id": "6f421d3f-ec34-4600-a918-e7bb9f3e2911",
   "metadata": {},
   "outputs": [],
   "source": [
    "# Sort Lists :"
   ]
  },
  {
   "cell_type": "code",
   "execution_count": 38,
   "id": "45f923b0-b0b4-4fa7-98d3-e57be9349257",
   "metadata": {},
   "outputs": [
    {
     "name": "stdout",
     "output_type": "stream",
     "text": [
      "['banana', 'kiwi', 'mango', 'orange', 'pineapple']\n",
      "['pineapple', 'orange', 'mango', 'kiwi', 'banana']\n"
     ]
    }
   ],
   "source": [
    "# Sorting the lists :\n",
    "thislist = [\"orange\", \"mango\", \"kiwi\", \"pineapple\", \"banana\"]\n",
    "thislist.sort()\n",
    "print(thislist)\n",
    "thislist.sort(reverse = True)\n",
    "print(thislist)"
   ]
  },
  {
   "cell_type": "code",
   "execution_count": 39,
   "id": "2343016b-dbe0-4d72-bacd-d4a8da5a153c",
   "metadata": {},
   "outputs": [
    {
     "name": "stdout",
     "output_type": "stream",
     "text": [
      "[50, 65, 23, 82, 100]\n"
     ]
    }
   ],
   "source": [
    "# Customize Sort Function\n",
    "# You can also customize your own function by using the keyword argument key = function.\n",
    "\n",
    "# The function will return a number that will be used to sort the list (the lowest number first):\n",
    "def myfunc(n):\n",
    "  return abs(n - 50)\n",
    "\n",
    "thislist = [100, 50, 65, 82, 23]\n",
    "thislist.sort(key = myfunc)\n",
    "print(thislist)"
   ]
  },
  {
   "cell_type": "code",
   "execution_count": 40,
   "id": "4d5914da-82e0-4876-83c9-53b6a9edcd29",
   "metadata": {},
   "outputs": [
    {
     "name": "stdout",
     "output_type": "stream",
     "text": [
      "['banana', 'cherry', 'Kiwi', 'Orange']\n"
     ]
    }
   ],
   "source": [
    "# Perform a case-insensitive sort of the list:\n",
    "\n",
    "thislist = [\"banana\", \"Orange\", \"Kiwi\", \"cherry\"]\n",
    "thislist.sort(key = str.lower)\n",
    "print(thislist)"
   ]
  },
  {
   "cell_type": "code",
   "execution_count": 41,
   "id": "b84e1e86-a381-4e2d-a53c-599b4c2a06bd",
   "metadata": {},
   "outputs": [
    {
     "name": "stdout",
     "output_type": "stream",
     "text": [
      "['cherry', 'Kiwi', 'Orange', 'banana']\n"
     ]
    }
   ],
   "source": [
    "# The reverse() method reverses the current sorting order of the elements.\n",
    "\n",
    "# Reverses the order of the elements in the list without sorting.\n",
    "# The list remains in the same original order, just flipped.\n",
    "thislist = [\"banana\", \"Orange\", \"Kiwi\", \"cherry\"]\n",
    "thislist.reverse()\n",
    "print(thislist)"
   ]
  },
  {
   "cell_type": "code",
   "execution_count": 42,
   "id": "b940413c-8a58-4c4b-b1d3-3d9e0b90e9a5",
   "metadata": {},
   "outputs": [],
   "source": [
    "# Copy lists :"
   ]
  },
  {
   "cell_type": "code",
   "execution_count": 43,
   "id": "dfb08f30-1c84-4773-9c8f-6c106384c457",
   "metadata": {},
   "outputs": [
    {
     "name": "stdout",
     "output_type": "stream",
     "text": [
      "['apple', 'banana', 'cherry']\n",
      "['apple', 'banana', 'cherry']\n"
     ]
    }
   ],
   "source": [
    "# To copy a list : use the copy() method\n",
    "thislist = [\"apple\", \"banana\", \"cherry\"]\n",
    "mylist = thislist.copy()\n",
    "print(mylist)\n",
    "\n",
    "# To copy a list : use the : slice method\n",
    "# Make a copy of a list with the : operator:\n",
    "\n",
    "thislist = [\"apple\", \"banana\", \"cherry\"]\n",
    "mylist = thislist[:]\n",
    "print(mylist)"
   ]
  },
  {
   "cell_type": "code",
   "execution_count": 44,
   "id": "85a42336-3556-4e81-b841-ab032357f319",
   "metadata": {},
   "outputs": [],
   "source": [
    "# Join lists"
   ]
  },
  {
   "cell_type": "code",
   "execution_count": 45,
   "id": "86efc4db-f932-4989-a160-a1b9f9b7d038",
   "metadata": {},
   "outputs": [
    {
     "name": "stdout",
     "output_type": "stream",
     "text": [
      "['a', 'b', 'c', 1, 2, 3]\n",
      "['a', 'b', 'c', 1, 2, 3]\n",
      "['a', 'b', 'c', 1, 2, 3]\n"
     ]
    }
   ],
   "source": [
    "# Join two lists:\n",
    "list1 = [\"a\", \"b\", \"c\"]\n",
    "list2 = [1, 2, 3]\n",
    "\n",
    "list3 = list1 + list2\n",
    "print(list3)\n",
    "\n",
    "# Append list2 into list1:\n",
    "list1 = [\"a\", \"b\" , \"c\"]\n",
    "list2 = [1, 2, 3]\n",
    "for x in list2:\n",
    "  list1.append(x)\n",
    "print(list1)\n",
    "\n",
    "# Use the extend() method to add list2 at the end of list1:\n",
    "list1 = [\"a\", \"b\" , \"c\"]\n",
    "list2 = [1, 2, 3]\n",
    "\n",
    "list1.extend(list2)\n",
    "print(list1)"
   ]
  },
  {
   "cell_type": "code",
   "execution_count": 46,
   "id": "287f5566-f357-4223-912a-efa202399a9f",
   "metadata": {},
   "outputs": [
    {
     "name": "stdout",
     "output_type": "stream",
     "text": [
      "\n",
      "\n",
      "List Methods :\n",
      "Python has a set of built-in methods that you can use on lists.\n",
      "\n",
      "Method\tDescription :\n",
      "append()\tAdds an element at the end of the list\n",
      "clear()\t    Removes all the elements from the list\n",
      "copy()\t    Returns a copy of the list\n",
      "count()\t    Returns the number of elements with the specified value\n",
      "extend()\tAdd the elements of a list (or any iterable), to the end of the current list\n",
      "index()\t    Returns the index of the first element with the specified value\n",
      "insert()\tAdds an element at the specified position\n",
      "pop()\t    Removes the element at the specified position\n",
      "remove()\tRemoves the item with the specified value\n",
      "reverse()\tReverses the order of the list\n",
      "sort()\t    Sorts the list\n",
      "\n",
      "\n"
     ]
    }
   ],
   "source": [
    "print ('''\n",
    "\n",
    "List Methods :\n",
    "Python has a set of built-in methods that you can use on lists.\n",
    "\n",
    "Method\tDescription :\n",
    "append()\tAdds an element at the end of the list\n",
    "clear()\t    Removes all the elements from the list\n",
    "copy()\t    Returns a copy of the list\n",
    "count()\t    Returns the number of elements with the specified value\n",
    "extend()\tAdd the elements of a list (or any iterable), to the end of the current list\n",
    "index()\t    Returns the index of the first element with the specified value\n",
    "insert()\tAdds an element at the specified position\n",
    "pop()\t    Removes the element at the specified position\n",
    "remove()\tRemoves the item with the specified value\n",
    "reverse()\tReverses the order of the list\n",
    "sort()\t    Sorts the list\n",
    "\n",
    "''')"
   ]
  },
  {
   "cell_type": "code",
   "execution_count": 47,
   "id": "ad560240-17f9-4190-a617-0237cfd84f78",
   "metadata": {},
   "outputs": [],
   "source": [
    "# https://docs.python.org/3/tutorial/datastructures.html"
   ]
  },
  {
   "cell_type": "code",
   "execution_count": 48,
   "id": "c0691ab4-e993-4026-86c5-0d366a7638ae",
   "metadata": {},
   "outputs": [
    {
     "name": "stdout",
     "output_type": "stream",
     "text": [
      "\n",
      "\n",
      "The list data type has some more methods. Here are all of the methods of list objects:\n",
      "\n",
      "list.append(x)\n",
      "Add an item to the end of the list. Similar to a[len(a):] = [x].\n",
      "\n",
      "list.extend(iterable)\n",
      "Extend the list by appending all the items from the iterable. Similar to a[len(a):] = iterable.\n",
      "\n",
      "list.insert(i, x)\n",
      "Insert an item at a given position. The first argument is the index of the element before which to insert, so a.insert(0, x) inserts at the front of the list, \n",
      "and a.insert(len(a), x) is equivalent to a.append(x).\n",
      "\n",
      "list.remove(x)\n",
      "Remove the first item from the list whose value is equal to x. It raises a ValueError if there is no such item.\n",
      "\n",
      "list.pop([i])\n",
      "Remove the item at the given position in the list, and return it. \n",
      "If no index is specified, a.pop() removes and returns the last item in the list. \n",
      "It raises an IndexError if the list is empty or the index is outside the list range.\n",
      "\n",
      "list.clear()\n",
      "Remove all items from the list. Similar to del a[:].\n",
      "\n",
      "list.index(x[, start[, end]])\n",
      "Return zero-based index in the list of the first item whose value is equal to x. Raises a ValueError if there is no such item.\n",
      "\n",
      "The optional arguments start and end are interpreted as in the slice notation and are used to limit the search to a particular subsequence of the list. \n",
      "The returned index is computed relative to the beginning of the full sequence rather than the start argument.\n",
      "\n",
      "list.count(x)\n",
      "Return the number of times x appears in the list.\n",
      "\n",
      "list.sort(*, key=None, reverse=False)\n",
      "Sort the items of the list in place (the arguments can be used for sort customization, see sorted() for their explanation).\n",
      "\n",
      "list.reverse()\n",
      "Reverse the elements of the list in place.\n",
      "\n",
      "list.copy()\n",
      "Return a shallow copy of the list. Similar to a[:].\n",
      "\n",
      "\n"
     ]
    }
   ],
   "source": [
    "print('''\n",
    "\n",
    "The list data type has some more methods. Here are all of the methods of list objects:\n",
    "\n",
    "list.append(x)\n",
    "Add an item to the end of the list. Similar to a[len(a):] = [x].\n",
    "\n",
    "list.extend(iterable)\n",
    "Extend the list by appending all the items from the iterable. Similar to a[len(a):] = iterable.\n",
    "\n",
    "list.insert(i, x)\n",
    "Insert an item at a given position. The first argument is the index of the element before which to insert, so a.insert(0, x) inserts at the front of the list, \n",
    "and a.insert(len(a), x) is equivalent to a.append(x).\n",
    "\n",
    "list.remove(x)\n",
    "Remove the first item from the list whose value is equal to x. It raises a ValueError if there is no such item.\n",
    "\n",
    "list.pop([i])\n",
    "Remove the item at the given position in the list, and return it. \n",
    "If no index is specified, a.pop() removes and returns the last item in the list. \n",
    "It raises an IndexError if the list is empty or the index is outside the list range.\n",
    "\n",
    "list.clear()\n",
    "Remove all items from the list. Similar to del a[:].\n",
    "\n",
    "list.index(x[, start[, end]])\n",
    "Return zero-based index in the list of the first item whose value is equal to x. Raises a ValueError if there is no such item.\n",
    "\n",
    "The optional arguments start and end are interpreted as in the slice notation and are used to limit the search to a particular subsequence of the list. \n",
    "The returned index is computed relative to the beginning of the full sequence rather than the start argument.\n",
    "\n",
    "list.count(x)\n",
    "Return the number of times x appears in the list.\n",
    "\n",
    "list.sort(*, key=None, reverse=False)\n",
    "Sort the items of the list in place (the arguments can be used for sort customization, see sorted() for their explanation).\n",
    "\n",
    "list.reverse()\n",
    "Reverse the elements of the list in place.\n",
    "\n",
    "list.copy()\n",
    "Return a shallow copy of the list. Similar to a[:].\n",
    "\n",
    "''')"
   ]
  },
  {
   "cell_type": "code",
   "execution_count": 49,
   "id": "2c7ab871-8643-4e8b-8be0-032ec3b0afb2",
   "metadata": {},
   "outputs": [
    {
     "name": "stdout",
     "output_type": "stream",
     "text": [
      "['orange', 'apple', 'pear', 'banana', 'kiwi', 'apple', 'banana']\n",
      "method : count()\n",
      "2\n",
      "0\n",
      "['orange', 'apple', 'pear', 'banana', 'kiwi', 'apple', 'banana']\n",
      "method : index()\n",
      "3\n",
      "6\n",
      "['orange', 'apple', 'pear', 'banana', 'kiwi', 'apple', 'banana']\n",
      "method : reverse()\n",
      "None\n",
      "['banana', 'apple', 'kiwi', 'banana', 'pear', 'apple', 'orange']\n",
      "method : append()\n",
      "None\n",
      "['banana', 'apple', 'kiwi', 'banana', 'pear', 'apple', 'orange', 'grape']\n",
      "method : sort()\n",
      "None\n",
      "['apple', 'apple', 'banana', 'banana', 'grape', 'kiwi', 'orange', 'pear']\n",
      "method : pop()\n",
      "['apple', 'apple', 'banana', 'banana', 'grape', 'kiwi', 'orange', 'pear']\n",
      "pear\n",
      "['apple', 'apple', 'banana', 'banana', 'grape', 'kiwi', 'orange']\n"
     ]
    }
   ],
   "source": [
    "fruits = ['orange', 'apple', 'pear', 'banana', 'kiwi', 'apple', 'banana']\n",
    "print(fruits)\n",
    "\n",
    "print(\"method : count()\")\n",
    "print(fruits.count('apple'))\n",
    "print(fruits.count('tangerine'))\n",
    "print(fruits)\n",
    "\n",
    "print(\"method : index()\")    \n",
    "print(fruits.index('banana'))\n",
    "print(fruits.index('banana', 4))  # Find next banana starting at position 4\n",
    "print(fruits)\n",
    "\n",
    "print(\"method : reverse()\")\n",
    "print(fruits.reverse())\n",
    "print(fruits) \n",
    "\n",
    "print(\"method : append()\")\n",
    "print(fruits.append('grape'))\n",
    "print(fruits) \n",
    "\n",
    "print(\"method : sort()\")\n",
    "print(fruits.sort())\n",
    "print(fruits) \n",
    "\n",
    "print(\"method : pop()\")\n",
    "print(fruits) \n",
    "print(fruits.pop())\n",
    "print(fruits) "
   ]
  },
  {
   "cell_type": "code",
   "execution_count": 50,
   "id": "c9c3c079-6ce9-4e83-b8f6-11d72b775780",
   "metadata": {},
   "outputs": [],
   "source": [
    "# You might have noticed that methods like insert, remove or sort that only modify the list have no return value printed – they return the default None.\n",
    "# This is a design principle for all mutable data structures in Python."
   ]
  },
  {
   "cell_type": "code",
   "execution_count": 51,
   "id": "1fad2bc2-4987-47d4-a8ee-a06c7f010a16",
   "metadata": {},
   "outputs": [
    {
     "name": "stdout",
     "output_type": "stream",
     "text": [
      "\n",
      "\n",
      "Using Lists as Stacks :\n",
      "\n",
      "The list methods make it very easy to use a list as a stack, where the last element added is the first element retrieved (“last-in, first-out”). \n",
      "To add an item to the top of the stack, use append(). \n",
      "To retrieve an item from the top of the stack, use pop() without an explicit index. \n",
      "\n",
      "\n"
     ]
    }
   ],
   "source": [
    "print('''\n",
    "\n",
    "Using Lists as Stacks :\n",
    "\n",
    "The list methods make it very easy to use a list as a stack, where the last element added is the first element retrieved (“last-in, first-out”). \n",
    "To add an item to the top of the stack, use append(). \n",
    "To retrieve an item from the top of the stack, use pop() without an explicit index. \n",
    "\n",
    "''')"
   ]
  },
  {
   "cell_type": "code",
   "execution_count": 52,
   "id": "37820e16-cb44-4202-ae39-ce9eca5a1d1b",
   "metadata": {},
   "outputs": [
    {
     "name": "stdout",
     "output_type": "stream",
     "text": [
      "[3, 4, 5, 6]\n",
      "[3, 4, 5, 6, 7]\n",
      "[3, 4, 5, 6]\n",
      "[3, 4, 5]\n",
      "[3, 4]\n"
     ]
    }
   ],
   "source": [
    "stack = [3, 4, 5]\n",
    "stack.append(6)\n",
    "print(stack)\n",
    "stack.append(7)\n",
    "print(stack)\n",
    "stack.pop()\n",
    "print(stack)\n",
    "stack.pop()\n",
    "print(stack)\n",
    "stack.pop()\n",
    "print(stack)"
   ]
  },
  {
   "cell_type": "code",
   "execution_count": 53,
   "id": "e475698a-b2b6-486f-a4ea-89196352c31d",
   "metadata": {},
   "outputs": [
    {
     "name": "stdout",
     "output_type": "stream",
     "text": [
      "\n",
      "\n",
      "Using Lists as Queues :\n",
      "\n",
      "It is also possible to use a list as a queue, where the first element added is the first element retrieved (“first-in, first-out”); \n",
      "however, lists are not efficient for this purpose. \n",
      "\n",
      "While appends and pops from the end of list are fast, doing inserts or pops from the beginning of a list is slow \n",
      "(because all of the other elements have to be shifted by one).\n",
      "\n",
      "\n"
     ]
    }
   ],
   "source": [
    "print('''\n",
    "\n",
    "Using Lists as Queues :\n",
    "\n",
    "It is also possible to use a list as a queue, where the first element added is the first element retrieved (“first-in, first-out”); \n",
    "however, lists are not efficient for this purpose. \n",
    "\n",
    "While appends and pops from the end of list are fast, doing inserts or pops from the beginning of a list is slow \n",
    "(because all of the other elements have to be shifted by one).\n",
    "\n",
    "''')"
   ]
  },
  {
   "cell_type": "code",
   "execution_count": 54,
   "id": "b8ca2f9f-8398-48d6-a404-43b2098889ea",
   "metadata": {},
   "outputs": [
    {
     "name": "stdout",
     "output_type": "stream",
     "text": [
      "deque(['Eric', 'John', 'Michael', 'Terry'])\n",
      "deque(['Eric', 'John', 'Michael', 'Terry', 'Graham'])\n",
      "Eric\n",
      "deque(['John', 'Michael', 'Terry', 'Graham'])\n",
      "John\n",
      "deque(['Michael', 'Terry', 'Graham'])\n"
     ]
    }
   ],
   "source": [
    "from collections import deque\n",
    "\n",
    "queue = deque([\"Eric\", \"John\", \"Michael\"])\n",
    "queue.append(\"Terry\")                  # Terry arrives\n",
    "print(queue)\n",
    "queue.append(\"Graham\")                 # Graham arrives\n",
    "print(queue)\n",
    "print(queue.popleft())                 # The first to arrive now leaves\n",
    "print(queue)\n",
    "print(queue.popleft())                        # The second to arrive now leaves\n",
    "print(queue)                           # Remaining queue in order of arrival"
   ]
  },
  {
   "cell_type": "code",
   "execution_count": null,
   "id": "75ae773a-690e-459a-9b14-385c8ae90c72",
   "metadata": {},
   "outputs": [],
   "source": []
  },
  {
   "cell_type": "code",
   "execution_count": 55,
   "id": "e51a4f72-d300-4566-a9f1-dda7db009c68",
   "metadata": {},
   "outputs": [
    {
     "name": "stdout",
     "output_type": "stream",
     "text": [
      "\n",
      "\n",
      "How Python Handles Function Arguments :\n",
      "\n",
      "In Python, function arguments are passed by object reference, which means Python uses pass-by-object-reference \n",
      "(also sometimes called pass-by-assignment). \n",
      "This is a mix of pass-by-value and pass-by-reference, depending on the type of object being passed.\n",
      "\n",
      "\n",
      "Immutable objects (e.g., int, float, str, tuple):\n",
      "\n",
      "Passed by value (effectively).\n",
      "Changes to the parameter inside the function do not affect the original variable.\n",
      "\n",
      "Mutable objects (e.g., list, dict, set):\n",
      "\n",
      "Passed by reference (effectively).\n",
      "Changes to the object inside the function affect the original variable.\n",
      "\n",
      "\n"
     ]
    }
   ],
   "source": [
    "print('''\n",
    "\n",
    "How Python Handles Function Arguments :\n",
    "\n",
    "In Python, function arguments are passed by object reference, which means Python uses pass-by-object-reference \n",
    "(also sometimes called pass-by-assignment). \n",
    "This is a mix of pass-by-value and pass-by-reference, depending on the type of object being passed.\n",
    "\n",
    "\n",
    "Immutable objects (e.g., int, float, str, tuple):\n",
    "\n",
    "Passed by value (effectively).\n",
    "Changes to the parameter inside the function do not affect the original variable.\n",
    "\n",
    "Mutable objects (e.g., list, dict, set):\n",
    "\n",
    "Passed by reference (effectively).\n",
    "Changes to the object inside the function affect the original variable.\n",
    "\n",
    "''')"
   ]
  },
  {
   "cell_type": "code",
   "execution_count": 56,
   "id": "1b7c65c7-cacb-4ef3-ba25-edd36efb84a3",
   "metadata": {},
   "outputs": [
    {
     "name": "stdout",
     "output_type": "stream",
     "text": [
      "Inside function: 10\n",
      "Outside function: 5\n"
     ]
    }
   ],
   "source": [
    "# Examples\n",
    "# Immutable Object (Pass-by-Value)\n",
    "def modify(x):\n",
    "    x = 10  # Assigning a new value creates a new local variable\n",
    "    print(\"Inside function:\", x)\n",
    "\n",
    "num = 5\n",
    "modify(num)\n",
    "print(\"Outside function:\", num)\n",
    "\n",
    "# num remains 5 because integers are immutable, and x = 10 creates a new local variable inside the function."
   ]
  },
  {
   "cell_type": "code",
   "execution_count": 57,
   "id": "ab6d47fc-6ea8-4bac-9fc1-7ad217063343",
   "metadata": {},
   "outputs": [
    {
     "name": "stdout",
     "output_type": "stream",
     "text": [
      "[1, 2, 3, 4]\n"
     ]
    }
   ],
   "source": [
    "# Examples\n",
    "# Mutable Object (Pass-by-Reference)\n",
    "\n",
    "def modify_list(lst):\n",
    "    lst.append(4)  # Modifying the list directly\n",
    "\n",
    "my_list = [1, 2, 3]\n",
    "modify_list(my_list)\n",
    "print(my_list)"
   ]
  },
  {
   "cell_type": "code",
   "execution_count": 58,
   "id": "4953f95b-80bd-495e-af52-584cd6603a44",
   "metadata": {},
   "outputs": [
    {
     "name": "stdout",
     "output_type": "stream",
     "text": [
      "\n",
      "\n",
      "Immutable types (e.g., int, str, tuple) behave like pass-by-value because reassigning a new value creates a new object.\n",
      "Mutable types (e.g., list, dict, set) behave like pass-by-reference because modifying the object inside a function affects the original.\n",
      "\n",
      "\n"
     ]
    }
   ],
   "source": [
    "print('''\n",
    "\n",
    "Immutable types (e.g., int, str, tuple) behave like pass-by-value because reassigning a new value creates a new object.\n",
    "Mutable types (e.g., list, dict, set) behave like pass-by-reference because modifying the object inside a function affects the original.\n",
    "\n",
    "''')"
   ]
  },
  {
   "cell_type": "code",
   "execution_count": null,
   "id": "773238da-10d1-446e-a82f-564efc145db8",
   "metadata": {},
   "outputs": [],
   "source": []
  }
 ],
 "metadata": {
  "kernelspec": {
   "display_name": "Python 3 (ipykernel)",
   "language": "python",
   "name": "python3"
  },
  "language_info": {
   "codemirror_mode": {
    "name": "ipython",
    "version": 3
   },
   "file_extension": ".py",
   "mimetype": "text/x-python",
   "name": "python",
   "nbconvert_exporter": "python",
   "pygments_lexer": "ipython3",
   "version": "3.12.7"
  }
 },
 "nbformat": 4,
 "nbformat_minor": 5
}
