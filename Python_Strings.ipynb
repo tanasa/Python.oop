{
 "cells": [
  {
   "cell_type": "code",
   "execution_count": 1,
   "id": "9831e2cb-a686-47a1-986d-fc034019288a",
   "metadata": {},
   "outputs": [],
   "source": [
    "# https://www.geeksforgeeks.org/python-string/?ref=shm"
   ]
  },
  {
   "cell_type": "code",
   "execution_count": 2,
   "id": "29597709-efcd-4f60-96eb-13f37839fccc",
   "metadata": {},
   "outputs": [
    {
     "name": "stdout",
     "output_type": "stream",
     "text": [
      "Strings\n"
     ]
    }
   ],
   "source": [
    "print(\"Strings\")"
   ]
  },
  {
   "cell_type": "code",
   "execution_count": 3,
   "id": "daafdc3b-23ff-4d74-bbd1-047391594cab",
   "metadata": {},
   "outputs": [
    {
     "name": "stdout",
     "output_type": "stream",
     "text": [
      "f\n",
      "GfGG\n",
      "k\n",
      "G\n",
      "orl\n"
     ]
    }
   ],
   "source": [
    "# Python String :\n",
    "\n",
    "s = \"GfG\"\n",
    "\n",
    "print(s[1])   # access 2nd char\n",
    "s1 = s + s[0] # update\n",
    "print(s1)     # print\n",
    "\n",
    "# Negative indexing :\n",
    "\n",
    "s = \"GeeksforGeeks\"\n",
    "\n",
    "# Accesses 3rd character: 'k'\n",
    "print(s[-10])  \n",
    "\n",
    "# Accesses 5th character from end: 'G'\n",
    "print(s[-5]) \n",
    "\n",
    "b = \"Hello, World!\"\n",
    "print(b[-5:-2])"
   ]
  },
  {
   "cell_type": "code",
   "execution_count": 4,
   "id": "5added04-b418-4dc0-805f-c4e086fc31f5",
   "metadata": {},
   "outputs": [],
   "source": [
    "# Strings are indexed starting from 0 and -1 from end. This allows us to retrieve specific characters from the string."
   ]
  },
  {
   "cell_type": "code",
   "execution_count": 5,
   "id": "a10f7d22-5de2-48e5-8cf3-1f0ca6232483",
   "metadata": {},
   "outputs": [
    {
     "name": "stdout",
     "output_type": "stream",
     "text": [
      "eek\n",
      "Gee\n",
      "ksforGeeks\n",
      "skeeGrofskeeG\n"
     ]
    }
   ],
   "source": [
    "# String Slicing :\n",
    "# The syntax for slicing is string[start:end], where start starting index and end is stopping index (excluded).\n",
    "\n",
    "s = \"GeeksforGeeks\"\n",
    "\n",
    "# Retrieves characters from index 1 to 3: 'eek'\n",
    "print(s[1:4])  \n",
    "\n",
    "# Retrieves characters from beginning to index 2: 'Gee'\n",
    "print(s[:3])   \n",
    "\n",
    "# Retrieves characters from index 3 to the end: 'ksforGeeks'\n",
    "print(s[3:])   \n",
    "\n",
    "# Reverse a string\n",
    "print(s[::-1])"
   ]
  },
  {
   "cell_type": "code",
   "execution_count": 6,
   "id": "002bb067-edc8-417d-a6be-d636bc9301df",
   "metadata": {},
   "outputs": [
    {
     "name": "stdout",
     "output_type": "stream",
     "text": [
      "\n",
      "\n",
      "String Immutability\n",
      "\n",
      "Strings in Python are immutable. This means that they cannot be changed after they are created. \n",
      "If we need to manipulate strings then we can use methods like concatenation, slicing, or formatting to create new strings based on the original.\n",
      "\n",
      "\n"
     ]
    }
   ],
   "source": [
    "print('''\n",
    "\n",
    "String Immutability\n",
    "\n",
    "Strings in Python are immutable. This means that they cannot be changed after they are created. \n",
    "If we need to manipulate strings then we can use methods like concatenation, slicing, or formatting to create new strings based on the original.\n",
    "\n",
    "''')"
   ]
  },
  {
   "cell_type": "code",
   "execution_count": 7,
   "id": "3e44e13f-3904-439a-92a9-98d1e1efad8b",
   "metadata": {},
   "outputs": [
    {
     "name": "stdout",
     "output_type": "stream",
     "text": [
      "GeeksforGeeks\n"
     ]
    }
   ],
   "source": [
    "s = \"geeksforGeeks\"\n",
    "\n",
    "# Trying to change the first character raises an error\n",
    "# s[0] = 'I'  # Uncommenting this line will cause a TypeError\n",
    "\n",
    "# Instead, create a new string\n",
    "s = \"G\" + s[1:]\n",
    "print(s)"
   ]
  },
  {
   "cell_type": "code",
   "execution_count": 8,
   "id": "e85f5237-7c3c-4067-b61e-dd57c2f3dfc6",
   "metadata": {},
   "outputs": [
    {
     "name": "stdout",
     "output_type": "stream",
     "text": [
      "\n",
      "\n",
      "General Approach to Changing Characters in a String\n",
      "\n",
      "To change characters in a string, you need to:\n",
      "\n",
      "Convert the string into a list (since lists are mutable).\n",
      "Modify the desired character(s).\n",
      "Convert it back into a string.\n",
      "\n",
      "\n"
     ]
    }
   ],
   "source": [
    "print('''\n",
    "\n",
    "General Approach to Changing Characters in a String\n",
    "\n",
    "To change characters in a string, you need to:\n",
    "\n",
    "Convert the string into a list (since lists are mutable).\n",
    "Modify the desired character(s).\n",
    "Convert it back into a string.\n",
    "\n",
    "''')"
   ]
  },
  {
   "cell_type": "code",
   "execution_count": 9,
   "id": "b9bcfc60-e731-4cbb-8bb7-d8d8d3df8345",
   "metadata": {},
   "outputs": [
    {
     "name": "stdout",
     "output_type": "stream",
     "text": [
      "Multiple Characters Changing :\n",
      "['g', 'e', 'e', 'k', 's', 'f', 'o', 'r', 'G', 'e', 'e', 'k', 's']\n",
      "IeeksforGZeks\n"
     ]
    }
   ],
   "source": [
    "print(\"Multiple Characters Changing :\")\n",
    "\n",
    "s = \"geeksforGeeks\"\n",
    "\n",
    "# Convert string to a list\n",
    "s_list = list(s)\n",
    "print(s_list)\n",
    "\n",
    "# Modify characters (example: changing 'g' to 'I' and 'G' to 'Z')\n",
    "s_list[0] = 'I'   # Changing first letter\n",
    "s_list[9] = 'Z'   # Changing 'G' to 'Z'\n",
    "\n",
    "# Convert back to a string\n",
    "s = \"\".join(s_list)\n",
    "print(s)  # Output: \"IeeksforZeeks\""
   ]
  },
  {
   "cell_type": "code",
   "execution_count": 10,
   "id": "57e8be4e-6ca8-4973-8935-9f8850ae283f",
   "metadata": {},
   "outputs": [
    {
     "name": "stdout",
     "output_type": "stream",
     "text": [
      "Alternative: Using String Slicing (One Change at a Time) :\n",
      "IeeksforGeeks\n",
      "IeeksXorGeeks\n"
     ]
    }
   ],
   "source": [
    "print(\"Alternative: Using String Slicing (One Change at a Time) :\")\n",
    "\n",
    "# If you only need to modify a single character:\n",
    "s = \"geeksforGeeks\"\n",
    "\n",
    "# Change first character\n",
    "s = \"I\" + s[1:]\n",
    "print(s)  # Output: \"IeeksforGeeks\"\n",
    "\n",
    "# Change a character in the middle\n",
    "s = s[:5] + \"X\" + s[6:]\n",
    "print(s)  # Output: \"IeeksXorGeeks\""
   ]
  },
  {
   "cell_type": "code",
   "execution_count": 11,
   "id": "a76957de-7a83-4850-b286-ec816abcc707",
   "metadata": {},
   "outputs": [],
   "source": [
    "# Deleting a String\n",
    "\n",
    "# In Python, it is not possible to delete individual characters from a string since strings are immutable. \n",
    "# However, we can delete an entire string variable using the del keyword.\n",
    "\n",
    "s = \"GfG\"\n",
    "\n",
    "# Deletes entire string\n",
    "del s"
   ]
  },
  {
   "cell_type": "code",
   "execution_count": 12,
   "id": "d91a6a0f-e102-4469-9200-7121a3c5369a",
   "metadata": {},
   "outputs": [
    {
     "name": "stdout",
     "output_type": "stream",
     "text": [
      "\n",
      "Updating a String :\n",
      "\n",
      "To update a part of a string we need to create a new string since strings are immutable.\n",
      "\n",
      "s = \"hello geeks\"\n",
      "\n",
      "# Updating by creating a new string\n",
      "s1 = \"H\" + s[1:]\n",
      "\n",
      "# replacnig \"geeks\" with \"GeeksforGeeks\"\n",
      "s2 = s.replace(\"geeks\", \"GeeksforGeeks\")\n",
      "print(s1)\n",
      "print(s2)\n",
      "\n"
     ]
    }
   ],
   "source": [
    "print('''\n",
    "Updating a String :\n",
    "\n",
    "To update a part of a string we need to create a new string since strings are immutable.\n",
    "\n",
    "s = \"hello geeks\"\n",
    "\n",
    "# Updating by creating a new string\n",
    "s1 = \"H\" + s[1:]\n",
    "\n",
    "# replacnig \"geeks\" with \"GeeksforGeeks\"\n",
    "s2 = s.replace(\"geeks\", \"GeeksforGeeks\")\n",
    "print(s1)\n",
    "print(s2)\n",
    "''')"
   ]
  },
  {
   "cell_type": "code",
   "execution_count": 13,
   "id": "fcd7ad65-76b1-4e63-87a3-baebb9811c77",
   "metadata": {},
   "outputs": [
    {
     "name": "stdout",
     "output_type": "stream",
     "text": [
      "\n",
      "\n",
      "Common String Methods :\n",
      "\n",
      "len(s)\n",
      "s.upper()\n",
      "s.lower()\n",
      "\n",
      "s.strip()\n",
      "s.replace()\n",
      "\n",
      "\n"
     ]
    }
   ],
   "source": [
    "print('''\n",
    "\n",
    "Common String Methods :\n",
    "\n",
    "len(s)\n",
    "s.upper()\n",
    "s.lower()\n",
    "\n",
    "s.strip()\n",
    "s.replace()\n",
    "\n",
    "''')"
   ]
  },
  {
   "cell_type": "code",
   "execution_count": 14,
   "id": "9b6b64be-6656-4ad9-89c5-b63c7c6a3844",
   "metadata": {},
   "outputs": [
    {
     "name": "stdout",
     "output_type": "stream",
     "text": [
      "Gfg\n",
      "Python is awesome\n"
     ]
    }
   ],
   "source": [
    "s = \"   Gfg   \"\n",
    "\n",
    "# Removes spaces from both ends\n",
    "print(s.strip())    \n",
    "\n",
    "s = \"Python is fun\"\n",
    "\n",
    "# Replaces 'fun' with 'awesome'\n",
    "print(s.replace(\"fun\", \"awesome\"))  "
   ]
  },
  {
   "cell_type": "code",
   "execution_count": 15,
   "id": "28804c8e-eeba-4d90-ae69-7ef2e107fc6b",
   "metadata": {},
   "outputs": [
    {
     "name": "stdout",
     "output_type": "stream",
     "text": [
      " \n",
      "\n",
      "Concatenating and Repeating Strings :\n",
      "\n",
      "Strings can be combined by using + operator.\n",
      "We can repeat a string multiple times using * operator.\n",
      "\n"
     ]
    }
   ],
   "source": [
    "print(''' \n",
    "\n",
    "Concatenating and Repeating Strings :\n",
    "\n",
    "Strings can be combined by using + operator.\n",
    "We can repeat a string multiple times using * operator.\n",
    "''')"
   ]
  },
  {
   "cell_type": "code",
   "execution_count": 16,
   "id": "438d0be5-87c0-470d-aa5e-310a9a49661a",
   "metadata": {},
   "outputs": [
    {
     "name": "stdout",
     "output_type": "stream",
     "text": [
      "Formatting Strings : Using f-strings\n",
      "Name: Alice, Age: 22\n",
      "Formatting Strings : Using format() method.\n",
      "My name is Alice and I am 22 years old.\n"
     ]
    }
   ],
   "source": [
    "print('''Formatting Strings : Using f-strings''')\n",
    "\n",
    "name = \"Alice\"\n",
    "age = 22\n",
    "print(f\"Name: {name}, Age: {age}\")\n",
    "\n",
    "print('''Formatting Strings : Using format() method.''')\n",
    "\n",
    "s = \"My name is {} and I am {} years old.\".format(\"Alice\", 22)\n",
    "print(s)"
   ]
  },
  {
   "cell_type": "code",
   "execution_count": 17,
   "id": "5fb5c253-60f0-455e-8060-5ec5c8bc2f70",
   "metadata": {},
   "outputs": [
    {
     "name": "stdout",
     "output_type": "stream",
     "text": [
      "The price is 59.00 dollars\n",
      "The new price is 1180 dollars\n"
     ]
    }
   ],
   "source": [
    "# Add a placeholder for the price variable. \n",
    "# A placeholder can include a modifier to format the value.\n",
    "# A modifier is included by adding a colon : followed by a legal formatting type, \n",
    "# like .2f which means fixed point number with 2 decimals:\n",
    "\n",
    "price = 59\n",
    "txt = f\"The price is {price:.2f} dollars\"\n",
    "print(txt)\n",
    "\n",
    "txt = f\"The new price is {20 * 59} dollars\"\n",
    "print(txt)"
   ]
  },
  {
   "cell_type": "code",
   "execution_count": null,
   "id": "1ef79255-4587-412e-9eeb-e021ea0b56d1",
   "metadata": {},
   "outputs": [],
   "source": []
  },
  {
   "cell_type": "code",
   "execution_count": 18,
   "id": "c826aa26-dd89-4aef-8735-705b0b1dacbc",
   "metadata": {},
   "outputs": [
    {
     "name": "stdout",
     "output_type": "stream",
     "text": [
      " About r-strings : \n",
      "\n",
      "Raw strings, or r-strings, are prefixed with r or R (e.g., r\"string\"), and they treat backslashes (\\) as literal characters, \n",
      "rather than escape sequences.\n",
      "\n",
      "\n",
      "Hello\n",
      "World\n",
      "Hello\\nWorld\n",
      "Applications of r-strings : Regular expressions (regex)\n",
      "['12.50', '5.0']\n",
      "<re.Match object; span=(10, 21), match='123-45-6789'>\n",
      "123-45-6789\n"
     ]
    },
    {
     "name": "stderr",
     "output_type": "stream",
     "text": [
      "<>:1: SyntaxWarning: invalid escape sequence '\\)'\n",
      "<>:1: SyntaxWarning: invalid escape sequence '\\)'\n",
      "C:\\Users\\user\\AppData\\Local\\Temp\\ipykernel_23860\\3524911873.py:1: SyntaxWarning: invalid escape sequence '\\)'\n",
      "  print(''' About r-strings :\n"
     ]
    }
   ],
   "source": [
    "print(''' About r-strings : \n",
    "\n",
    "Raw strings, or r-strings, are prefixed with r or R (e.g., r\"string\"), and they treat backslashes (\\) as literal characters, \n",
    "rather than escape sequences.\n",
    "\n",
    "''')\n",
    "\n",
    "print(\"Hello\\nWorld\")  # Output: \n",
    "# Hello\n",
    "# World  (because \\n is interpreted as a newline)\n",
    "\n",
    "# But in raw strings, backslashes are treated literally:\n",
    "\n",
    "print(r\"Hello\\nWorld\")  # Output: Hello\\nWorld  (backslash remains)\n",
    "\n",
    "print(\"Applications of r-strings : Regular expressions (regex)\")\n",
    "\n",
    "# In regex, backslashes have special meanings, so using raw strings helps avoid unnecessary escaping.\n",
    "\n",
    "import re\n",
    "\n",
    "pattern = r\"\\d+\\.\\d+\"  # Matches decimal numbers\n",
    "result = re.findall(pattern, \"Price: 12.50, Discount: 5.0\")\n",
    "print(result)  # Output: ['12.50', '5.0']\n",
    "\n",
    "pattern = r\"\\d{3}-\\d{2}-\\d{4}\"  # Matches a Social Security Number format\n",
    "text = \"My SSN is 123-45-6789\"\n",
    "match = re.search(pattern, text)\n",
    "print(match)\n",
    "print(match.group())  # Output: 123-45-6789"
   ]
  },
  {
   "cell_type": "code",
   "execution_count": 19,
   "id": "71065b88-4b72-4a62-afe8-2c83b3636452",
   "metadata": {},
   "outputs": [
    {
     "name": "stdout",
     "output_type": "stream",
     "text": [
      " \n",
      "\n",
      "The Common String Methods in Python :\n",
      "\n",
      "upper(): Converts all characters in a string to uppercase.\n",
      "lower(): Converts all characters in a string to lowercase.\n",
      "find(substring): Returns the lowest index in the string where the substring is found.\n",
      "strip(): Removes any leading and trailing characters (space is the default).\n",
      "replace(old, new): Replaces occurrences of a substring within the string.\n",
      "split(delimiter): Splits the string at the specified delimiter and returns a list of substrings.\n",
      "join(iterable): Concatenates elements of an iterable with a specified separator.\n",
      "startswith(prefix): Checks if the string starts with the specified prefix.\n",
      "endswith(suffix): Checks if the string ends with the specified suffix.\n",
      "\n",
      "\n"
     ]
    }
   ],
   "source": [
    "print(''' \n",
    "\n",
    "The Common String Methods in Python :\n",
    "\n",
    "upper(): Converts all characters in a string to uppercase.\n",
    "lower(): Converts all characters in a string to lowercase.\n",
    "find(substring): Returns the lowest index in the string where the substring is found.\n",
    "strip(): Removes any leading and trailing characters (space is the default).\n",
    "replace(old, new): Replaces occurrences of a substring within the string.\n",
    "split(delimiter): Splits the string at the specified delimiter and returns a list of substrings.\n",
    "join(iterable): Concatenates elements of an iterable with a specified separator.\n",
    "startswith(prefix): Checks if the string starts with the specified prefix.\n",
    "endswith(suffix): Checks if the string ends with the specified suffix.\n",
    "\n",
    "''')"
   ]
  },
  {
   "cell_type": "code",
   "execution_count": 20,
   "id": "a0acff01-ce8a-4018-886d-add70065ab36",
   "metadata": {},
   "outputs": [
    {
     "name": "stdout",
     "output_type": "stream",
     "text": [
      "Strip Method\n",
      "Hello, World!\n",
      "Hello, World!\n"
     ]
    }
   ],
   "source": [
    "print(\"Strip Method\")\n",
    "\n",
    "text = \"   Hello, World!   \"\n",
    "stripped_text = text.strip()\n",
    "print(stripped_text)  # Output: \"Hello, World!\"\n",
    "\n",
    "# Removing specific characters\n",
    "text = \"###Hello, World!###\"\n",
    "stripped_text = text.strip(\"#\")\n",
    "print(stripped_text)  # Output: \"Hello, World!\""
   ]
  },
  {
   "cell_type": "code",
   "execution_count": 21,
   "id": "7d5573a6-1aa0-42c9-a78e-15842693d4b5",
   "metadata": {},
   "outputs": [
    {
     "name": "stdout",
     "output_type": "stream",
     "text": [
      "Replace Method\n",
      "Hello, Python!\n",
      "bonono\n",
      "Jello, World!\n"
     ]
    }
   ],
   "source": [
    "print(\"Replace Method\")\n",
    "\n",
    "# Replacing substrings\n",
    "text = \"Hello, World!\"\n",
    "replaced_text = text.replace(\"World\", \"Python\")\n",
    "print(replaced_text)  # Output: Hello, Python!\n",
    "\n",
    "# Replacing characters\n",
    "text = \"banana\"\n",
    "replaced_text = text.replace(\"a\", \"o\")\n",
    "print(replaced_text)  # Output: bonono\n",
    "\n",
    "a = \"Hello, World!\"\n",
    "print(a.replace(\"H\", \"J\"))"
   ]
  },
  {
   "cell_type": "code",
   "execution_count": 22,
   "id": "fe297892-6da2-4310-8baf-986af0bf66db",
   "metadata": {
    "scrolled": true
   },
   "outputs": [
    {
     "name": "stdout",
     "output_type": "stream",
     "text": [
      "Split Method\n",
      "['Hello', ' World!']\n",
      "['Hello, World!']\n"
     ]
    }
   ],
   "source": [
    "print(\"Split Method\")\n",
    "\n",
    "# The split() method splits the string into substrings if it finds instances of the separator:\n",
    "\n",
    "a = \"Hello, World!\"\n",
    "print(a.split(\",\")) # returns ['Hello', ' World!']\n",
    "\n",
    "a = \"Hello, World!\"\n",
    "print(a.split(\";\")) # returns ['Hello,  World!']"
   ]
  },
  {
   "cell_type": "code",
   "execution_count": 23,
   "id": "e2b227e3-99b5-49cf-b717-328c926e6ef5",
   "metadata": {
    "jupyter": {
     "source_hidden": true
    }
   },
   "outputs": [
    {
     "name": "stdout",
     "output_type": "stream",
     "text": [
      "Escape Sequences \n"
     ]
    }
   ],
   "source": [
    "print('''Escape Sequences ''')\n",
    "\n",
    "# \\'\tSingle Quote\t\n",
    "# \\\\\tBackslash\t\n",
    "# \\n\tNew Line\t\n",
    "# \\r\tCarriage Return\t\n",
    "# \\t\tTab\t\n",
    "# \\b\tBackspace\t\n",
    "# \\f\tForm Feed\t\n",
    "# \\ooo\tOctal value\t\n",
    "# \\xhh\tHex value"
   ]
  },
  {
   "cell_type": "code",
   "execution_count": 24,
   "id": "94b2e219-1a40-4219-b4a4-f6615041783a",
   "metadata": {
    "scrolled": true
   },
   "outputs": [
    {
     "name": "stdout",
     "output_type": "stream",
     "text": [
      " Join Method : \n",
      "\n",
      "The join() method in Python is used to concatenate a sequence of strings with a specified separator.\n",
      "separator.join(iterable)\n",
      "\n",
      "separator: The string used to join elements.\n",
      "iterable: A list, tuple, or any iterable containing strings.\n",
      "\n",
      "\n"
     ]
    }
   ],
   "source": [
    "print(''' Join Method : \n",
    "\n",
    "The join() method in Python is used to concatenate a sequence of strings with a specified separator.\n",
    "separator.join(iterable)\n",
    "\n",
    "separator: The string used to join elements.\n",
    "iterable: A list, tuple, or any iterable containing strings.\n",
    "\n",
    "''')"
   ]
  },
  {
   "cell_type": "code",
   "execution_count": 25,
   "id": "49733bdb-52ff-4ab7-bef4-4b218a5c506d",
   "metadata": {},
   "outputs": [
    {
     "name": "stdout",
     "output_type": "stream",
     "text": [
      "Hello World Python\n"
     ]
    }
   ],
   "source": [
    "words = [\"Hello\", \"World\", \"Python\"]\n",
    "sentence = \" \".join(words)  # Joins with a space\n",
    "print(sentence)"
   ]
  },
  {
   "cell_type": "code",
   "execution_count": 26,
   "id": "3df4ed5d-03d8-4a1a-9c53-52ff4a5d67ce",
   "metadata": {},
   "outputs": [
    {
     "name": "stdout",
     "output_type": "stream",
     "text": [
      "1, 2, 3, 4\n",
      "apple - banana - cherry\n"
     ]
    }
   ],
   "source": [
    "numbers = [\"1\", \"2\", \"3\", \"4\"]\n",
    "comma_separated = \", \".join(numbers)\n",
    "print(comma_separated)\n",
    "\n",
    "tuple_strings = (\"apple\", \"banana\", \"cherry\")\n",
    "result = \" - \".join(tuple_strings)\n",
    "print(result)"
   ]
  },
  {
   "cell_type": "code",
   "execution_count": 27,
   "id": "7de5021e-2d97-42ae-8554-81b0b2b19fe8",
   "metadata": {},
   "outputs": [
    {
     "name": "stdout",
     "output_type": "stream",
     "text": [
      "Python\n",
      "Line 1\n",
      "Line 2\n",
      "Line 3\n"
     ]
    }
   ],
   "source": [
    "letters = ['P', 'y', 't', 'h', 'o', 'n']\n",
    "word = \"\".join(letters)  # Joins with an empty separator (no spaces)\n",
    "print(word)\n",
    "\n",
    "lines = [\"Line 1\", \"Line 2\", \"Line 3\"]\n",
    "paragraph = \"\\n\".join(lines)\n",
    "print(paragraph)"
   ]
  },
  {
   "cell_type": "code",
   "execution_count": 28,
   "id": "627c7141-ab8c-42a2-9d86-93e2628d1582",
   "metadata": {},
   "outputs": [
    {
     "name": "stdout",
     "output_type": "stream",
     "text": [
      "1, 2, 3, 4\n"
     ]
    }
   ],
   "source": [
    "# Handling Non-String Elements (Convert to String First)\n",
    "# If the list contains non-string elements, convert them to strings first.\n",
    "\n",
    "mixed_list = [1, 2, 3, 4]\n",
    "result = \", \".join(map(str, mixed_list))  # Convert numbers to strings before joining\n",
    "print(result)"
   ]
  },
  {
   "cell_type": "code",
   "execution_count": null,
   "id": "5ab9597c-5a74-4c6b-9db0-5a1245f9cfc1",
   "metadata": {},
   "outputs": [],
   "source": []
  }
 ],
 "metadata": {
  "kernelspec": {
   "display_name": "Python 3 (ipykernel)",
   "language": "python",
   "name": "python3"
  },
  "language_info": {
   "codemirror_mode": {
    "name": "ipython",
    "version": 3
   },
   "file_extension": ".py",
   "mimetype": "text/x-python",
   "name": "python",
   "nbconvert_exporter": "python",
   "pygments_lexer": "ipython3",
   "version": "3.12.7"
  }
 },
 "nbformat": 4,
 "nbformat_minor": 5
}
