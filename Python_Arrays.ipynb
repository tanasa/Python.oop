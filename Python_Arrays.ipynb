{
 "cells": [
  {
   "cell_type": "code",
   "execution_count": 1,
   "id": "7973869f-c3ce-4582-9ff7-4451ce5c0a8d",
   "metadata": {},
   "outputs": [
    {
     "name": "stdout",
     "output_type": "stream",
     "text": [
      "Arrays\n"
     ]
    }
   ],
   "source": [
    "print(\"Arrays\")"
   ]
  },
  {
   "cell_type": "code",
   "execution_count": 2,
   "id": "b1f47ef3-14de-478e-b9aa-607e62e80d2a",
   "metadata": {},
   "outputs": [
    {
     "name": "stdout",
     "output_type": "stream",
     "text": [
      "\n",
      "\n",
      "Unlike Python lists (can store elements of mixed types), arrays must have all elements of same type. \n",
      "Having only homogeneous elements makes it memory-efficient.\n",
      "\n",
      "\n"
     ]
    }
   ],
   "source": [
    "print('''\n",
    "\n",
    "Unlike Python lists (can store elements of mixed types), arrays must have all elements of same type. \n",
    "Having only homogeneous elements makes it memory-efficient.\n",
    "\n",
    "''')\n",
    "\n",
    "# https://www.geeksforgeeks.org/python-arrays/"
   ]
  },
  {
   "cell_type": "code",
   "execution_count": 3,
   "id": "c0fdc8ed-491b-4db8-a361-6c8a1714137a",
   "metadata": {},
   "outputs": [],
   "source": [
    "cars = [\"Ford\", \"Volvo\", \"BMW\"]"
   ]
  },
  {
   "cell_type": "code",
   "execution_count": 4,
   "id": "c68979f8-3ccd-4323-9d06-2893631c1e0a",
   "metadata": {},
   "outputs": [
    {
     "name": "stdout",
     "output_type": "stream",
     "text": [
      "Ford\n",
      "['Toyota', 'Volvo', 'BMW']\n"
     ]
    }
   ],
   "source": [
    "x = cars[0]\n",
    "print(x)\n",
    "cars[0] = \"Toyota\"\n",
    "print(cars)"
   ]
  },
  {
   "cell_type": "code",
   "execution_count": 5,
   "id": "66e08d0b-0d3f-4692-8361-1e8a958eae4a",
   "metadata": {},
   "outputs": [
    {
     "name": "stdout",
     "output_type": "stream",
     "text": [
      "Toyota\n",
      "Volvo\n",
      "BMW\n"
     ]
    }
   ],
   "source": [
    "# Looping :\n",
    "for x in cars:\n",
    "  print(x)"
   ]
  },
  {
   "cell_type": "code",
   "execution_count": 6,
   "id": "13dbe757-9ad0-42a6-9793-a32ae7622f0f",
   "metadata": {},
   "outputs": [
    {
     "name": "stdout",
     "output_type": "stream",
     "text": [
      "['Toyota', 'Volvo', 'BMW', 'Dacia']\n",
      "['Toyota', 'BMW', 'Dacia']\n",
      "['BMW', 'Dacia']\n"
     ]
    }
   ],
   "source": [
    "# Adding elements:\n",
    "cars.append(\"Dacia\")\n",
    "print(cars) \n",
    "\n",
    "# Removing elements :\n",
    "cars.pop(1)       # to remove an element from the array\n",
    "print(cars)\n",
    "\n",
    "cars.remove(\"Toyota\")\n",
    "print(cars)"
   ]
  },
  {
   "cell_type": "code",
   "execution_count": 7,
   "id": "7e6d1b02-417a-44d5-86fe-01a8e707dbd0",
   "metadata": {},
   "outputs": [
    {
     "name": "stdout",
     "output_type": "stream",
     "text": [
      "\n",
      "\n",
      "append()\tAdds an element at the end of the list\n",
      "clear()\t    Removes all the elements from the list\n",
      "copy()\t    Returns a copy of the list\n",
      "count()\t    Returns the number of elements with the specified value\n",
      "extend()\tAdd the elements of a list (or any iterable), to the end of the current list\n",
      "index()\t    Returns the index of the first element with the specified value\n",
      "insert()\tAdds an element at the specified position\n",
      "pop()\t    Removes the element at the specified position\n",
      "remove()\tRemoves the first item with the specified value\n",
      "reverse()\tReverses the order of the list\n",
      "sort()\t    Sorts the list\n",
      "\n",
      "\n"
     ]
    }
   ],
   "source": [
    "print('''\n",
    "\n",
    "append()\tAdds an element at the end of the list\n",
    "clear()\t    Removes all the elements from the list\n",
    "copy()\t    Returns a copy of the list\n",
    "count()\t    Returns the number of elements with the specified value\n",
    "extend()\tAdd the elements of a list (or any iterable), to the end of the current list\n",
    "index()\t    Returns the index of the first element with the specified value\n",
    "insert()\tAdds an element at the specified position\n",
    "pop()\t    Removes the element at the specified position\n",
    "remove()\tRemoves the first item with the specified value\n",
    "reverse()\tReverses the order of the list\n",
    "sort()\t    Sorts the list\n",
    "\n",
    "''')"
   ]
  },
  {
   "cell_type": "code",
   "execution_count": 8,
   "id": "51ad4e51-94cb-40da-a747-b4e400bdeca3",
   "metadata": {},
   "outputs": [
    {
     "name": "stdout",
     "output_type": "stream",
     "text": [
      "\n",
      "\n",
      "NumPy Array : These arrays are designed for high-performance operations on large volumes of data and support multi-dimensional arrays and matrices. \n",
      "\n",
      "This makes them ideal for complex mathematical computations and large-scale data processing.\n",
      "\n",
      "NumPy arrays are stored more efficiently than Python lists and provide optimized performance for numerical operations.\n",
      "\n",
      "\n"
     ]
    }
   ],
   "source": [
    "print('''\n",
    "\n",
    "NumPy Array : These arrays are designed for high-performance operations on large volumes of data and support multi-dimensional arrays and matrices. \n",
    "\n",
    "This makes them ideal for complex mathematical computations and large-scale data processing.\n",
    "\n",
    "NumPy arrays are stored more efficiently than Python lists and provide optimized performance for numerical operations.\n",
    "\n",
    "''')"
   ]
  },
  {
   "cell_type": "code",
   "execution_count": 9,
   "id": "cc713a37-3f27-4f35-9b29-a6ea0243001f",
   "metadata": {},
   "outputs": [
    {
     "name": "stdout",
     "output_type": "stream",
     "text": [
      "[1 2 3 4]\n",
      "[2 4 6 8]\n",
      "[[2 4]\n",
      " [6 8]]\n"
     ]
    }
   ],
   "source": [
    "import numpy as np\n",
    "\n",
    "# Creating a NumPy array\n",
    "arr = np.array([1, 2, 3, 4])\n",
    "print(arr)\n",
    "\n",
    "# Element-wise operations\n",
    "print(arr * 2)  \n",
    "\n",
    "# Multi-dimensional array\n",
    "arr2d = np.array([[1, 2], [3, 4]])\n",
    "print(arr2d * 2)"
   ]
  },
  {
   "cell_type": "code",
   "execution_count": 10,
   "id": "d9292738-e52c-4ffa-badd-a19ee0a79844",
   "metadata": {},
   "outputs": [
    {
     "name": "stdout",
     "output_type": "stream",
     "text": [
      "\n",
      "\n",
      "The array module in Python provides a space-efficient way to store arrays of numeric values with a specific type constraint. \n",
      "Unlike Python lists, which can hold elements of different data types, array.array objects are more memory-efficient because \n",
      "they store only elements of a single data type.\n",
      "\n",
      "This creates an array of type 'i', which stands for a signed integer (typically 4 bytes in size, depending on the platform).\n",
      "\n",
      "\n"
     ]
    }
   ],
   "source": [
    "print('''\n",
    "\n",
    "The array module in Python provides a space-efficient way to store arrays of numeric values with a specific type constraint. \n",
    "Unlike Python lists, which can hold elements of different data types, array.array objects are more memory-efficient because \n",
    "they store only elements of a single data type.\n",
    "\n",
    "This creates an array of type 'i', which stands for a signed integer (typically 4 bytes in size, depending on the platform).\n",
    "\n",
    "''')"
   ]
  },
  {
   "cell_type": "code",
   "execution_count": 11,
   "id": "f8c2c46d-d04e-47b8-a4fe-955134dcd51a",
   "metadata": {},
   "outputs": [
    {
     "name": "stdout",
     "output_type": "stream",
     "text": [
      "1\n",
      "array('i', [1, 2, 3, 5])\n"
     ]
    }
   ],
   "source": [
    "import array as arr\n",
    "\n",
    "# creating array of integers\n",
    "a = arr.array('i', [1, 2, 3])\n",
    "\n",
    "# accessing First Araay\n",
    "print(a[0])\n",
    "\n",
    "# Adding element to array\n",
    "a.append(5)\n",
    "print(a)  "
   ]
  },
  {
   "cell_type": "code",
   "execution_count": 12,
   "id": "05e2f1b4-7bd9-4eae-b179-5a20615a6031",
   "metadata": {},
   "outputs": [
    {
     "name": "stdout",
     "output_type": "stream",
     "text": [
      "Integer Array before insertion: 1 2 3\n",
      "array('i', [1, 2, 3, 4])\n",
      "Integer Array after insertion: 1 4 2 3 4\n"
     ]
    }
   ],
   "source": [
    "# Adding elements to the array \n",
    "# append() is also used to add the value mentioned in its arguments at the end of the Python array.\n",
    "\n",
    "# The insert(index, value) method shifts elements to the right before inserting.\n",
    "# Using *a in print() unpacks the array, displaying elements without brackets.\n",
    "    \n",
    "import array as arr\n",
    "\n",
    "# Integer array example\n",
    "a = arr.array('i', [1, 2, 3])\n",
    "print(\"Integer Array before insertion:\", *a) # Using *a in print() unpacks the array, displaying elements without brackets\n",
    "\n",
    "a.append(4)\n",
    "print(a)  # Output: array('i', [1, 2, 3, 4])\n",
    "\n",
    "a.insert(1, 4)  # Insert 4 at index 1\n",
    "print(\"Integer Array after insertion:\", *a)  # Using *a in print() unpacks the array, displaying elements without brackets"
   ]
  },
  {
   "cell_type": "code",
   "execution_count": 13,
   "id": "d1587349-0b4f-4f6e-81b2-cd02f939025b",
   "metadata": {},
   "outputs": [],
   "source": [
    "# Removing elements from the array \n",
    "\n",
    "# pop() : By default it removes only the last element of the array. To remove element from a specific position, \n",
    "# index of that item is passed as an argument to pop() method."
   ]
  },
  {
   "cell_type": "code",
   "execution_count": 14,
   "id": "e0833ae8-0fbc-4341-af2e-4a98ef2b8780",
   "metadata": {},
   "outputs": [
    {
     "name": "stdout",
     "output_type": "stream",
     "text": [
      "array('i', [1, 2, 3, 1, 5])\n",
      "array('i', [2, 3, 1, 5])\n",
      "array('i', [2, 3, 5])\n"
     ]
    }
   ],
   "source": [
    "import array\n",
    "arr = array.array('i', [1, 2, 3, 1, 5])\n",
    "print(arr) \n",
    "\n",
    "# using remove() method to remove first occurance of 1\n",
    "arr.remove(1)\n",
    "print(arr)\n",
    "\n",
    "# pop() method - remove item at index 2\n",
    "arr.pop(2)\n",
    "print(arr)"
   ]
  },
  {
   "cell_type": "code",
   "execution_count": 15,
   "id": "e69ce49f-8751-474a-9990-44f0412a2f68",
   "metadata": {},
   "outputs": [
    {
     "name": "stdout",
     "output_type": "stream",
     "text": [
      "\n",
      "\n",
      "Elements from beginning to a range use [:Index]\n",
      "Elements from end use [:-Index]\n",
      "Elements from specific Index till the end use [Index:]\n",
      "Elements within a range, use [Start Index:End Index]\n",
      "Print complete List, use [:].\n",
      "For Reverse list, use [::-1].\n",
      "\n",
      "\n"
     ]
    }
   ],
   "source": [
    "# Slicing of an Array\n",
    "\n",
    "print('''\n",
    "\n",
    "Elements from beginning to a range use [:Index]\n",
    "Elements from end use [:-Index]\n",
    "Elements from specific Index till the end use [Index:]\n",
    "Elements within a range, use [Start Index:End Index]\n",
    "Print complete List, use [:].\n",
    "For Reverse list, use [::-1].\n",
    "\n",
    "''')"
   ]
  },
  {
   "cell_type": "code",
   "execution_count": 16,
   "id": "5339e4b8-f7f3-4c67-b2da-3e93acc3baac",
   "metadata": {},
   "outputs": [
    {
     "name": "stdout",
     "output_type": "stream",
     "text": [
      "array('i', [4, 5, 6, 7, 8])\n",
      "array('i', [6, 7, 8, 9, 10])\n",
      "array('i', [1, 2, 3, 4, 5, 6, 7, 8, 9, 10])\n"
     ]
    }
   ],
   "source": [
    "import array as arr\n",
    "\n",
    "l = [1, 2, 3, 4, 5, 6, 7, 8, 9, 10]\n",
    "\n",
    "a = arr.array('i', l)\n",
    "\n",
    "Sliced_array = a[3:8]\n",
    "print(Sliced_array)\n",
    "\n",
    "Sliced_array = a[5:]\n",
    "print(Sliced_array)\n",
    "\n",
    "Sliced_array = a[:]\n",
    "print(Sliced_array)"
   ]
  },
  {
   "cell_type": "code",
   "execution_count": 17,
   "id": "d1923144-a8c3-45cd-8d3e-623c7637993e",
   "metadata": {},
   "outputs": [
    {
     "name": "stdout",
     "output_type": "stream",
     "text": [
      "Searching Element in an Array\n"
     ]
    }
   ],
   "source": [
    "print(\"Searching Element in an Array\")"
   ]
  },
  {
   "cell_type": "code",
   "execution_count": 18,
   "id": "00f2e5cc-d661-44a7-b248-7a0ac75fd752",
   "metadata": {},
   "outputs": [
    {
     "name": "stdout",
     "output_type": "stream",
     "text": [
      "1\n",
      "0\n"
     ]
    }
   ],
   "source": [
    "# Searching Element in an Array\n",
    "\n",
    "# This function returns the index of the first occurrence of value mentioned in arguments.\n",
    "\n",
    "import array\n",
    "arr = array.array('i', [1, 2, 3, 1, 2, 5])\n",
    "\n",
    "# index of 1st occurrence of 2\n",
    "print(arr.index(2))\n",
    "\n",
    "# index of 1st occurrence of 1\n",
    "print(arr.index(1))"
   ]
  },
  {
   "cell_type": "code",
   "execution_count": 19,
   "id": "b2879c80-e727-4eb8-b871-4c5dd7e563e3",
   "metadata": {},
   "outputs": [
    {
     "name": "stdout",
     "output_type": "stream",
     "text": [
      "Updating Elements in an Array\n"
     ]
    }
   ],
   "source": [
    "print(\"Updating Elements in an Array\")"
   ]
  },
  {
   "cell_type": "code",
   "execution_count": 20,
   "id": "b0d5a68f-9748-4a2d-9071-048c3b4067e3",
   "metadata": {},
   "outputs": [
    {
     "name": "stdout",
     "output_type": "stream",
     "text": [
      "array('i', [1, 2, 3, 1, 2, 5])\n",
      "array('i', [1, 2, 6, 1, 2, 5])\n",
      "array('i', [1, 2, 6, 1, 8, 5])\n"
     ]
    }
   ],
   "source": [
    "# Updating Elements in an Array\n",
    "# In order to update an element in the array we simply reassign a new value to the desired index we want to update.\n",
    "\n",
    "import array\n",
    "arr = array.array('i', [1, 2, 3, 1, 2, 5])\n",
    "print(arr)\n",
    "\n",
    "# update item at index 2\n",
    "arr[2] = 6\n",
    "print(arr)\n",
    "\n",
    "# update item at index 4\n",
    "arr[4] = 8\n",
    "print(arr)"
   ]
  },
  {
   "cell_type": "code",
   "execution_count": 21,
   "id": "65517465-66dd-4a29-ace1-fb313895d4af",
   "metadata": {},
   "outputs": [
    {
     "name": "stdout",
     "output_type": "stream",
     "text": [
      "Counting Elements in an Array\n"
     ]
    }
   ],
   "source": [
    "print(\"Counting Elements in an Array\")"
   ]
  },
  {
   "cell_type": "code",
   "execution_count": 22,
   "id": "f3b1e9ff-19f2-43bf-974e-71315dee52c2",
   "metadata": {},
   "outputs": [
    {
     "name": "stdout",
     "output_type": "stream",
     "text": [
      "Number of occurrences of 2: 3\n"
     ]
    }
   ],
   "source": [
    "# Counting Elements in an Array\n",
    "# We can use count() method to count given item in array.\n",
    "\n",
    "import array\n",
    "\n",
    "arr = array.array('i', [1, 2, 3, 4, 2, 5, 2])\n",
    "count = arr.count(2)\n",
    "\n",
    "print(\"Number of occurrences of 2:\", count) "
   ]
  },
  {
   "cell_type": "code",
   "execution_count": 23,
   "id": "74dc99ad-dc8a-42df-aae6-f7449456622a",
   "metadata": {},
   "outputs": [
    {
     "name": "stdout",
     "output_type": "stream",
     "text": [
      "Reversing Elements in an Array\n"
     ]
    }
   ],
   "source": [
    "print(\"Reversing Elements in an Array\")"
   ]
  },
  {
   "cell_type": "code",
   "execution_count": 24,
   "id": "b10e846e-da9c-43ce-9cb2-76d3acd217a1",
   "metadata": {},
   "outputs": [
    {
     "name": "stdout",
     "output_type": "stream",
     "text": [
      "Reversed array: 5 4 3 2 1\n"
     ]
    }
   ],
   "source": [
    "# Reversing Elements in an Array\n",
    "# In order to reverse elements of an array we need to simply use reverse method.\n",
    "\n",
    "import array\n",
    "arr = array.array('i', [1, 2, 3, 4, 5])\n",
    "\n",
    "arr.reverse()\n",
    "print(\"Reversed array:\", *arr)"
   ]
  },
  {
   "cell_type": "code",
   "execution_count": 25,
   "id": "f226d09f-5cb6-44a2-97a7-35042571d56b",
   "metadata": {},
   "outputs": [
    {
     "name": "stdout",
     "output_type": "stream",
     "text": [
      "Extend Element from Array\n"
     ]
    }
   ],
   "source": [
    "print(\"Extend Element from Array\")"
   ]
  },
  {
   "cell_type": "code",
   "execution_count": 26,
   "id": "a6db0b4b-f173-477a-a1b4-fbcb959f8d3a",
   "metadata": {},
   "outputs": [
    {
     "name": "stdout",
     "output_type": "stream",
     "text": [
      "array('i', [1, 2, 3, 4, 5, 6, 7, 8, 9, 10])\n"
     ]
    }
   ],
   "source": [
    "# extend() is used to add an array of values to the end of a given or existing array.\n",
    "# list.extend(iterable)\n",
    "\n",
    "import array as arr \n",
    "a = arr.array('i', [1, 2, 3,4,5])\n",
    "\n",
    "# using extend() method\n",
    "a.extend([6,7,8,9,10])\n",
    "print(a)"
   ]
  },
  {
   "cell_type": "code",
   "execution_count": 27,
   "id": "fdacfbca-f4cb-4743-bf91-581bda9691b6",
   "metadata": {},
   "outputs": [
    {
     "name": "stdout",
     "output_type": "stream",
     "text": [
      "1. Array of Floats\n",
      "array('f', [1.100000023841858, 2.200000047683716, 3.299999952316284])\n",
      "['1.10', '2.20', '3.30']\n"
     ]
    }
   ],
   "source": [
    "print(\"1. Array of Floats\")\n",
    "\n",
    "import array\n",
    "\n",
    "float_array = array.array('f', [1.1, 2.2, 3.3])  # 'f' stands for float (4 bytes per element)\n",
    "print(float_array)                               # Output: array('f', [1.1, 2.2, 3.3])\n",
    "\n",
    "# Why Do Floats Show Extra Decimal Places?\n",
    "\n",
    "# Floats in Python (and in most programming languages) are represented using IEEE 754 floating-point arithmetic, which can cause small precision errors. \n",
    "# This is because some decimal numbers (like 1.1) cannot be represented exactly in binary.\n",
    "\n",
    "# For example, 1.1 in binary is actually stored as something like: 1.10000002384185791015625\n",
    "\n",
    "\n",
    "# If you want to display only a few decimal places, you can use Python's format() function or an f-string:\n",
    "\n",
    "print([f\"{num:.2f}\" for num in float_array])  # Output: ['1.10', '2.20', '3.30']"
   ]
  },
  {
   "cell_type": "code",
   "execution_count": 28,
   "id": "9591962f-ba45-4cd7-a49a-c18837f95d4b",
   "metadata": {},
   "outputs": [
    {
     "name": "stdout",
     "output_type": "stream",
     "text": [
      "2. Array of Doubles\n",
      "array('d', [1.1, 2.2, 3.3])\n"
     ]
    }
   ],
   "source": [
    "# if you need higher precision and less rounding error, use double ('d') instead of float ('f'):\n",
    "\n",
    "print(\"2. Array of Doubles\")\n",
    "\n",
    "float_array = array.array('d', [1.1, 2.2, 3.3])  # 'd' stands for double (8 bytes per element)\n",
    "print(float_array)\n",
    "\n",
    "# This provides more precision, but will still have small floating-point errors."
   ]
  },
  {
   "cell_type": "code",
   "execution_count": 29,
   "id": "20526ce0-84b7-44a4-a51b-7857807673f1",
   "metadata": {},
   "outputs": [
    {
     "name": "stdout",
     "output_type": "stream",
     "text": [
      "\n",
      "\n",
      "How Floating-Point Numbers Are Stored\n",
      "\n",
      "A floating-point number is typically stored in three parts:\n",
      "\n",
      "Sign bit (1 bit) → Determines positive or negative.\n",
      "Exponent (8 bits for float, 11 bits for double) → Determines the scale of the number.\n",
      "Mantissa (Fraction) (23 bits for float, 52 bits for double) → Stores the significant digits.\n",
      "\n",
      "\n",
      "\n",
      "A 32-bit single-precision float (float) is stored as:\n",
      "\n",
      "SEEEEEEEE MMMMMMMMMMMMMMMMMMMMMMM\n",
      "S (1 bit) → Sign bit (0 = positive, 1 = negative)\n",
      "E (8 bits) → Exponent (biased by 127)\n",
      "M (23 bits) → Mantissa (fraction part)\n",
      "\n",
      "\")\n",
      "\n",
      "print(\"A 64-bit double-precision float (double) is stored as:\n",
      "\n",
      "SEEEEEEEEEEE MMMMMMMMMMMMMMMMMMMMMMMMMMMMMMMMMMMMMMMMMMMMMMMMMMMM\n",
      "S (1 bit) → Sign bit\n",
      "E (11 bits) → Exponent (biased by 1023)\n",
      "M (52 bits) → Mantissa\"\n",
      "\n",
      "\n",
      "\n",
      "\n",
      "Exponent determines scaling (powers of 2).\n",
      "Mantissa determines precision (fractional part).\n",
      "Small rounding errors occur because some decimal numbers cannot be exactly represented in binary.\n",
      "\n",
      "\n"
     ]
    }
   ],
   "source": [
    "print('''\n",
    "\n",
    "How Floating-Point Numbers Are Stored\n",
    "\n",
    "A floating-point number is typically stored in three parts:\n",
    "\n",
    "Sign bit (1 bit) → Determines positive or negative.\n",
    "Exponent (8 bits for float, 11 bits for double) → Determines the scale of the number.\n",
    "Mantissa (Fraction) (23 bits for float, 52 bits for double) → Stores the significant digits.\n",
    "\n",
    "''')\n",
    "\n",
    "print('''\n",
    "A 32-bit single-precision float (float) is stored as:\n",
    "\n",
    "SEEEEEEEE MMMMMMMMMMMMMMMMMMMMMMM\n",
    "S (1 bit) → Sign bit (0 = positive, 1 = negative)\n",
    "E (8 bits) → Exponent (biased by 127)\n",
    "M (23 bits) → Mantissa (fraction part)\n",
    "\n",
    "\")\n",
    "\n",
    "print(\"A 64-bit double-precision float (double) is stored as:\n",
    "\n",
    "SEEEEEEEEEEE MMMMMMMMMMMMMMMMMMMMMMMMMMMMMMMMMMMMMMMMMMMMMMMMMMMM\n",
    "S (1 bit) → Sign bit\n",
    "E (11 bits) → Exponent (biased by 1023)\n",
    "M (52 bits) → Mantissa\"\n",
    "\n",
    "''')\n",
    "\n",
    "# TBC \n",
    "\n",
    "print('''\n",
    "\n",
    "Exponent determines scaling (powers of 2).\n",
    "Mantissa determines precision (fractional part).\n",
    "Small rounding errors occur because some decimal numbers cannot be exactly represented in binary.\n",
    "\n",
    "''')"
   ]
  },
  {
   "cell_type": "code",
   "execution_count": 30,
   "id": "6d05544b-b370-4423-80d0-949749571e63",
   "metadata": {},
   "outputs": [
    {
     "name": "stdout",
     "output_type": "stream",
     "text": [
      "Character Array: array('u', 'abcde')\n",
      "First character: a\n",
      "Modified Array: array('u', 'azcde')\n",
      "Array after appending: array('u', 'azcdef')\n"
     ]
    }
   ],
   "source": [
    "#  Array of Characters Using array library ?\n",
    "\n",
    "# The array module in Python does not support character (char) arrays directly because it is designed for numeric types. \n",
    "# However, you can create an array of Unicode characters using the 'u' type code.\n",
    "# 'u' → Stands for Unicode character (since Python 3, all strings are Unicode).\n",
    "\n",
    "import array\n",
    "\n",
    "# Creating an array of Unicode characters\n",
    "char_array = array.array('u', ['a', 'b', 'c', 'd', 'e'])\n",
    "\n",
    "# Printing the character array\n",
    "print(\"Character Array:\", char_array)\n",
    "\n",
    "# Accessing elements\n",
    "print(\"First character:\", char_array[0])\n",
    "\n",
    "# Modifying an element\n",
    "char_array[1] = 'z'\n",
    "print(\"Modified Array:\", char_array)\n",
    "\n",
    "# Appending a new character\n",
    "char_array.append('f')\n",
    "print(\"Array after appending:\", char_array)"
   ]
  },
  {
   "cell_type": "code",
   "execution_count": 31,
   "id": "0cca47e8-f19f-4019-bc04-f7294f56b3f5",
   "metadata": {},
   "outputs": [
    {
     "name": "stdout",
     "output_type": "stream",
     "text": [
      "The built-in array module only supports numeric types, so you will need to use NumPy or a list to store these complex data structures.\n"
     ]
    }
   ],
   "source": [
    "print(\"The built-in array module only supports numeric types, so you will need to use NumPy or a list to store these complex data structures.\")"
   ]
  },
  {
   "cell_type": "code",
   "execution_count": 32,
   "id": "246b2d89-7fd7-4f2d-8c76-ab061b35e51d",
   "metadata": {},
   "outputs": [
    {
     "name": "stdout",
     "output_type": "stream",
     "text": [
      "\n",
      "\n",
      "Python array Module :\n",
      "\n",
      "Python array module allows us to create an array with constraint on the data types. \n",
      "There are only a few data types supported by this module.\n",
      "\n",
      "Python Array Supported Type Code\n",
      "\n",
      "‘b’ \n",
      "‘B’ \n",
      "‘u’ \n",
      "‘h’ \n",
      "‘H’ \n",
      "‘i’ \n",
      "‘I’ \n",
      "‘l’ \n",
      "‘L’ \n",
      "‘q’ \n",
      "‘Q’ \n",
      "‘f’ \n",
      "‘d’ \n",
      "\n",
      "C Type\n",
      "\n",
      "signed char\n",
      "unsigned char\n",
      "Py_UNICODE\n",
      "signed short\n",
      "unsigned short\n",
      "signed int\n",
      "unsigned int\n",
      "signed long\n",
      "unsigned long\n",
      "signed long long\n",
      "unsigned long long\n",
      "float\n",
      "double\n",
      "\n",
      "Python Type\n",
      "\n",
      "int\n",
      "int\n",
      "Unicode character\n",
      "int\n",
      "int\n",
      "int\n",
      "int\n",
      "int\n",
      "int\n",
      "int\n",
      "int\n",
      "float\n",
      "float\n",
      "\n",
      "Minimum size in bytes\n",
      "1\n",
      "1\n",
      "2\n",
      "2\n",
      "2\n",
      "2\n",
      "2\n",
      "4\n",
      "4\n",
      "8\n",
      "8\n",
      "4\n",
      "8\n",
      "\n",
      "\n"
     ]
    }
   ],
   "source": [
    "print('''\n",
    "\n",
    "Python array Module :\n",
    "\n",
    "Python array module allows us to create an array with constraint on the data types. \n",
    "There are only a few data types supported by this module.\n",
    "\n",
    "Python Array Supported Type Code\n",
    "\n",
    "‘b’ \n",
    "‘B’ \n",
    "‘u’ \n",
    "‘h’ \n",
    "‘H’ \n",
    "‘i’ \n",
    "‘I’ \n",
    "‘l’ \n",
    "‘L’ \n",
    "‘q’ \n",
    "‘Q’ \n",
    "‘f’ \n",
    "‘d’ \n",
    "\n",
    "C Type\n",
    "\n",
    "signed char\n",
    "unsigned char\n",
    "Py_UNICODE\n",
    "signed short\n",
    "unsigned short\n",
    "signed int\n",
    "unsigned int\n",
    "signed long\n",
    "unsigned long\n",
    "signed long long\n",
    "unsigned long long\n",
    "float\n",
    "double\n",
    "\n",
    "Python Type\n",
    "\n",
    "int\n",
    "int\n",
    "Unicode character\n",
    "int\n",
    "int\n",
    "int\n",
    "int\n",
    "int\n",
    "int\n",
    "int\n",
    "int\n",
    "float\n",
    "float\n",
    "\n",
    "Minimum size in bytes\n",
    "1\n",
    "1\n",
    "2\n",
    "2\n",
    "2\n",
    "2\n",
    "2\n",
    "4\n",
    "4\n",
    "8\n",
    "8\n",
    "4\n",
    "8\n",
    "\n",
    "''')"
   ]
  },
  {
   "cell_type": "code",
   "execution_count": 33,
   "id": "8efbc927-5cde-46ca-998b-12329132432d",
   "metadata": {},
   "outputs": [
    {
     "name": "stdout",
     "output_type": "stream",
     "text": [
      "\n",
      "\n",
      "The array module in Python does not support arrays of strings because it is designed for storing only numeric types (such as integers and floats) \n",
      "and Unicode characters ('u' type).\n",
      "\n",
      "However, you can use a list to store an array of strings in Python.\n",
      "\n"
     ]
    }
   ],
   "source": [
    "print('''\n",
    "\n",
    "The array module in Python does not support arrays of strings because it is designed for storing only numeric types (such as integers and floats) \n",
    "and Unicode characters ('u' type).\n",
    "\n",
    "However, you can use a list to store an array of strings in Python.\n",
    "''')"
   ]
  },
  {
   "cell_type": "code",
   "execution_count": 34,
   "id": "c1cf1795-e886-41f3-840c-35996b2dd95a",
   "metadata": {},
   "outputs": [
    {
     "name": "stdout",
     "output_type": "stream",
     "text": [
      "NumPy String Array: ['apple' 'banana' 'cherry']\n"
     ]
    }
   ],
   "source": [
    "# However, we can use Numpy. If you need an array-like structure with better performance, use NumPy:\n",
    "\n",
    "import numpy as np\n",
    "\n",
    "string_array = np.array([\"apple\", \"banana\", \"cherry\"])\n",
    "\n",
    "print(\"NumPy String Array:\", string_array)"
   ]
  },
  {
   "cell_type": "code",
   "execution_count": 35,
   "id": "765b0978-ee8b-47b7-9f4a-299db41a2319",
   "metadata": {},
   "outputs": [
    {
     "name": "stdout",
     "output_type": "stream",
     "text": [
      "\n",
      "\n",
      "What is dtype=object in NumPy?\n",
      "\n",
      "In NumPy, dtype=object means that each element in the array is stored as a generic Python object, rather than a fixed-size numerical type \n",
      "(like int32, float64, etc.). This allows NumPy to store heterogeneous (different types) or complex objects, such as:\n",
      "\n",
      "Lists\n",
      "Dictionaries\n",
      "Tuples\n",
      "Sets\n",
      "Strings of varying lengths\n",
      "Other arbitrary Python objects\n",
      "\n",
      "\n"
     ]
    }
   ],
   "source": [
    "print('''\n",
    "\n",
    "What is dtype=object in NumPy?\n",
    "\n",
    "In NumPy, dtype=object means that each element in the array is stored as a generic Python object, rather than a fixed-size numerical type \n",
    "(like int32, float64, etc.). This allows NumPy to store heterogeneous (different types) or complex objects, such as:\n",
    "\n",
    "Lists\n",
    "Dictionaries\n",
    "Tuples\n",
    "Sets\n",
    "Strings of varying lengths\n",
    "Other arbitrary Python objects\n",
    "\n",
    "''')"
   ]
  },
  {
   "cell_type": "code",
   "execution_count": 36,
   "id": "edba8d8a-8f83-439a-9124-ab03f3bcaf52",
   "metadata": {},
   "outputs": [
    {
     "name": "stdout",
     "output_type": "stream",
     "text": [
      "\n",
      "\n",
      "1. Numpy Array of Lists\n",
      "\n",
      "You can store lists inside a NumPy array, but the dtype will be object\n",
      "\n",
      "\n",
      "Array of Lists: [list([1, 2, 3]) list([4, 5]) list([6, 7, 8])]\n",
      "First list: [1, 2, 3]\n"
     ]
    }
   ],
   "source": [
    "print('''\n",
    "\n",
    "1. Numpy Array of Lists\n",
    "\n",
    "You can store lists inside a NumPy array, but the dtype will be object\n",
    "\n",
    "''')\n",
    "\n",
    "import numpy as np\n",
    "\n",
    "# Explicitly specify dtype=object to allow lists of different lengths\n",
    "array_of_lists = np.array([[1, 2, 3], [4, 5], [6, 7, 8]], dtype=object)\n",
    "\n",
    "print(\"Array of Lists:\", array_of_lists)\n",
    "print(\"First list:\", array_of_lists[0])\n",
    "\n",
    "# 📌 Note: NumPy does not enforce the same size for inner lists when using dtype=object, unlike its usual behavior for numeric arrays."
   ]
  },
  {
   "cell_type": "code",
   "execution_count": 37,
   "id": "858c5fec-c9d0-474b-a8a2-70f1472423c3",
   "metadata": {},
   "outputs": [
    {
     "name": "stdout",
     "output_type": "stream",
     "text": [
      "\n",
      "\n",
      "2. NumPy Array of Strings\n",
      "\n",
      "Yes! NumPy supports string arrays, but unlike regular Python lists, NumPy may require fixed-size strings for efficient memory storage.\n",
      "\n",
      "\n",
      "NumPy String Array: ['apple' 'banana' 'cherry']\n",
      "Data Type: <U6\n",
      "['short' 'veryve' 'tiny12']\n",
      "<U6\n",
      "\n",
      "\n",
      "If you need longer strings, specify the dtype explicitly\n",
      "\n",
      "\n",
      "['short' 'veryverylongword' 'tiny']\n",
      "<U20\n",
      "\n",
      "\n",
      "dtype (UXX)\tMax String Length\tUse Case\n",
      "U10\t10 characters\tShort names, product codes\n",
      "U20\t20 characters\tLonger names, common words\n",
      "U50\t50 characters\tAddresses, descriptions\n",
      "U100\t100 characters\tSentences, reviews\n",
      "\n",
      "\n"
     ]
    }
   ],
   "source": [
    "print('''\n",
    "\n",
    "2. NumPy Array of Strings\n",
    "\n",
    "Yes! NumPy supports string arrays, but unlike regular Python lists, NumPy may require fixed-size strings for efficient memory storage.\n",
    "\n",
    "''')\n",
    "\n",
    "import numpy as np\n",
    "\n",
    "# Creating an array of strings\n",
    "string_array = np.array([\"apple\", \"banana\", \"cherry\"])\n",
    "\n",
    "print(\"NumPy String Array:\", string_array)\n",
    "print(\"Data Type:\", string_array.dtype)\n",
    "\n",
    "string_array = np.array([\"short\", \"veryverylongword\", \"tiny123456789\"], dtype=\"U6\")\n",
    "print(string_array)\n",
    "print(string_array.dtype)\n",
    "\n",
    "print('''\n",
    "\n",
    "If you need longer strings, specify the dtype explicitly\n",
    "\n",
    "''')\n",
    "\n",
    "string_array = np.array([\"short\", \"veryverylongword\", \"tiny\"], dtype=\"U20\")\n",
    "print(string_array)\n",
    "print(string_array.dtype)\n",
    "\n",
    "print('''\n",
    "\n",
    "dtype (UXX)\tMax String Length\tUse Case\n",
    "U10\t10 characters\tShort names, product codes\n",
    "U20\t20 characters\tLonger names, common words\n",
    "U50\t50 characters\tAddresses, descriptions\n",
    "U100\t100 characters\tSentences, reviews\n",
    "\n",
    "''')"
   ]
  },
  {
   "cell_type": "code",
   "execution_count": 38,
   "id": "26fa0a3a-3a56-4d8d-9854-eea2c6462f83",
   "metadata": {},
   "outputs": [
    {
     "name": "stdout",
     "output_type": "stream",
     "text": [
      "\n",
      "\n",
      "The maximum value for UXX (Unicode string length) in NumPy depends on your system's memory and NumPy's internal handling of arrays.\n",
      "\n",
      "Technically, there is no fixed upper limit imposed by NumPy, but:\n",
      "\n",
      "The string length XX should be reasonable based on available memory.\n",
      "\n",
      "If XX is too large, the array may cause memory allocation errors.\n",
      "\n",
      "\n",
      "Memory Error: U1000000 is too large for your system.\n"
     ]
    }
   ],
   "source": [
    "print('''\n",
    "\n",
    "The maximum value for UXX (Unicode string length) in NumPy depends on your system's memory and NumPy's internal handling of arrays.\n",
    "\n",
    "Technically, there is no fixed upper limit imposed by NumPy, but:\n",
    "\n",
    "The string length XX should be reasonable based on available memory.\n",
    "\n",
    "If XX is too large, the array may cause memory allocation errors.\n",
    "\n",
    "''')\n",
    "\n",
    "# What Happens with a Large UXX?\n",
    "# Let's try a very large U1000000 (1 million characters per string):\n",
    "#\n",
    "\n",
    "import numpy as np\n",
    "\n",
    "# Create a NumPy array with a massive Unicode string length\n",
    "try:\n",
    "    large_string_array = np.array([\"hello\", \"world\"], dtype=\"U100000000000000\")\n",
    "    print(large_string_array.dtype)\n",
    "except MemoryError:\n",
    "    print(\"Memory Error: U1000000 is too large for your system.\")"
   ]
  },
  {
   "cell_type": "code",
   "execution_count": null,
   "id": "7ab07472-a54f-49a0-aa26-ed63dba563d7",
   "metadata": {},
   "outputs": [],
   "source": []
  },
  {
   "cell_type": "code",
   "execution_count": 39,
   "id": "b72eacb2-5b11-441b-add4-a9760a08eda7",
   "metadata": {},
   "outputs": [
    {
     "name": "stdout",
     "output_type": "stream",
     "text": [
      "\n",
      "\n",
      "3. NumPy Array of Lists of Strings\n",
      "\n",
      "\n",
      "Array of Lists of Strings: [list(['apple', 'banana', 'cherry']) list(['dog', 'elephant'])\n",
      " list(['fish', 'giraffe', 'hippo', 'iguana'])]\n",
      "First list: ['apple', 'banana', 'cherry']\n",
      "First element of first list: apple\n",
      "\n",
      "\n",
      "dtype=object ensures that each element in the NumPy array is a list of strings rather than trying to form a uniform matrix.\n",
      "\n",
      "Each element in the NumPy array is a Python list.\n",
      "You can access elements just like a normal list (array_of_lists[0] gives the first list).\n",
      "\n",
      "\n",
      "['apple', 'banana', 'cherry']\n",
      "dog\n",
      "elephant\n"
     ]
    }
   ],
   "source": [
    "print('''\n",
    "\n",
    "3. NumPy Array of Lists of Strings\n",
    "\n",
    "''')\n",
    "\n",
    "import numpy as np\n",
    "\n",
    "# Creating a NumPy array of lists of strings\n",
    "array_of_lists = np.array([\n",
    "    [\"apple\", \"banana\", \"cherry\"],\n",
    "    [\"dog\", \"elephant\"],\n",
    "    [\"fish\", \"giraffe\", \"hippo\", \"iguana\"]\n",
    "], dtype=object)\n",
    "\n",
    "print(\"Array of Lists of Strings:\", array_of_lists)\n",
    "print(\"First list:\", array_of_lists[0])\n",
    "print(\"First element of first list:\", array_of_lists[0][0])\n",
    "\n",
    "print('''\n",
    "\n",
    "dtype=object ensures that each element in the NumPy array is a list of strings rather than trying to form a uniform matrix.\n",
    "\n",
    "Each element in the NumPy array is a Python list.\n",
    "You can access elements just like a normal list (array_of_lists[0] gives the first list).\n",
    "\n",
    "''')\n",
    "\n",
    "print(array_of_lists[0]) \n",
    "print(array_of_lists[1][0]) \n",
    "print(array_of_lists[1][1]) "
   ]
  },
  {
   "cell_type": "code",
   "execution_count": null,
   "id": "37c97fe2-a3ec-4d12-95e7-1fcb186f1645",
   "metadata": {},
   "outputs": [],
   "source": []
  },
  {
   "cell_type": "code",
   "execution_count": 40,
   "id": "283beeab-3fde-46b0-bca8-a0666f863508",
   "metadata": {},
   "outputs": [
    {
     "name": "stdout",
     "output_type": "stream",
     "text": [
      "\n",
      "\n",
      "4. Array of Tuples :\n",
      "\n",
      "# Advantage: Tuples can be stored efficiently if all elements are of the same type.\n",
      "\n",
      "\n",
      "Array of Tuples: [[1 2]\n",
      " [3 4]\n",
      " [5 6]]\n",
      "First tuple: [1 2]\n",
      "Second tuple: [3 4]\n",
      "Second tuple first element: 3\n",
      "Second tuple second element: 4\n"
     ]
    }
   ],
   "source": [
    " print('''\n",
    "\n",
    "4. Array of Tuples :\n",
    "\n",
    "# Advantage: Tuples can be stored efficiently if all elements are of the same type.\n",
    "\n",
    "''')\n",
    "\n",
    "array_of_tuples = np.array([(1, 2), (3, 4), (5, 6)])\n",
    "print(\"Array of Tuples:\", array_of_tuples)\n",
    "\n",
    "print(\"First tuple:\", array_of_tuples[0])\n",
    "print(\"Second tuple:\", array_of_tuples[1])\n",
    "print(\"Second tuple first element:\", array_of_tuples[1][0])\n",
    "print(\"Second tuple second element:\", array_of_tuples[1][1])"
   ]
  },
  {
   "cell_type": "code",
   "execution_count": 41,
   "id": "e0852b80-1939-4602-a67f-72c18c5a7acc",
   "metadata": {},
   "outputs": [
    {
     "name": "stdout",
     "output_type": "stream",
     "text": [
      "\n",
      "\n",
      "5. Array of Dictionaries\n",
      "\n",
      "Since dictionaries are not numeric, NumPy will store them as objects:\n",
      "\n",
      "\n",
      "Array of Dictionaries: [{'name': 'Alice', 'age': 25} {'name': 'Bob', 'age': 30}]\n",
      "\n",
      "First dictionary: {'name': 'Alice', 'age': 25}\n",
      "Name of first person: Alice\n",
      "Age of first person: 25\n",
      "\n",
      "Second dictionary: {'name': 'Bob', 'age': 30}\n",
      "Name of second person: Bob\n",
      "Age of second person: 30\n",
      "\n",
      "\n",
      "The first dictionary: {'name': 'Alice', 'age': 25}\n",
      "\n",
      "the keys:\n",
      "dict_keys(['name', 'age'])\n",
      "\n",
      "the values:\n",
      "dict_values(['Alice', 25])\n",
      "First key in first dictionary: name\n",
      "First value in first dictionary: Alice\n",
      "\n",
      "Another way to write the code above\n",
      "First key in first dictionary: name\n",
      "First value in first dictionary: Alice\n",
      "\n",
      "\n",
      "iter(dict.items()) creates an iterator over the dictionary’s key-value pairs.\n",
      "next(iterator) returns the first key-value pair from the dictionary.\n",
      "\n",
      "\n",
      "<dict_itemiterator object at 0x00000262D51F7C40>\n",
      "name\n",
      "Alice\n"
     ]
    }
   ],
   "source": [
    "\n",
    "print('''\n",
    "\n",
    "5. Array of Dictionaries\n",
    "\n",
    "Since dictionaries are not numeric, NumPy will store them as objects:\n",
    "\n",
    "''')\n",
    "\n",
    "array_of_dicts = np.array([\n",
    "    {\"name\": \"Alice\", \"age\": 25},\n",
    "    {\"name\": \"Bob\", \"age\": 30}\n",
    "], dtype=object)\n",
    "\n",
    "\n",
    "# Printing the entire array\n",
    "print(\"Array of Dictionaries:\", array_of_dicts)\n",
    "\n",
    "# Accessing the first dictionary\n",
    "print(\"\\nFirst dictionary:\", array_of_dicts[0])\n",
    "\n",
    "# Accessing values of the first dictionary\n",
    "print(\"Name of first person:\", array_of_dicts[0][\"name\"])\n",
    "print(\"Age of first person:\", array_of_dicts[0][\"age\"])\n",
    "\n",
    "# Accessing the second dictionary\n",
    "print(\"\\nSecond dictionary:\", array_of_dicts[1])\n",
    "\n",
    "# Accessing values of the second dictionary\n",
    "print(\"Name of second person:\", array_of_dicts[1][\"name\"])\n",
    "print(\"Age of second person:\", array_of_dicts[1][\"age\"])\n",
    "\n",
    "# Warning: NumPy does not provide special dictionary operations; it's just storing them as generic Python objects.\n",
    "\n",
    "print(\"\\n\")\n",
    "\n",
    "# Get the first dictionary\n",
    "first_dict = array_of_dicts[0]\n",
    "print(\"The first dictionary:\", first_dict)\n",
    "\n",
    "print(\"\\nthe keys:\")\n",
    "print(first_dict.keys())\n",
    "print(\"\\nthe values:\")\n",
    "print(first_dict.values())\n",
    "\n",
    "# Get the first key dynamically\n",
    "first_key = list(first_dict.keys())[0]\n",
    "first_value = list(first_dict.values())[0]\n",
    "\n",
    "print(\"First key in first dictionary:\", first_key)\n",
    "print(\"First value in first dictionary:\", first_value)\n",
    "\n",
    "print(\"\\nAnother way to write the code above\")\n",
    "\n",
    "# Extract the first key and value dynamically\n",
    "first_key, first_value = next(iter(first_dict.items()))\n",
    "\n",
    "print(f\"First key in first dictionary: {first_key}\")\n",
    "print(f\"First value in first dictionary: {first_value}\")\n",
    "\n",
    "print('''\n",
    "\n",
    "iter(dict.items()) creates an iterator over the dictionary’s key-value pairs.\n",
    "next(iterator) returns the first key-value pair from the dictionary.\n",
    "\n",
    "''')\n",
    "\n",
    "iterator = iter(first_dict.items())\n",
    "print(iterator)\n",
    "\n",
    "first_key, first_value = next(iter(first_dict.items()))\n",
    "print(first_key)   # name\n",
    "print(first_value) # Alice"
   ]
  },
  {
   "cell_type": "code",
   "execution_count": 42,
   "id": "2d3b0319-a0ac-4e82-a349-169dfb3c3583",
   "metadata": {},
   "outputs": [
    {
     "name": "stdout",
     "output_type": "stream",
     "text": [
      "\n",
      "\n",
      "6. Array of Sets\n",
      "\n",
      "Since sets are unordered and mutable, NumPy treats them as generic objects (dtype=object).\n",
      "\n",
      "\n",
      "Array of Sets: [{1, 2, 3} {4, 5, 6} {8, 7}]\n",
      "First set: {1, 2, 3}\n"
     ]
    }
   ],
   "source": [
    "print('''\n",
    "\n",
    "6. Array of Sets\n",
    "\n",
    "Since sets are unordered and mutable, NumPy treats them as generic objects (dtype=object).\n",
    "\n",
    "''')\n",
    "\n",
    "array_of_sets = np.array([{1, 2, 3}, {4, 5, 6}, {7, 8}])\n",
    "print(\"Array of Sets:\", array_of_sets)\n",
    "print(\"First set:\", array_of_sets[0])\n",
    "\n",
    "# Notes about the sets \n",
    "# We cannot index sets directly like array_of_sets[0][0].\n",
    "# Accessing elements of a set using indexing is incorrect\n",
    "\n",
    "# Sets in Python are unordered collections, meaning {1, 2, 3}[0] is not valid.\n",
    "# You cannot access elements of a set using indexing (set[index]).\n",
    "\n",
    "# print(\"First set element:\", array_of_sets[0][0])  # ❌ This will cause an error\n",
    "# print(\"First set element:\", array_of_sets[0][1])  # ❌ This will cause an error"
   ]
  },
  {
   "cell_type": "code",
   "execution_count": 43,
   "id": "2ebec216-e4ca-4f08-bb9f-50cf0f300fec",
   "metadata": {},
   "outputs": [],
   "source": [
    "# We cannot index a set.\n",
    "# If you need indexing, convert sets to lists first.\n",
    "# NumPy is not the best choice for storing sets."
   ]
  },
  {
   "cell_type": "code",
   "execution_count": 44,
   "id": "5eada22a-bd32-4085-81aa-84ed671e99f2",
   "metadata": {},
   "outputs": [
    {
     "name": "stdout",
     "output_type": "stream",
     "text": [
      "Array of Sets: [list([1, 2, 3]) list([4, 5, 6]) list([8, 7])]\n",
      "First set: [1, 2, 3]\n",
      "First set element: 1\n",
      "First set element: 2\n",
      "Array of Sets: [{1, 2, 3}, {4, 5, 6}, {8, 7}]\n",
      "First set: {1, 2, 3}\n",
      "First set element: 1\n",
      "First set element: 2\n"
     ]
    }
   ],
   "source": [
    "# ✅ 1. Convert Sets to Lists Before Storing in NumPy Array\n",
    "# Since sets are unordered and not indexable, you can convert them into lists:\n",
    "\n",
    "import numpy as np\n",
    "\n",
    "array_of_sets = np.array([list({1, 2, 3}), list({4, 5, 6}), list({7, 8})], dtype=object)\n",
    "print(\"Array of Sets:\", array_of_sets)\n",
    "\n",
    "# dtype=object ensures NumPy treats it as an array of Python objects rather than trying to create a structured numerical array.\n",
    "# Without dtype=object, NumPy attempts to construct a uniform array, which fails due to different list lengths.\n",
    "\n",
    "print(\"First set:\", array_of_sets[0])\n",
    "print(\"First set element:\", array_of_sets[0][0])  # ✅ Works now\n",
    "print(\"First set element:\", array_of_sets[0][1])  # ✅ Works now\n",
    "\n",
    "# ✅ 2. Use a Python List Instead of a NumPy Array\n",
    "# Since you are working with sets, you don’t need NumPy. A simple list of sets is better:\n",
    "\n",
    "array_of_sets = [{1, 2, 3}, {4, 5, 6}, {7, 8}]\n",
    "print(\"Array of Sets:\", array_of_sets)\n",
    "\n",
    "# Get first set\n",
    "first_set = array_of_sets[0]\n",
    "print(\"First set:\", first_set)\n",
    "\n",
    "# Convert to list before accessing elements\n",
    "first_list = list(first_set)\n",
    "print(\"First set element:\", first_list[0])  # ✅ Works now\n",
    "print(\"First set element:\", first_list[1])  # ✅ Works now"
   ]
  },
  {
   "cell_type": "code",
   "execution_count": 45,
   "id": "5f1d3d3e-15c0-49e6-aa7c-f5d3c551dcaa",
   "metadata": {},
   "outputs": [
    {
     "name": "stdout",
     "output_type": "stream",
     "text": [
      "\n",
      "\n",
      "Working with Arrays in SciPy \n",
      "\n",
      "In SciPy, arrays are primarily handled using NumPy arrays (numpy.ndarray), as SciPy builds on NumPy for numerical computations. \n",
      "SciPy functions generally accept and return NumPy arrays.\n",
      "\n",
      "\n",
      "[1 2 3 4 5]\n",
      "[[-2.   1. ]\n",
      " [ 1.5 -0.5]]\n",
      "[-1.50000001]\n",
      "5.0\n"
     ]
    }
   ],
   "source": [
    "print('''\n",
    "\n",
    "Working with Arrays in SciPy \n",
    "\n",
    "In SciPy, arrays are primarily handled using NumPy arrays (numpy.ndarray), as SciPy builds on NumPy for numerical computations. \n",
    "SciPy functions generally accept and return NumPy arrays.\n",
    "\n",
    "''')\n",
    "\n",
    "# 1. Creating Arrays\n",
    "# Since SciPy relies on NumPy, you create arrays using NumPy functions:\n",
    "\n",
    "import numpy as np\n",
    "\n",
    "# Creating a NumPy array\n",
    "arr = np.array([1, 2, 3, 4, 5])\n",
    "print(arr)\n",
    "\n",
    "# 2. Using Arrays in SciPy\n",
    "# Many SciPy functions operate on NumPy arrays. For example:\n",
    "\n",
    "# Linear Algebra (scipy.linalg):\n",
    "\n",
    "from scipy.linalg import inv\n",
    "\n",
    "A = np.array([[1, 2], [3, 4]])\n",
    "A_inv = inv(A)  # Inverse of matrix A\n",
    "print(A_inv)\n",
    "\n",
    "# Optimization (scipy.optimize):\n",
    "\n",
    "from scipy.optimize import minimize\n",
    "\n",
    "def func(x):\n",
    "    return x**2 + 3*x + 2  # Example quadratic function\n",
    "\n",
    "result = minimize(func, x0=0)  # Minimizing the function starting at x=0\n",
    "print(result.x)\n",
    "\n",
    "# Interpolation (scipy.interpolate):\n",
    "\n",
    "from scipy.interpolate import interp1d\n",
    "\n",
    "x = np.array([0, 1, 2, 3, 4])\n",
    "y = np.array([0, 2, 4, 6, 8])\n",
    "f = interp1d(x, y)  # Linear interpolation\n",
    "\n",
    "print(f(2.5))  # Interpolating at x = 2.5"
   ]
  },
  {
   "cell_type": "code",
   "execution_count": 46,
   "id": "8db33806-c54c-4264-93f4-c7b01a9b8ab1",
   "metadata": {},
   "outputs": [
    {
     "name": "stdout",
     "output_type": "stream",
     "text": [
      "\n",
      "\n",
      "1. Sparse Matrices (scipy.sparse):\n",
      "\n",
      "from scipy.sparse import csr_matrix\n",
      "\n",
      "A = np.array([[0, 0, 1], [1, 0, 0], [0, 2, 0]])\n",
      "A_sparse = csr_matrix(A)  # Compressed Sparse Row format\n",
      "print(A_sparse)\n",
      "\n",
      "2. Masked Arrays (scipy.stats.mstats) (handling missing values):\n",
      "\n",
      "from scipy.stats.mstats import mquantiles\n",
      "\n",
      "data = np.array([1, 2, np.nan, 4, 5])\n",
      "masked_data = np.ma.masked_invalid(data)  # Mask NaN values\n",
      "print(mquantiles(masked_data))  # Compute quantiles while ignoring NaNs\n",
      "\n",
      "\n"
     ]
    }
   ],
   "source": [
    "print ('''\n",
    "\n",
    "1. Sparse Matrices (scipy.sparse):\n",
    "\n",
    "from scipy.sparse import csr_matrix\n",
    "\n",
    "A = np.array([[0, 0, 1], [1, 0, 0], [0, 2, 0]])\n",
    "A_sparse = csr_matrix(A)  # Compressed Sparse Row format\n",
    "print(A_sparse)\n",
    "\n",
    "2. Masked Arrays (scipy.stats.mstats) (handling missing values):\n",
    "\n",
    "from scipy.stats.mstats import mquantiles\n",
    "\n",
    "data = np.array([1, 2, np.nan, 4, 5])\n",
    "masked_data = np.ma.masked_invalid(data)  # Mask NaN values\n",
    "print(mquantiles(masked_data))  # Compute quantiles while ignoring NaNs\n",
    "\n",
    "''')"
   ]
  },
  {
   "cell_type": "code",
   "execution_count": 47,
   "id": "641e8555-3195-413a-9d24-1deb0c1f465b",
   "metadata": {},
   "outputs": [
    {
     "name": "stdout",
     "output_type": "stream",
     "text": [
      "The floating-point representation\n"
     ]
    }
   ],
   "source": [
    "print('''The floating-point representation''')"
   ]
  },
  {
   "cell_type": "code",
   "execution_count": 48,
   "id": "e30ba655-dc71-44d3-a04f-6035a67f0c80",
   "metadata": {},
   "outputs": [
    {
     "name": "stdout",
     "output_type": "stream",
     "text": [
      "\n",
      "\n",
      "How 5.75 is Stored in IEEE 754 Format (32-bit)\n",
      "\n",
      "Let's break down the floating-point representation of 5.75 in IEEE 754 single-precision format.\n",
      "\n",
      "Step 1: Convert to Binary\n",
      "\n",
      "The decimal number 5.75 can be written as:\n",
      "\n",
      "5.75 = 5 + 0.75\n",
      "\n",
      "Converting both parts to binary:\n",
      "\n",
      "5 in binary = 101\n",
      "0.75 in binary = 0.11 (since 0.75 = 0.5 + 0.25 → 0.11 in binary)\n",
      "So, 5.75 in binary is 101.11\n",
      "\n",
      "Step 2: Normalize into Scientific Notation\n",
      "We rewrite the number in the form:\n",
      "\n",
      "1.xxxxx × 2^y\n",
      "For 101.11, shift the decimal point left by 2 places:\n",
      "\n",
      "1.0111 × 2^2\n",
      "\n",
      "The mantissa is 0111\n",
      "The exponent is 2 (but it needs to be biased)\n",
      "\n",
      "Step 3: Encode the Sign, Exponent, and Mantissa\n",
      "\n",
      "Sign Bit (S): 0 (since the number is positive)\n",
      "Exponent (E): Stored with a bias of 127, so:\n",
      "\n",
      "Actual exponent = 2\n",
      "Stored exponent = 2 + 127 = 129\n",
      "129 in binary = 10000001\n",
      "\n",
      "Mantissa (M): The fractional part after 1. (drop the leading 1):\n",
      "\n",
      "01110000000000000000000  (23 bits)\n",
      "\n",
      "Final IEEE 754 Representation (Single Precision)\n",
      "\n",
      "0 10000001 01110000000000000000000\n",
      "0 → Positive\n",
      "\n",
      "10000001 → Exponent (129 in decimal)\n",
      "01110000000000000000000 → Mantissa\n",
      "\n",
      "Final Hexadecimal Representation :\n",
      "\n",
      "Converting 0100 0001 0111 0000 0000 0000 0000 0000 to hex gives :\n",
      "\n",
      "4    1    7    0    0    0    0    0\n",
      "\n",
      "that is : 0x41700000\n",
      "\n",
      "Final Answer\n",
      "\n",
      "Binary (IEEE 754 single-precision): 0 10000001 01110000000000000000000\n",
      "\n",
      "Hexadecimal representation: 0x41700000\n",
      "\n",
      "\n"
     ]
    }
   ],
   "source": [
    "print( '''\n",
    "\n",
    "How 5.75 is Stored in IEEE 754 Format (32-bit)\n",
    "\n",
    "Let's break down the floating-point representation of 5.75 in IEEE 754 single-precision format.\n",
    "\n",
    "Step 1: Convert to Binary\n",
    "\n",
    "The decimal number 5.75 can be written as:\n",
    "\n",
    "5.75 = 5 + 0.75\n",
    "\n",
    "Converting both parts to binary:\n",
    "\n",
    "5 in binary = 101\n",
    "0.75 in binary = 0.11 (since 0.75 = 0.5 + 0.25 → 0.11 in binary)\n",
    "So, 5.75 in binary is 101.11\n",
    "\n",
    "Step 2: Normalize into Scientific Notation\n",
    "We rewrite the number in the form:\n",
    "\n",
    "1.xxxxx × 2^y\n",
    "For 101.11, shift the decimal point left by 2 places:\n",
    "\n",
    "1.0111 × 2^2\n",
    "\n",
    "The mantissa is 0111\n",
    "The exponent is 2 (but it needs to be biased)\n",
    "\n",
    "Step 3: Encode the Sign, Exponent, and Mantissa\n",
    "\n",
    "Sign Bit (S): 0 (since the number is positive)\n",
    "Exponent (E): Stored with a bias of 127, so:\n",
    "\n",
    "Actual exponent = 2\n",
    "Stored exponent = 2 + 127 = 129\n",
    "129 in binary = 10000001\n",
    "\n",
    "Mantissa (M): The fractional part after 1. (drop the leading 1):\n",
    "\n",
    "01110000000000000000000  (23 bits)\n",
    "\n",
    "Final IEEE 754 Representation (Single Precision)\n",
    "\n",
    "0 10000001 01110000000000000000000\n",
    "0 → Positive\n",
    "\n",
    "10000001 → Exponent (129 in decimal)\n",
    "01110000000000000000000 → Mantissa\n",
    "\n",
    "Final Hexadecimal Representation :\n",
    "\n",
    "Converting 0100 0001 0111 0000 0000 0000 0000 0000 to hex gives :\n",
    "\n",
    "4    1    7    0    0    0    0    0\n",
    "\n",
    "that is : 0x41700000\n",
    "\n",
    "Final Answer\n",
    "\n",
    "Binary (IEEE 754 single-precision): 0 10000001 01110000000000000000000\n",
    "\n",
    "Hexadecimal representation: 0x41700000\n",
    "\n",
    "''')"
   ]
  },
  {
   "cell_type": "code",
   "execution_count": 49,
   "id": "b8282578-b12d-4716-b34f-7336c9893978",
   "metadata": {},
   "outputs": [
    {
     "name": "stdout",
     "output_type": "stream",
     "text": [
      "\n",
      "\n",
      "Exponent & Mantissa in Detail\n",
      "\n",
      "Exponent (E) \n",
      "\n",
      "The exponent determines the range of values.\n",
      "Instead of storing negative exponents, IEEE 754 uses a bias:\n",
      "\n",
      "For 32-bit float → Bias = 127\n",
      "For 64-bit double → Bias = 1023\n",
      "\n",
      "Stored Exponent = Actual Exponent + Bias\n",
      "\n",
      "Mantissa (Fraction) \n",
      "\n",
      "The mantissa stores the precision of the number.\n",
      "The leading 1 is always assumed in normalized numbers (called implicit leading bit).\n",
      "More bits in the mantissa → higher precision.\n",
      "\n",
      "\n"
     ]
    }
   ],
   "source": [
    "print('''\n",
    "\n",
    "Exponent & Mantissa in Detail\n",
    "\n",
    "Exponent (E) \n",
    "\n",
    "The exponent determines the range of values.\n",
    "Instead of storing negative exponents, IEEE 754 uses a bias:\n",
    "\n",
    "For 32-bit float → Bias = 127\n",
    "For 64-bit double → Bias = 1023\n",
    "\n",
    "Stored Exponent = Actual Exponent + Bias\n",
    "\n",
    "Mantissa (Fraction) \n",
    "\n",
    "The mantissa stores the precision of the number.\n",
    "The leading 1 is always assumed in normalized numbers (called implicit leading bit).\n",
    "More bits in the mantissa → higher precision.\n",
    "\n",
    "''')"
   ]
  },
  {
   "cell_type": "code",
   "execution_count": 50,
   "id": "8f8e6069-7e11-429a-83c8-0942fcc57e77",
   "metadata": {},
   "outputs": [
    {
     "name": "stdout",
     "output_type": "stream",
     "text": [
      "01000000101110000000000000000000\n"
     ]
    }
   ],
   "source": [
    "import struct\n",
    "\n",
    "# Convert float to raw IEEE 754 binary representation\n",
    "def float_to_binary(num):\n",
    "    packed = struct.pack('!f', num)  # Convert to 4 bytes\n",
    "    binary = ''.join(f'{byte:08b}' for byte in packed)  # Convert to bits\n",
    "    return binary\n",
    "\n",
    "print(float_to_binary(5.75))  # Output: '01000000101110000000000000000000'"
   ]
  },
  {
   "cell_type": "code",
   "execution_count": 51,
   "id": "5f9f3a77-e376-4393-b23d-c170235a62d1",
   "metadata": {},
   "outputs": [
    {
     "name": "stdout",
     "output_type": "stream",
     "text": [
      "\n",
      "\n",
      "Breaking Down a Negative Floating-Point Number in IEEE 754\n",
      "\n",
      "Let's analyze how -5.75 is stored in IEEE 754 single-precision format (32-bit).\n",
      "\n",
      "1. IEEE 754 Structure Recap\n",
      "\n",
      "A 32-bit floating-point number consists of:\n",
      "\n",
      "Bit\tComponent\tPurpose\n",
      "1 bit\tSign bit (S)\t0 = Positive, 1 = Negative\n",
      "8 bits\tExponent (E)\tDetermines the scaling (power of 2)\n",
      "23 bits\tMantissa (Fraction) (M)\tStores the significant digits\n",
      "\n",
      "Now, let’s go step by step for -5.75.\n",
      "\n",
      "2. Convert -5.75 to Binary\n",
      "\n",
      "Step 1: Convert Absolute Value to Binary\n",
      "We first convert 5.75 to binary (ignoring the sign):\n",
      "\n",
      "5.75 = 5 + 0.75\n",
      "5 in binary = 101\n",
      "0.75 in binary = 0.11 (since 0.75 = 0.5 + 0.25 → 0.11 in binary)\n",
      "\n",
      "Thus, 5.75 in binary is: 101.11\n",
      "\n",
      "Step 2: Normalize into Scientific Notation\n",
      "To express in binary scientific notation:\n",
      "\n",
      "1.0111 × 2^2\n",
      "\n",
      "The mantissa is 0111 (fractional part after 1.).\n",
      "The exponent is 2.\n",
      "\n",
      "3. Encode the Sign, Exponent, and Mantissa\n",
      "\n",
      "Sign Bit (S)\n",
      "Since the number is negative, the sign bit is:\n",
      "\n",
      "Exponent (E) : The actual exponent is 2.\n",
      "\n",
      "IEEE 754 biases the exponent by 127:\n",
      "Stored Exponent = 2 + 127 = 129\n",
      "129 in binary = 10000001\n",
      "\n",
      "Mantissa (M)\n",
      "We drop the leading 1 (implicit bit) and keep the fraction:\n",
      "\n",
      "01110000000000000000000  (23 bits)\n",
      "\n",
      "4. Final IEEE 754 Representation\n",
      "\n",
      "Now we assemble the 32-bit IEEE 754 format:\n",
      "\n",
      "S       EEEEEEEE    MMMMMMMMMMMMMMMMMMMMMMM\n",
      "1       10000001    01110000000000000000000\n",
      "\n",
      "So, the binary representation of -5.75 in IEEE 754 single-precision format is:\n",
      "\n",
      "11000000101110000000000000000000\n",
      "\n",
      "Step 5: Convert to Hexadecimal\n",
      "\n",
      "Grouping into 4-bit chunks:\n",
      "1100 0000 1011 1000 0000 0000 0000 0000\n",
      "\n",
      "Convert to hex: 0xC0B80000\n",
      "\n",
      "Final IEEE 754 Encoded Value for -5.75\n",
      "Binary: 11000000101110000000000000000000\n",
      "\n",
      "\n"
     ]
    }
   ],
   "source": [
    "print('''\n",
    "\n",
    "Breaking Down a Negative Floating-Point Number in IEEE 754\n",
    "\n",
    "Let's analyze how -5.75 is stored in IEEE 754 single-precision format (32-bit).\n",
    "\n",
    "1. IEEE 754 Structure Recap\n",
    "\n",
    "A 32-bit floating-point number consists of:\n",
    "\n",
    "Bit\tComponent\tPurpose\n",
    "1 bit\tSign bit (S)\t0 = Positive, 1 = Negative\n",
    "8 bits\tExponent (E)\tDetermines the scaling (power of 2)\n",
    "23 bits\tMantissa (Fraction) (M)\tStores the significant digits\n",
    "\n",
    "Now, let’s go step by step for -5.75.\n",
    "\n",
    "2. Convert -5.75 to Binary\n",
    "\n",
    "Step 1: Convert Absolute Value to Binary\n",
    "We first convert 5.75 to binary (ignoring the sign):\n",
    "\n",
    "5.75 = 5 + 0.75\n",
    "5 in binary = 101\n",
    "0.75 in binary = 0.11 (since 0.75 = 0.5 + 0.25 → 0.11 in binary)\n",
    "\n",
    "Thus, 5.75 in binary is: 101.11\n",
    "\n",
    "Step 2: Normalize into Scientific Notation\n",
    "To express in binary scientific notation:\n",
    "\n",
    "1.0111 × 2^2\n",
    "\n",
    "The mantissa is 0111 (fractional part after 1.).\n",
    "The exponent is 2.\n",
    "\n",
    "3. Encode the Sign, Exponent, and Mantissa\n",
    "\n",
    "Sign Bit (S)\n",
    "Since the number is negative, the sign bit is:\n",
    "\n",
    "Exponent (E) : The actual exponent is 2.\n",
    "\n",
    "IEEE 754 biases the exponent by 127:\n",
    "Stored Exponent = 2 + 127 = 129\n",
    "129 in binary = 10000001\n",
    "\n",
    "Mantissa (M)\n",
    "We drop the leading 1 (implicit bit) and keep the fraction:\n",
    "\n",
    "01110000000000000000000  (23 bits)\n",
    "\n",
    "4. Final IEEE 754 Representation\n",
    "\n",
    "Now we assemble the 32-bit IEEE 754 format:\n",
    "\n",
    "S       EEEEEEEE    MMMMMMMMMMMMMMMMMMMMMMM\n",
    "1       10000001    01110000000000000000000\n",
    "\n",
    "So, the binary representation of -5.75 in IEEE 754 single-precision format is:\n",
    "\n",
    "11000000101110000000000000000000\n",
    "\n",
    "Step 5: Convert to Hexadecimal\n",
    "\n",
    "Grouping into 4-bit chunks:\n",
    "1100 0000 1011 1000 0000 0000 0000 0000\n",
    "\n",
    "Convert to hex: 0xC0B80000\n",
    "\n",
    "Final IEEE 754 Encoded Value for -5.75\n",
    "Binary: 11000000101110000000000000000000\n",
    "\n",
    "''')"
   ]
  },
  {
   "cell_type": "code",
   "execution_count": null,
   "id": "96e456e2-e086-48cd-a903-192866143223",
   "metadata": {},
   "outputs": [],
   "source": []
  }
 ],
 "metadata": {
  "kernelspec": {
   "display_name": "Python 3 (ipykernel)",
   "language": "python",
   "name": "python3"
  },
  "language_info": {
   "codemirror_mode": {
    "name": "ipython",
    "version": 3
   },
   "file_extension": ".py",
   "mimetype": "text/x-python",
   "name": "python",
   "nbconvert_exporter": "python",
   "pygments_lexer": "ipython3",
   "version": "3.12.7"
  }
 },
 "nbformat": 4,
 "nbformat_minor": 5
}
